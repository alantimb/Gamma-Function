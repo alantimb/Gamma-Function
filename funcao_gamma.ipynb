{
 "cells": [
  {
   "cell_type": "markdown",
   "metadata": {},
   "source": [
    "# Função Gama\n",
    "\n",
    "\n",
    "A Função Gama utilizada nesse programa tem como intuito receber os dados de posições e de doses de arquivos .csv, para tratá-los corretamente e aplicá-los em uma função matemática. \n",
    "\n",
    "Assim, seu retorno nos devolve os pontos como \"aprovados\" ou \"reprovados\", no sentido de verificar em quais pontos as doses são qualificadas, mediante comparação entre as calculadas e medidas."
   ]
  },
  {
   "cell_type": "code",
   "execution_count": 2,
   "metadata": {},
   "outputs": [],
   "source": [
    "import pandas as pd\n",
    "import numpy as np\n",
    "\n",
    "def Gamma_function(rc, rm, Dc, Dm):\n",
    "    '''\n",
    "    Função Gama que será utilizada ao longo do código,\n",
    "    recebendo como parâmetros as medidas de posições (cm) \n",
    "    e doses (cGy) calculadas e medidas. \n",
    "    '''\n",
    "    r_diff_x = abs(rc[0] - rm[0])\n",
    "    r_diff_y = abs(rc[1] - rm[1])\n",
    "    r_diff = np.sqrt(r_diff_x**2 + r_diff_y**2) # cálculo do módulo das posições\n",
    "    D_diff = Dc - Dm # diferença entre doses\n",
    "    \n",
    "    F_g = np.sqrt((r_diff/0.3)**2 + (D_diff/0.03)**2) # cálculo da função gamma\n",
    "\n",
    "    return F_g\n",
    "\n",
    "def position_module(row):\n",
    "    '''\n",
    "    Função para calcular o módulo de posição, que chama a\n",
    "    função Gamma já passando os parâmetros necessários.\n",
    "    '''\n",
    "    rm_x = row['Ponto Medido X (rm_x)']\n",
    "    rm_y = row['Ponto Medido Y (rm_y)']\n",
    "    rc_x = row['Ponto Calculado X (rc_x)']\n",
    "    rc_y = row['Ponto Calculado Y (rc_y)']\n",
    "    \n",
    "    rm = (rm_x, rm_y) # coordenadas da posição Rm\n",
    "    rc = (rc_x, rc_y) # coordenadas da posição Rc\n",
    "    \n",
    "    return Gamma_function(rc, rm, float(row['Dose Calculada (Dc)']), float(row['Dose Medida (Dm)']))"
   ]
  },
  {
   "cell_type": "markdown",
   "metadata": {},
   "source": [
    "# Teste com novos dados"
   ]
  },
  {
   "cell_type": "code",
   "execution_count": 15,
   "metadata": {},
   "outputs": [
    {
     "name": "stdout",
     "output_type": "stream",
     "text": [
      "<class 'pandas.core.frame.DataFrame'>\n",
      "RangeIndex: 875 entries, 0 to 874\n",
      "Data columns (total 7 columns):\n",
      " #   Column                    Non-Null Count  Dtype  \n",
      "---  ------                    --------------  -----  \n",
      " 0   TLD                       175 non-null    float64\n",
      " 1   Dose Medida (Dm)          875 non-null    float64\n",
      " 2   Dose Calculada (Dc)       875 non-null    float64\n",
      " 3   Ponto Medido X (rm_x)     875 non-null    float64\n",
      " 4   Ponto Medido Y (rm_y)     875 non-null    float64\n",
      " 5   Ponto Calculado X (rc_x)  875 non-null    float64\n",
      " 6   Ponto Calculado Y (rc_y)  875 non-null    float64\n",
      "dtypes: float64(7)\n",
      "memory usage: 48.0 KB\n"
     ]
    }
   ],
   "source": [
    "dados_planejados = \"./Matrizes das Simulações para o Programa - Cópia de Simulações - Agosto.csv\"\n",
    "\n",
    "df_planned = pd.read_csv(dados_planejados)\n",
    "\n",
    "df_planned.info()"
   ]
  },
  {
   "cell_type": "markdown",
   "metadata": {},
   "source": [
    "## *Medidas de Agosto/2022*\n",
    "\n",
    "* Abaixo se encontra a análise das 175 medidas realizadas em agosto/2022, onde previamente foram feitos os tratamentos dos dados, a utilização dos mesmos na função Gamma e a análise dos resultados."
   ]
  },
  {
   "cell_type": "markdown",
   "metadata": {},
   "source": [
    "#### Leitura dos dados\n",
    "\n",
    "* Lê os dados do arquivo .csv com os dados do mês de Agosto."
   ]
  },
  {
   "cell_type": "code",
   "execution_count": 42,
   "metadata": {},
   "outputs": [
    {
     "name": "stdout",
     "output_type": "stream",
     "text": [
      "<class 'pandas.core.frame.DataFrame'>\n",
      "RangeIndex: 175 entries, 0 to 174\n",
      "Data columns (total 4 columns):\n",
      " #   Column                Non-Null Count  Dtype \n",
      "---  ------                --------------  ----- \n",
      " 0   Ponto Medido (rm)     175 non-null    object\n",
      " 1   Ponto Calculado (rc)  175 non-null    object\n",
      " 2   Dose Medida (Dm)      175 non-null    object\n",
      " 3   Dose Calculada (Dc)   175 non-null    object\n",
      "dtypes: object(4)\n",
      "memory usage: 5.6+ KB\n",
      "None\n"
     ]
    }
   ],
   "source": [
    "# Leitura dos dados do mês de Agosto e criação do Dataframe\n",
    "august_data = './Tabelas para o Programa - Programa - Agosto.csv'\n",
    "df_augustData = pd.read_csv(august_data)\n",
    "\n",
    "# Informações do Dataframe dos dados\n",
    "print(df_augustData.info())"
   ]
  },
  {
   "cell_type": "markdown",
   "metadata": {},
   "source": [
    "#### Tratamento dos dados\n",
    "\n",
    "* Trata os dados do arquivo recebido padronizando a pontuação e dividindo as coordenadas X e Y em colunas diferentes."
   ]
  },
  {
   "cell_type": "code",
   "execution_count": 43,
   "metadata": {},
   "outputs": [],
   "source": [
    "# Dividir a coluna \"Ponto Medido (rm)\" em \"Ponto Medido X (rm_x)\" e \"Ponto Medido Y (rm_y)\"\n",
    "df_augustData[['Ponto Medido X (rm_x)', 'Ponto Medido Y (rm_y)']] = df_augustData['Ponto Medido (rm)'].str.split(',', expand=True)\n",
    "\n",
    "# Dividir a coluna \"Ponto Calculado (rc)\" em \"Ponto Calculado X (rc_x)\" e \"Ponto Calculado Y (rc_y)\"\n",
    "df_augustData[['Ponto Calculado X (rc_x)', 'Ponto Calculado Y (rc_y)']] = df_augustData['Ponto Calculado (rc)'].str.split(',', expand=True)\n",
    "\n",
    "# Converter as novas colunas para tipo numérico (float)\n",
    "df_augustData[['Ponto Medido X (rm_x)', 'Ponto Medido Y (rm_y)', 'Ponto Calculado X (rc_x)', 'Ponto Calculado Y (rc_y)']] = df_augustData[['Ponto Medido X (rm_x)', 'Ponto Medido Y (rm_y)', 'Ponto Calculado X (rc_x)', 'Ponto Calculado Y (rc_y)']].astype(float)\n",
    "\n",
    "# Excluir as colunas originais \"Ponto Medido (rm)\" e \"Ponto Calculado (rc)\" se desejar\n",
    "df_augustData.drop(['Ponto Medido (rm)', 'Ponto Calculado (rc)'], axis=1, inplace=True)\n",
    "\n",
    "# Substituir vírgulas por pontos nas colunas 'Dose Medida (Dm)' e 'Dose Calculada (Dc)'\n",
    "df_augustData['Dose Medida (Dm)'] = df_augustData['Dose Medida (Dm)'].str.replace(',', '.')\n",
    "df_augustData['Dose Calculada (Dc)'] = df_augustData['Dose Calculada (Dc)'].str.replace(',', '.')\n",
    "\n",
    "# Converter as colunas de Dose Medida e Dose Calculada para tipos numéricos\n",
    "df_augustData['Dose Medida (Dm)'] = pd.to_numeric(df_augustData['Dose Medida (Dm)'], errors='coerce')\n",
    "df_augustData['Dose Calculada (Dc)'] = pd.to_numeric(df_augustData['Dose Calculada (Dc)'], errors='coerce')"
   ]
  },
  {
   "cell_type": "markdown",
   "metadata": {},
   "source": [
    "#### Coluna Função Gamma\n",
    "\n",
    "* Adiciona a coluna Função Gamma à tabela com seus valores calculados, com os valores arredondados na primeira casa decimal."
   ]
  },
  {
   "cell_type": "code",
   "execution_count": 44,
   "metadata": {},
   "outputs": [],
   "source": [
    "# Aplicar a função position_module a cada linha do DataFrame\n",
    "df_augustData['Função Gama'] = df_augustData.apply(position_module, axis=1)"
   ]
  },
  {
   "cell_type": "code",
   "execution_count": 45,
   "metadata": {},
   "outputs": [],
   "source": [
    "# Arredondar os valores da coluna 'Função Gama' para 1 casa decimal\n",
    "df_augustData['Função Gama'] = df_augustData['Função Gama'].round(1)"
   ]
  },
  {
   "cell_type": "markdown",
   "metadata": {},
   "source": [
    "#### Análise dos valores obtidos\n",
    "\n",
    "* Retorna quais valores estão 'acima' e 'abaixo ou igual' a 1, classificando-os como 'pontos reprovados' e 'pontos aprovados', respectivamente. Também adiciona uma nova coluna à tabela com o 'Status' dos pontos."
   ]
  },
  {
   "cell_type": "code",
   "execution_count": 46,
   "metadata": {},
   "outputs": [],
   "source": [
    "# Contar quantos valores na coluna 'Função Gama' são maiores que 1\n",
    "maiores_que_um = (df_augustData['Função Gama'] > 1).sum()\n",
    "\n",
    "# Contar quantos valores na coluna 'Função Gama' são menores que 1\n",
    "menores_que_um = (df_augustData['Função Gama'] <= 1).sum()\n",
    "\n",
    "# Total de valores na coluna 'Função Gama'\n",
    "total_valores = len(df_augustData)\n",
    "\n",
    "# Calcular a porcentagem de valores maiores que 1\n",
    "porcentagem_maiores_que_um = (maiores_que_um / total_valores) * 100\n",
    "\n",
    "# Calcular a porcentagem de valores menores que 1\n",
    "porcentagem_menores_que_um = (menores_que_um / total_valores) * 100\n",
    "\n",
    "# Adicionar uma nova coluna com base nas condições\n",
    "df_augustData['Status'] = np.where(df_augustData['Função Gama'] > 1, 'ponto reprovado', 'ponto aprovado')"
   ]
  },
  {
   "cell_type": "code",
   "execution_count": 47,
   "metadata": {},
   "outputs": [
    {
     "name": "stdout",
     "output_type": "stream",
     "text": [
      "Valores referentes às medidas de Agosto\n",
      "Quantidade de valores aprovado, ou seja, menores ou iguais que 1: 2\n",
      "Quantidade de valores reprovados, ou seja, maiores que 1: 173\n",
      "\n",
      "Porcentagem de valores maiores que 1: 98.86%\n",
      "Porcentagem de valores menores que 1: 1.14%\n"
     ]
    }
   ],
   "source": [
    "# Imprimir os resultados\n",
    "print(\"Valores referentes às medidas de Agosto\")\n",
    "print(\"Quantidade de valores aprovado, ou seja, menores ou iguais que 1:\", menores_que_um)\n",
    "print(\"Quantidade de valores reprovados, ou seja, maiores que 1:\", maiores_que_um)\n",
    "print()\n",
    "print(f\"Porcentagem de valores maiores que 1: {porcentagem_maiores_que_um.round(2)}%\")\n",
    "print(f\"Porcentagem de valores menores que 1: {porcentagem_menores_que_um.round(2)}%\")"
   ]
  },
  {
   "cell_type": "markdown",
   "metadata": {},
   "source": [
    "#### Visualização dos dados tratados\n",
    "\n",
    "* Visualiza a situação final da tabela, já com os dados tratados e novas colunas."
   ]
  },
  {
   "cell_type": "code",
   "execution_count": 48,
   "metadata": {},
   "outputs": [
    {
     "name": "stdout",
     "output_type": "stream",
     "text": [
      "   Dose Medida (Dm)  Dose Calculada (Dc)  Ponto Medido X (rm_x)  \\\n",
      "0              50.3                 51.3                    1.8   \n",
      "1              51.4                 51.7                    0.9   \n",
      "2              51.5                 51.7                    0.0   \n",
      "3              51.2                 51.7                   -0.9   \n",
      "4              50.8                 51.3                   -1.8   \n",
      "\n",
      "   Ponto Medido Y (rm_y)  Ponto Calculado X (rc_x)  Ponto Calculado Y (rc_y)  \\\n",
      "0                    1.8                       1.8                       1.8   \n",
      "1                    1.8                       0.9                       1.8   \n",
      "2                    1.8                       0.0                       1.8   \n",
      "3                    1.8                      -0.9                       1.8   \n",
      "4                    1.8                      -1.8                       1.8   \n",
      "\n",
      "   Função Gama           Status  \n",
      "0         33.3  ponto reprovado  \n",
      "1         10.0  ponto reprovado  \n",
      "2          6.7  ponto reprovado  \n",
      "3         16.7  ponto reprovado  \n",
      "4         16.7  ponto reprovado  \n"
     ]
    }
   ],
   "source": [
    "# Visualizar o DataFrame com os devidos tratamentos\n",
    "print(df_augustData.head(5))"
   ]
  },
  {
   "cell_type": "markdown",
   "metadata": {},
   "source": [
    "## *Medidas de Fevereiro/2023*\n",
    "\n",
    "* Abaixo se encontra a análise das 175 medidas realizadas em fevereiro/2023\n",
    ", onde previamente foram feitos os tratamentos dos dados, a utilização dos mesmos na função Gamma e a análise dos resultados."
   ]
  },
  {
   "cell_type": "markdown",
   "metadata": {},
   "source": [
    "#### Leitura dos dados\n",
    "\n",
    "* Lê os dados do arquivo .csv com os dados do mês de Agosto."
   ]
  },
  {
   "cell_type": "code",
   "execution_count": 49,
   "metadata": {},
   "outputs": [
    {
     "name": "stdout",
     "output_type": "stream",
     "text": [
      "  Ponto Medido (rm) Ponto Calculado (rc) Dose Medida (Dm) Dose Calculada (Dc)\n",
      "0           1.8,1.8              1.8,1.8             50,7                51,3\n",
      "1           0.9,1.8              0.9,1.8             51,6                51,7\n",
      "2           0.0,1.8              0.0,1.8             51,3                51,7\n",
      "3          -0.9,1.8             -0.9,1.8             51,2                51,7\n",
      "4          -1.8,1.8             -1.8,1.8             50,8                51,3\n"
     ]
    }
   ],
   "source": [
    "# Leitura dos dados do mês de Agosto e criação do Dataframe\n",
    "february_data = './Tabelas para o Programa - Programa - Fevereiro.csv'\n",
    "df_februaryData = pd.read_csv(february_data)\n",
    "\n",
    "# Informações do Dataframe dos dados\n",
    "print(df_februaryData.head())"
   ]
  },
  {
   "cell_type": "markdown",
   "metadata": {},
   "source": [
    "#### Tratamento dos dados\n",
    "\n",
    "* Trata os dados do arquivo recebido padronizando a pontuação e dividindo as coordenadas X e Y em colunas diferentes."
   ]
  },
  {
   "cell_type": "code",
   "execution_count": 50,
   "metadata": {},
   "outputs": [],
   "source": [
    "# Dividir a coluna \"Ponto Medido (rm)\" em \"Ponto Medido X (rm_x)\" e \"Ponto Medido Y (rm_y)\"\n",
    "df_februaryData[['Ponto Medido X (rm_x)', 'Ponto Medido Y (rm_y)']] = df_februaryData['Ponto Medido (rm)'].str.split(',', expand=True)\n",
    "\n",
    "# Dividir a coluna \"Ponto Calculado (rc)\" em \"Ponto Calculado X (rc_x)\" e \"Ponto Calculado Y (rc_y)\"\n",
    "df_februaryData[['Ponto Calculado X (rc_x)', 'Ponto Calculado Y (rc_y)']] = df_februaryData['Ponto Calculado (rc)'].str.split(',', expand=True)\n",
    "\n",
    "# Converter as novas colunas para tipo numérico (float)\n",
    "df_februaryData[['Ponto Medido X (rm_x)', 'Ponto Medido Y (rm_y)', 'Ponto Calculado X (rc_x)', 'Ponto Calculado Y (rc_y)']] = df_februaryData[['Ponto Medido X (rm_x)', 'Ponto Medido Y (rm_y)', 'Ponto Calculado X (rc_x)', 'Ponto Calculado Y (rc_y)']].astype(float)\n",
    "\n",
    "# Excluir as colunas originais \"Ponto Medido (rm)\" e \"Ponto Calculado (rc)\" se desejar\n",
    "df_februaryData.drop(['Ponto Medido (rm)', 'Ponto Calculado (rc)'], axis=1, inplace=True)\n",
    "\n",
    "# Substituir vírgulas por pontos nas colunas 'Dose Medida (Dm)' e 'Dose Calculada (Dc)'\n",
    "df_februaryData['Dose Medida (Dm)'] = df_februaryData['Dose Medida (Dm)'].str.replace(',', '.')\n",
    "df_februaryData['Dose Calculada (Dc)'] = df_februaryData['Dose Calculada (Dc)'].str.replace(',', '.')\n",
    "\n",
    "# Converter as colunas de Dose Medida e Dose Calculada para tipos numéricos\n",
    "df_februaryData['Dose Medida (Dm)'] = pd.to_numeric(df_februaryData['Dose Medida (Dm)'], errors='coerce')\n",
    "df_februaryData['Dose Calculada (Dc)'] = pd.to_numeric(df_februaryData['Dose Calculada (Dc)'], errors='coerce')"
   ]
  },
  {
   "cell_type": "markdown",
   "metadata": {},
   "source": [
    "#### Coluna Função Gamma\n",
    "\n",
    "* Adiciona a coluna Função Gamma à tabela com seus valores calculados, com os valores arredondados na primeira casa decimal."
   ]
  },
  {
   "cell_type": "code",
   "execution_count": 51,
   "metadata": {},
   "outputs": [],
   "source": [
    "# Aplicar a função position_module a cada linha do DataFrame\n",
    "df_februaryData['Função Gama'] = df_februaryData.apply(position_module, axis=1)"
   ]
  },
  {
   "cell_type": "code",
   "execution_count": 52,
   "metadata": {},
   "outputs": [],
   "source": [
    "# Arredondar os valores da coluna 'Função Gama' para 1 casa decimal\n",
    "df_februaryData['Função Gama'] = df_februaryData['Função Gama'].round(1)"
   ]
  },
  {
   "cell_type": "markdown",
   "metadata": {},
   "source": [
    "#### Análise dos valores obtidos\n",
    "\n",
    "* Retorna quais valores estão 'acima' e 'abaixo ou igual' a 1, classificando-os como 'pontos reprovados' e 'pontos aprovados', respectivamente. Também adiciona uma nova coluna à tabela com o 'Status' dos pontos."
   ]
  },
  {
   "cell_type": "code",
   "execution_count": 53,
   "metadata": {},
   "outputs": [],
   "source": [
    "# Contar quantos valores na coluna 'Função Gama' são maiores que 1\n",
    "maiores_que_um = (df_februaryData['Função Gama'] > 1).sum()\n",
    "\n",
    "# Contar quantos valores na coluna 'Função Gama' são menores que 1\n",
    "menores_que_um = (df_februaryData['Função Gama'] < 1).sum()\n",
    "\n",
    "# Total de valores na coluna 'Função Gama'\n",
    "total_valores = len(df_februaryData)\n",
    "\n",
    "# Calcular a porcentagem de valores maiores que 1\n",
    "porcentagem_maiores_que_um = (maiores_que_um / total_valores) * 100\n",
    "\n",
    "# Calcular a porcentagem de valores menores que 1\n",
    "porcentagem_menores_que_um = (menores_que_um / total_valores) * 100\n",
    "\n",
    "# Adicionar uma nova coluna com base nas condições\n",
    "df_februaryData['Status'] = np.where(df_februaryData['Função Gama'] > 1, 'ponto reprovado', 'ponto aprovado')"
   ]
  },
  {
   "cell_type": "code",
   "execution_count": 54,
   "metadata": {},
   "outputs": [
    {
     "name": "stdout",
     "output_type": "stream",
     "text": [
      "Valores referentes às medidas de Fevereiro\n",
      "Quantidade de valores aprovado, ou seja, menores que 1: 3\n",
      "Quantidade de valores reprovados, ou seja, maiores que 1: 172\n",
      "\n",
      "Porcentagem de valores maiores que 1: 98.29%\n",
      "Porcentagem de valores menores que 1: 1.71%\n"
     ]
    }
   ],
   "source": [
    "# Imprimir os resultados\n",
    "print(\"Valores referentes às medidas de Fevereiro\")\n",
    "print(\"Quantidade de valores aprovado, ou seja, menores que 1:\", menores_que_um)\n",
    "print(\"Quantidade de valores reprovados, ou seja, maiores que 1:\", maiores_que_um)\n",
    "print()\n",
    "print(f\"Porcentagem de valores maiores que 1: {porcentagem_maiores_que_um.round(2)}%\")\n",
    "print(f\"Porcentagem de valores menores que 1: {porcentagem_menores_que_um.round(2)}%\")\n",
    "\n"
   ]
  },
  {
   "cell_type": "markdown",
   "metadata": {},
   "source": [
    "#### Visualização dos dados tratados\n",
    "\n",
    "* Visualiza a situação final da tabela, já com os dados tratados e novas colunas."
   ]
  },
  {
   "cell_type": "code",
   "execution_count": 61,
   "metadata": {},
   "outputs": [
    {
     "name": "stdout",
     "output_type": "stream",
     "text": [
      "   Dose Medida (Dm)  Dose Calculada (Dc)  Ponto Medido X (rm_x)  \\\n",
      "0              50.7                 51.3                    1.8   \n",
      "1              51.6                 51.7                    0.9   \n",
      "2              51.3                 51.7                    0.0   \n",
      "3              51.2                 51.7                   -0.9   \n",
      "4              50.8                 51.3                   -1.8   \n",
      "\n",
      "   Ponto Medido Y (rm_y)  Ponto Calculado X (rc_x)  Ponto Calculado Y (rc_y)  \\\n",
      "0                    1.8                       1.8                       1.8   \n",
      "1                    1.8                       0.9                       1.8   \n",
      "2                    1.8                       0.0                       1.8   \n",
      "3                    1.8                      -0.9                       1.8   \n",
      "4                    1.8                      -1.8                       1.8   \n",
      "\n",
      "   Função Gama           Status  \n",
      "0         20.0  ponto reprovado  \n",
      "1          3.3  ponto reprovado  \n",
      "2         13.3  ponto reprovado  \n",
      "3         16.7  ponto reprovado  \n",
      "4         16.7  ponto reprovado  \n"
     ]
    }
   ],
   "source": [
    "# Visualizar o DataFrame com os devidos tratamentos\n",
    "print(df_februaryData.head())"
   ]
  },
  {
   "cell_type": "markdown",
   "metadata": {},
   "source": [
    "## *Salvando os Resultados*\n",
    "\n",
    "* Abaixo, os resultados são salvos em um arquivo no formato Excel, com os resultados de cada mês em uma aba diferente"
   ]
  },
  {
   "cell_type": "code",
   "execution_count": 56,
   "metadata": {},
   "outputs": [],
   "source": [
    "# Criando um arquivo 'resultados_analises_programa.xlsx' em formato Excel, que conterá duas abas, uma para cada DataFrame\n",
    "with pd.ExcelWriter('resultados_analises_programa.xlsx', engine='xlsxwriter') as writer:\n",
    "    # Salvando o primeiro DataFrame (Agosto)) em uma aba chamada 'Resultados - Agosto'\n",
    "    df_augustData.to_excel(writer, sheet_name='Resultados - Agosto', index=False)\n",
    "\n",
    "    # Salvando o segundo DataFrame (Fevereiro) em uma aba chamada 'Resultados - Fevereiro'\n",
    "    df_februaryData.to_excel(writer, sheet_name='Resultados - Fevereiro', index=False)"
   ]
  }
 ],
 "metadata": {
  "kernelspec": {
   "display_name": "Python 3",
   "language": "python",
   "name": "python3"
  },
  "language_info": {
   "codemirror_mode": {
    "name": "ipython",
    "version": 3
   },
   "file_extension": ".py",
   "mimetype": "text/x-python",
   "name": "python",
   "nbconvert_exporter": "python",
   "pygments_lexer": "ipython3",
   "version": "3.10.12"
  },
  "orig_nbformat": 4
 },
 "nbformat": 4,
 "nbformat_minor": 2
}
