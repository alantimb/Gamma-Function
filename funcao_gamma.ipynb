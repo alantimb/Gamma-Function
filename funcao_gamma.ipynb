{
 "cells": [
  {
   "cell_type": "markdown",
   "metadata": {},
   "source": [
    "# Função Gama\n",
    "\n",
    "\n",
    "A Função Gama utilizada nesse programa tem como intuito receber os dados de posições e de doses de arquivos .csv, para tratá-los corretamente e aplicá-los em uma função matemática. \n",
    "\n",
    "Assim, seu retorno nos devolve os pontos como \"aprovados\" ou \"reprovados\", no sentido de verificar em quais pontos as doses são qualificadas, mediante comparação entre as calculadas e medidas."
   ]
  },
  {
   "cell_type": "code",
   "execution_count": 5,
   "metadata": {},
   "outputs": [],
   "source": [
    "# Valores de input da diferença percentual de doses e DTA\n",
    "delta_Dm = float(input(\"Insira aqui a diferença percentual de dose: \"))\n",
    "delta_dM = float(input(\"Insira agora o valor de DTA: \"))"
   ]
  },
  {
   "cell_type": "code",
   "execution_count": 6,
   "metadata": {},
   "outputs": [],
   "source": [
    "import pandas as pd\n",
    "import numpy as np\n",
    "\n",
    "def gamma_index_function(rc, rm, Dc, Dm, max_Dm):\n",
    "    '''\n",
    "    Função Gama que será utilizada ao longo do código,\n",
    "    recebendo como parâmetros as medidas de posições (cm) \n",
    "    e doses (cGy) calculadas e medidas. \n",
    "    '''\n",
    "    r_diff_x = np.sqrt(rc[0]**2 + rc[1]**2)\n",
    "    r_diff_y = np.sqrt(rm[0]**2 + rm[1]**2)\n",
    "    r_diff = abs(r_diff_x - r_diff_y) # cálculo do módulo das posições\n",
    "    D_diff = abs(Dc - Dm)/(max_Dm) # diferença entre doses\n",
    "    \n",
    "    F_g = np.sqrt((r_diff/delta_dM)**2 + (D_diff/delta_Dm)**2) # cálculo da função gamma\n",
    "\n",
    "    return F_g\n",
    "\n",
    "def position_module(row, max_Dm):\n",
    "    '''\n",
    "    Função para calcular o módulo de posição, que chama a\n",
    "    função Gamma já passando os parâmetros necessários.\n",
    "    '''\n",
    "    rm_x = row['Ponto Medido X (rm_x)']\n",
    "    rm_y = row['Ponto Medido Y (rm_y)']\n",
    "    rc_x = row['Ponto Calculado X (rc_x)']\n",
    "    rc_y = row['Ponto Calculado Y (rc_y)']\n",
    "    \n",
    "    rm = (rm_x, rm_y) # coordenadas da posição Rm\n",
    "    rc = (rc_x, rc_y) # coordenadas da posição Rc\n",
    "    \n",
    "    return gamma_index_function(rc, rm, float(row['Dose Calculada (Dc)']), float(row['Dose Medida (Dm)']), max_Dm)"
   ]
  },
  {
   "cell_type": "markdown",
   "metadata": {},
   "source": [
    "## *Medidas de Agosto/2022*\n",
    "\n",
    "* Abaixo se encontra a análise dos 25 medidos realizadas em agosto/2022, onde foram calculados os valores de gamma-index dos 49 pontos calculados sobre e na vizinhança de cada ponto medido,\n",
    "* Também foi feita a análise dos resultados a partir dos valores de menor gamma-index destes valores."
   ]
  },
  {
   "cell_type": "markdown",
   "metadata": {},
   "source": [
    "### Resultados - 1ª Simulação"
   ]
  },
  {
   "cell_type": "markdown",
   "metadata": {},
   "source": [
    "#### Leitura dos dados\n",
    "\n",
    "* Lê os dados do arquivo .csv com os dados do mês de Agosto."
   ]
  },
  {
   "cell_type": "code",
   "execution_count": 203,
   "metadata": {},
   "outputs": [
    {
     "name": "stdout",
     "output_type": "stream",
     "text": [
      "<class 'pandas.core.frame.DataFrame'>\n",
      "RangeIndex: 1225 entries, 0 to 1224\n",
      "Data columns (total 7 columns):\n",
      " #   Column                    Non-Null Count  Dtype  \n",
      "---  ------                    --------------  -----  \n",
      " 0   TLD                       25 non-null     float64\n",
      " 1   Dose Medida (Dm)          1225 non-null   int64  \n",
      " 2   Dose Calculada (Dc)       1225 non-null   int64  \n",
      " 3   Ponto Medido X (rm_x)     1225 non-null   int64  \n",
      " 4   Ponto Medido Y (rm_y)     1225 non-null   int64  \n",
      " 5   Ponto Calculado X (rc_x)  1225 non-null   int64  \n",
      " 6   Ponto Calculado Y (rc_y)  1225 non-null   int64  \n",
      "dtypes: float64(1), int64(6)\n",
      "memory usage: 67.1 KB\n",
      "None\n"
     ]
    }
   ],
   "source": [
    "# Leitura dos dados do mês de Agosto refente à 1ª Simulação e criação do Dataframe\n",
    "august_data_sim_1 = './Agosto_22/Matrizes das Simulações para o Programa - Simulação 1 - Agosto.csv'\n",
    "df_augustData_sim_1 = pd.read_csv(august_data_sim_1)\n",
    "\n",
    "# Informações do Dataframe dos dados\n",
    "print(df_augustData_sim_1.info())"
   ]
  },
  {
   "cell_type": "markdown",
   "metadata": {},
   "source": [
    "#### Valores de Gamma-Index\n",
    "\n",
    "* Analisa os 49 pontos calculados para cada ponto medido calculando o gamma-index para cada um desses pontos,\n",
    "* Retorna o menor gamma-index dos calculados para cada ponto medido, com seu respectivo ponto medido."
   ]
  },
  {
   "cell_type": "code",
   "execution_count": 8,
   "metadata": {},
   "outputs": [],
   "source": [
    "# Obtém o valor máximo dentre as doses medidas\n",
    "max_Dm = df_augustData_sim_1['Dose Medida (Dm)'].max()\n",
    "\n",
    "# Criação do dicionário que irá salvar os valores gamma-index para cada ponto\n",
    "gamma_index_aug_1 = {}"
   ]
  },
  {
   "cell_type": "code",
   "execution_count": 9,
   "metadata": {},
   "outputs": [],
   "source": [
    "# Calcula os valores de gamma-index de cada ponto e salva no dicionário os menores valores\n",
    "for i in range(0, len(df_augustData_sim_1), 49):\n",
    "    group_df = df_augustData_sim_1.iloc[i:i+49]  # Selecionar grupo de 49 pontos\n",
    "    min_gamma = group_df.apply(lambda row: position_module(row, max_Dm), axis=1).min()\n",
    "       \n",
    "    # Salva o menor valor de gamma-index no dicionário\n",
    "    x_coord = group_df.iloc[0]['Ponto Medido X (rm_x)']\n",
    "    y_coord = group_df.iloc[0]['Ponto Medido Y (rm_y)']\n",
    "    gamma_index_aug_1['{},{}'.format(x_coord, y_coord)] = min_gamma.round(2)"
   ]
  },
  {
   "cell_type": "markdown",
   "metadata": {},
   "source": [
    "#### Análise dos valores obtidos\n",
    "\n",
    "* Retorna quais valores estão 'acima' e 'abaixo ou igual' a 1, classificando-os como 'pontos reprovados' e 'pontos aprovados', respectivamente,\n",
    "* Também cria um dataframe dos pontos analisados com seus respectivos gamma-index."
   ]
  },
  {
   "cell_type": "code",
   "execution_count": 10,
   "metadata": {},
   "outputs": [],
   "source": [
    "# Contar a quantidade de valores menores ou iguais a 1 e a quantidade de valores maiores que 1\n",
    "menores_ou_iguais_que_um = sum(1 for valor in gamma_index_aug_1.values() if valor <= 1)\n",
    "\n",
    "maiores_que_um = sum(1 for valor in gamma_index_aug_1.values() if valor > 1)\n",
    "\n",
    "# Total de valores do gamma-index\n",
    "total_valores = len(gamma_index_aug_1)\n",
    "\n",
    "# Calcular as porcentagens dos valores acima\n",
    "porcentagem_menores_que_um = (menores_ou_iguais_que_um / total_valores) * 100\n",
    "\n",
    "porcentagem_maiores_que_um = (maiores_que_um / total_valores) * 100"
   ]
  },
  {
   "cell_type": "code",
   "execution_count": 11,
   "metadata": {},
   "outputs": [
    {
     "name": "stdout",
     "output_type": "stream",
     "text": [
      "Valores referentes às medidas da 1ª Simulação de Agosto\n",
      "\n",
      "Total de pontos analisados: 25\n",
      "Diferença de percentual de dose: 3.0%\n",
      "DTA utilizado: 3.0 mm\n",
      "\n",
      "Quantidade de valores aprovados, ou seja, menores ou iguais a um: 25\n",
      "Quantidade de valores reprovados, ou seja, maiores que um: 0\n",
      "\n",
      "Porcentagem de valores aprovados: 100.0%\n",
      "Porcentagem de valores reprovados: 0.0%\n"
     ]
    }
   ],
   "source": [
    "# Imprimir os resultados\n",
    "print(\"Valores referentes às medidas da 1ª Simulação de Agosto\")\n",
    "print()\n",
    "print(\"Total de pontos analisados:\", total_valores)\n",
    "print(f\"Diferença de percentual de dose: {delta_Dm*100}%\")\n",
    "print(f\"DTA utilizado: {delta_dM} mm\")\n",
    "print()\n",
    "print(\"Quantidade de valores aprovados, ou seja, menores ou iguais a um:\", menores_ou_iguais_que_um)\n",
    "print(\"Quantidade de valores reprovados, ou seja, maiores que um:\", maiores_que_um)\n",
    "print()\n",
    "print(f\"Porcentagem de valores aprovados: {porcentagem_menores_que_um}%\")\n",
    "print(f\"Porcentagem de valores reprovados: {porcentagem_maiores_que_um}%\")"
   ]
  },
  {
   "cell_type": "markdown",
   "metadata": {},
   "source": [
    "#### Visualização dos dados tratados\n",
    "\n",
    "* Visualiza tabela final para cada simulação, com os pontos medido e seu menor valor de gamma-index calculado."
   ]
  },
  {
   "cell_type": "code",
   "execution_count": 12,
   "metadata": {},
   "outputs": [],
   "source": [
    "# Cria um dataframe para os valores obtidos da primeira simulação\n",
    "df_augustGammaIndex_sim_1 = pd.DataFrame(list(gamma_index_aug_1.items()), columns=['Pontos Medidos (X,Y)', 'Gamma Index'])"
   ]
  },
  {
   "cell_type": "code",
   "execution_count": 13,
   "metadata": {},
   "outputs": [
    {
     "name": "stdout",
     "output_type": "stream",
     "text": [
      "   Pontos Medidos (X,Y)  Gamma Index\n",
      "0             18.0,18.0         0.12\n",
      "1              9.0,18.0         0.07\n",
      "2              0.0,18.0         0.20\n",
      "3             -9.0,18.0         0.19\n",
      "4            -18.0,18.0         0.12\n",
      "5              18.0,9.0         0.25\n",
      "6               9.0,9.0         0.26\n",
      "7               0.0,9.0         0.15\n",
      "8              -9.0,9.0         0.58\n",
      "9             -18.0,9.0         0.16\n",
      "10             18.0,0.0         0.08\n",
      "11              9.0,0.0         0.40\n",
      "12              0.0,0.0         0.07\n",
      "13             -9.0,0.0         0.31\n",
      "14            -18.0,0.0         0.55\n",
      "15            18.0,-9.0         0.22\n",
      "16             9.0,-9.0         0.63\n",
      "17             0.0,-9.0         0.17\n",
      "18            -9.0,-9.0         0.58\n",
      "19           -18.0,-9.0         0.26\n",
      "20           18.0,-18.0         0.13\n",
      "21            9.0,-18.0         0.16\n",
      "22            0.0,-18.0         0.13\n",
      "23           -9.0,-18.0         0.32\n",
      "24          -18.0,-18.0         0.05\n"
     ]
    }
   ],
   "source": [
    "# Visualiza o DataFrame com os devidos tratamentos\n",
    "print(df_augustGammaIndex_sim_1.head(25))"
   ]
  },
  {
   "cell_type": "markdown",
   "metadata": {},
   "source": [
    "### Resultados - 2ª Simulação"
   ]
  },
  {
   "cell_type": "markdown",
   "metadata": {},
   "source": [
    "#### Leitura dos dados\n",
    "\n",
    "* Lê os dados do arquivo .csv com os dados do mês de Agosto."
   ]
  },
  {
   "cell_type": "code",
   "execution_count": 14,
   "metadata": {},
   "outputs": [
    {
     "name": "stdout",
     "output_type": "stream",
     "text": [
      "<class 'pandas.core.frame.DataFrame'>\n",
      "RangeIndex: 1225 entries, 0 to 1224\n",
      "Data columns (total 7 columns):\n",
      " #   Column                    Non-Null Count  Dtype  \n",
      "---  ------                    --------------  -----  \n",
      " 0   TLD                       25 non-null     float64\n",
      " 1   Dose Medida (Dm)          1225 non-null   int64  \n",
      " 2   Dose Calculada (Dc)       1225 non-null   int64  \n",
      " 3   Ponto Medido X (rm_x)     1225 non-null   int64  \n",
      " 4   Ponto Medido Y (rm_y)     1225 non-null   int64  \n",
      " 5   Ponto Calculado X (rc_x)  1225 non-null   int64  \n",
      " 6   Ponto Calculado Y (rc_y)  1225 non-null   int64  \n",
      "dtypes: float64(1), int64(6)\n",
      "memory usage: 67.1 KB\n",
      "None\n"
     ]
    }
   ],
   "source": [
    "# Leitura dos dados do mês de Agosto refente à 1ª Simulação e criação do Dataframe\n",
    "august_data_sim_2 = './Agosto_22/Matrizes das Simulações para o Programa - Simulação 2 - Agosto.csv'\n",
    "df_augustData_sim_2 = pd.read_csv(august_data_sim_2)\n",
    "\n",
    "# Informações do Dataframe dos dados\n",
    "print(df_augustData_sim_2.info())"
   ]
  },
  {
   "cell_type": "markdown",
   "metadata": {},
   "source": [
    "#### Valores de Gamma-Index\n",
    "\n",
    "* Analisa os 49 pontos calculados para cada ponto medido calculando o gamma-index para cada um desses pontos,\n",
    "* Retorna o menor gamma-index dos calculados para cada ponto medido, com seu respectivo ponto medido."
   ]
  },
  {
   "cell_type": "code",
   "execution_count": 15,
   "metadata": {},
   "outputs": [],
   "source": [
    "# Obtém o valor máximo dentre as doses medidas\n",
    "max_Dm = df_augustData_sim_2['Dose Medida (Dm)'].max()\n",
    "\n",
    "# Criação do dicionário que irá salvar os valores gamma-index para cada ponto\n",
    "gamma_index_aug_2 = {}"
   ]
  },
  {
   "cell_type": "code",
   "execution_count": 16,
   "metadata": {},
   "outputs": [],
   "source": [
    "# Calcula os valores de gamma-index de cada ponto e salva no dicionário os menores valores\n",
    "for i in range(0, len(df_augustData_sim_2), 49):\n",
    "    group_df = df_augustData_sim_2.iloc[i:i+49]  # Selecionar grupo de 49 pontos\n",
    "    min_gamma = group_df.apply(lambda row: position_module(row, max_Dm), axis=1).min()\n",
    "       \n",
    "    # Salva o menor valor de gamma-index no dicionário\n",
    "    x_coord = group_df.iloc[0]['Ponto Medido X (rm_x)']\n",
    "    y_coord = group_df.iloc[0]['Ponto Medido Y (rm_y)']\n",
    "    gamma_index_aug_2['{},{}'.format(x_coord, y_coord)] = min_gamma.round(2)"
   ]
  },
  {
   "cell_type": "markdown",
   "metadata": {},
   "source": [
    "#### Análise dos valores obtidos\n",
    "\n",
    "* Retorna quais valores estão 'acima' e 'abaixo ou igual' a 1, classificando-os como 'pontos reprovados' e 'pontos aprovados', respectivamente,\n",
    "* Também cria um dataframe dos pontos analisados com seus respectivos gamma-index."
   ]
  },
  {
   "cell_type": "code",
   "execution_count": 112,
   "metadata": {},
   "outputs": [],
   "source": [
    "# Contar a quantidade de valores menores ou iguais a 1 e a quantidade de valores maiores que 1\n",
    "menores_ou_iguais_que_um = sum(1 for valor in gamma_index_aug_2.values() if valor <= 1)\n",
    "\n",
    "maiores_que_um = sum(1 for valor in gamma_index_aug_2.values() if valor > 1)\n",
    "\n",
    "# Total de valores do gamma-index\n",
    "total_valores = len(gamma_index_aug_2)\n",
    "\n",
    "# Calcular as porcentagens dos valores acima\n",
    "porcentagem_menores_que_um = (menores_ou_iguais_que_um / total_valores) * 100\n",
    "\n",
    "porcentagem_maiores_que_um = (maiores_que_um / total_valores) * 100"
   ]
  },
  {
   "cell_type": "code",
   "execution_count": 113,
   "metadata": {},
   "outputs": [
    {
     "name": "stdout",
     "output_type": "stream",
     "text": [
      "Valores referentes às medidas da 2ª Simulação de Agosto\n",
      "\n",
      "Total de pontos analisados: 25\n",
      "Diferença de percentual de dose: 3.0%\n",
      "DTA utilizado: 3.0 mm\n",
      "\n",
      "Quantidade de valores aprovados, ou seja, menores ou iguais a um: 23\n",
      "Quantidade de valores reprovados, ou seja, maiores que um: 2\n",
      "\n",
      "Porcentagem de valores aprovados: 92.0%\n",
      "Porcentagem de valores reprovados: 8.0%\n"
     ]
    }
   ],
   "source": [
    "# Imprimir os resultados\n",
    "print(\"Valores referentes às medidas da 2ª Simulação de Agosto\")\n",
    "print()\n",
    "print(\"Total de pontos analisados:\", total_valores)\n",
    "print(f\"Diferença de percentual de dose: {delta_Dm*100}%\")\n",
    "print(f\"DTA utilizado: {delta_dM} mm\")\n",
    "print()\n",
    "print(\"Quantidade de valores aprovados, ou seja, menores ou iguais a um:\", menores_ou_iguais_que_um)\n",
    "print(\"Quantidade de valores reprovados, ou seja, maiores que um:\", maiores_que_um)\n",
    "print()\n",
    "print(f\"Porcentagem de valores aprovados: {porcentagem_menores_que_um}%\")\n",
    "print(f\"Porcentagem de valores reprovados: {porcentagem_maiores_que_um}%\")"
   ]
  },
  {
   "cell_type": "markdown",
   "metadata": {},
   "source": [
    "#### Visualização dos dados tratados\n",
    "\n",
    "* Visualiza tabela final para cada simulação, com os pontos medido e seu menor valor de gamma-index calculado."
   ]
  },
  {
   "cell_type": "code",
   "execution_count": 114,
   "metadata": {},
   "outputs": [],
   "source": [
    "# Cria um dataframe para os valores obtidos da primeira simulação\n",
    "df_augustGammaIndex_sim_2 = pd.DataFrame(list(gamma_index_aug_2.items()), columns=['Pontos Medidos (X,Y)', 'Gamma Index'])"
   ]
  },
  {
   "cell_type": "code",
   "execution_count": 115,
   "metadata": {},
   "outputs": [
    {
     "name": "stdout",
     "output_type": "stream",
     "text": [
      "   Pontos Medidos (X,Y)  Gamma Index\n",
      "0             18.0,18.0         0.08\n",
      "1              9.0,18.0         0.12\n",
      "2              0.0,18.0         1.05\n",
      "3             -9.0,18.0         0.10\n",
      "4            -18.0,18.0         0.01\n",
      "5              18.0,9.0         0.00\n",
      "6               9.0,9.0         0.08\n",
      "7               0.0,9.0         1.03\n",
      "8              -9.0,9.0         0.03\n",
      "9             -18.0,9.0         0.04\n",
      "10             18.0,0.0         0.17\n",
      "11              9.0,0.0         0.08\n",
      "12              0.0,0.0         0.81\n",
      "13             -9.0,0.0         0.25\n",
      "14            -18.0,0.0         0.11\n",
      "15            18.0,-9.0         0.04\n",
      "16             9.0,-9.0         0.09\n",
      "17             0.0,-9.0         0.74\n",
      "18            -9.0,-9.0         0.07\n",
      "19           -18.0,-9.0         0.02\n",
      "20           18.0,-18.0         0.06\n",
      "21            9.0,-18.0         0.11\n",
      "22            0.0,-18.0         0.70\n",
      "23           -9.0,-18.0         0.13\n",
      "24          -18.0,-18.0         0.13\n"
     ]
    }
   ],
   "source": [
    "# Visualiza o DataFrame com os devidos tratamentos\n",
    "print(df_augustGammaIndex_sim_2.head(25))"
   ]
  },
  {
   "cell_type": "markdown",
   "metadata": {},
   "source": [
    "### Resultados - 3ª Simulação"
   ]
  },
  {
   "cell_type": "markdown",
   "metadata": {},
   "source": [
    "#### Leitura dos dados\n",
    "\n",
    "* Lê os dados do arquivo .csv com os dados do mês de Agosto."
   ]
  },
  {
   "cell_type": "code",
   "execution_count": 116,
   "metadata": {},
   "outputs": [
    {
     "name": "stdout",
     "output_type": "stream",
     "text": [
      "<class 'pandas.core.frame.DataFrame'>\n",
      "RangeIndex: 1225 entries, 0 to 1224\n",
      "Data columns (total 7 columns):\n",
      " #   Column                    Non-Null Count  Dtype  \n",
      "---  ------                    --------------  -----  \n",
      " 0   TLD                       25 non-null     float64\n",
      " 1   Dose Medida (Dm)          1225 non-null   int64  \n",
      " 2   Dose Calculada (Dc)       1225 non-null   int64  \n",
      " 3   Ponto Medido X (rm_x)     1225 non-null   int64  \n",
      " 4   Ponto Medido Y (rm_y)     1225 non-null   int64  \n",
      " 5   Ponto Calculado X (rc_x)  1225 non-null   int64  \n",
      " 6   Ponto Calculado Y (rc_y)  1225 non-null   int64  \n",
      "dtypes: float64(1), int64(6)\n",
      "memory usage: 67.1 KB\n",
      "None\n"
     ]
    }
   ],
   "source": [
    "# Leitura dos dados do mês de Agosto refente à 1ª Simulação e criação do Dataframe\n",
    "august_data_sim_3 = './Agosto_22/Matrizes das Simulações para o Programa - Simulação 3 - Agosto.csv'\n",
    "df_augustData_sim_3 = pd.read_csv(august_data_sim_3)\n",
    "\n",
    "# Informações do Dataframe dos dados\n",
    "print(df_augustData_sim_3.info())"
   ]
  },
  {
   "cell_type": "markdown",
   "metadata": {},
   "source": [
    "#### Valores de Gamma-Index\n",
    "\n",
    "* Analisa os 49 pontos calculados para cada ponto medido calculando o gamma-index para cada um desses pontos,\n",
    "* Retorna o menor gamma-index dos calculados para cada ponto medido, com seu respectivo ponto medido."
   ]
  },
  {
   "cell_type": "code",
   "execution_count": 117,
   "metadata": {},
   "outputs": [],
   "source": [
    "# Obtém o valor máximo dentre as doses medidas\n",
    "max_Dm = df_augustData_sim_3['Dose Medida (Dm)'].max()\n",
    "\n",
    "# Criação do dicionário que irá salvar os valores gamma-index para cada ponto\n",
    "gamma_index_aug_3 = {}"
   ]
  },
  {
   "cell_type": "code",
   "execution_count": 118,
   "metadata": {},
   "outputs": [],
   "source": [
    "# Calcula os valores de gamma-index de cada ponto e salva no dicionário os menores valores\n",
    "for i in range(0, len(df_augustData_sim_3), 49):\n",
    "    group_df = df_augustData_sim_3.iloc[i:i+49]  # Selecionar grupo de 49 pontos\n",
    "    min_gamma = group_df.apply(lambda row: position_module(row, max_Dm), axis=1).min()\n",
    "       \n",
    "    # Salva o menor valor de gamma-index no dicionário\n",
    "    x_coord = group_df.iloc[0]['Ponto Medido X (rm_x)']\n",
    "    y_coord = group_df.iloc[0]['Ponto Medido Y (rm_y)']\n",
    "    gamma_index_aug_3['{},{}'.format(x_coord, y_coord)] = min_gamma.round(2)"
   ]
  },
  {
   "cell_type": "markdown",
   "metadata": {},
   "source": [
    "#### Análise dos valores obtidos\n",
    "\n",
    "* Retorna quais valores estão 'acima' e 'abaixo ou igual' a 1, classificando-os como 'pontos reprovados' e 'pontos aprovados', respectivamente,\n",
    "* Também cria um dataframe dos pontos analisados com seus respectivos gamma-index."
   ]
  },
  {
   "cell_type": "code",
   "execution_count": 119,
   "metadata": {},
   "outputs": [],
   "source": [
    "# Contar a quantidade de valores menores ou iguais a 1 e a quantidade de valores maiores que 1\n",
    "menores_ou_iguais_que_um = sum(1 for valor in gamma_index_aug_3.values() if valor <= 1)\n",
    "\n",
    "maiores_que_um = sum(1 for valor in gamma_index_aug_3.values() if valor > 1)\n",
    "\n",
    "# Total de valores do gamma-index\n",
    "total_valores = len(gamma_index_aug_3)\n",
    "\n",
    "# Calcular as porcentagens dos valores acima\n",
    "porcentagem_menores_que_um = (menores_ou_iguais_que_um / total_valores) * 100\n",
    "\n",
    "porcentagem_maiores_que_um = (maiores_que_um / total_valores) * 100"
   ]
  },
  {
   "cell_type": "code",
   "execution_count": 120,
   "metadata": {},
   "outputs": [
    {
     "name": "stdout",
     "output_type": "stream",
     "text": [
      "Valores referentes às medidas da 3ª Simulação de Agosto\n",
      "\n",
      "Total de pontos analisados: 25\n",
      "Diferença de percentual de dose: 3.0%\n",
      "DTA utilizado: 3.0 mm\n",
      "\n",
      "Quantidade de valores aprovados, ou seja, menores ou iguais a um: 25\n",
      "Quantidade de valores reprovados, ou seja, maiores que um: 0\n",
      "\n",
      "Porcentagem de valores aprovados: 100.0%\n",
      "Porcentagem de valores reprovados: 0.0%\n"
     ]
    }
   ],
   "source": [
    "# Imprimir os resultados\n",
    "print(\"Valores referentes às medidas da 3ª Simulação de Agosto\")\n",
    "print()\n",
    "print(\"Total de pontos analisados:\", total_valores)\n",
    "print(f\"Diferença de percentual de dose: {delta_Dm*100}%\")\n",
    "print(f\"DTA utilizado: {delta_dM} mm\")\n",
    "print()\n",
    "print(\"Quantidade de valores aprovados, ou seja, menores ou iguais a um:\", menores_ou_iguais_que_um)\n",
    "print(\"Quantidade de valores reprovados, ou seja, maiores que um:\", maiores_que_um)\n",
    "print()\n",
    "print(f\"Porcentagem de valores aprovados: {porcentagem_menores_que_um}%\")\n",
    "print(f\"Porcentagem de valores reprovados: {porcentagem_maiores_que_um}%\")"
   ]
  },
  {
   "cell_type": "markdown",
   "metadata": {},
   "source": [
    "#### Visualização dos dados tratados\n",
    "\n",
    "* Visualiza tabela final para cada simulação, com os pontos medido e seu menor valor de gamma-index calculado."
   ]
  },
  {
   "cell_type": "code",
   "execution_count": 121,
   "metadata": {},
   "outputs": [],
   "source": [
    "# Cria um dataframe para os valores obtidos da primeira simulação\n",
    "df_augustGammaIndex_sim_3 = pd.DataFrame(list(gamma_index_aug_3.items()), columns=['Pontos Medidos (X,Y)', 'Gamma Index'])"
   ]
  },
  {
   "cell_type": "code",
   "execution_count": 122,
   "metadata": {},
   "outputs": [
    {
     "name": "stdout",
     "output_type": "stream",
     "text": [
      "   Pontos Medidos (X,Y)  Gamma Index\n",
      "0             18.0,18.0         0.06\n",
      "1              9.0,18.0         0.07\n",
      "2              0.0,18.0         0.13\n",
      "3             -9.0,18.0         0.07\n",
      "4            -18.0,18.0         0.07\n",
      "5              18.0,9.0         0.15\n",
      "6               9.0,9.0         0.11\n",
      "7               0.0,9.0         0.19\n",
      "8              -9.0,9.0         0.07\n",
      "9             -18.0,9.0         0.10\n",
      "10             18.0,0.0         0.76\n",
      "11              9.0,0.0         0.92\n",
      "12              0.0,0.0         0.70\n",
      "13             -9.0,0.0         0.68\n",
      "14            -18.0,0.0         0.67\n",
      "15            18.0,-9.0         0.03\n",
      "16             9.0,-9.0         0.16\n",
      "17             0.0,-9.0         0.13\n",
      "18            -9.0,-9.0         0.21\n",
      "19           -18.0,-9.0         0.11\n",
      "20           18.0,-18.0         0.12\n",
      "21            9.0,-18.0         0.14\n",
      "22            0.0,-18.0         0.10\n",
      "23           -9.0,-18.0         0.23\n",
      "24          -18.0,-18.0         0.12\n"
     ]
    }
   ],
   "source": [
    "# Visualiza o DataFrame com os devidos tratamentos\n",
    "print(df_augustGammaIndex_sim_3.head(25))"
   ]
  },
  {
   "cell_type": "markdown",
   "metadata": {},
   "source": [
    "### Resultados - 4ª Simulação"
   ]
  },
  {
   "cell_type": "markdown",
   "metadata": {},
   "source": [
    "#### Leitura dos dados\n",
    "\n",
    "* Lê os dados do arquivo .csv com os dados do mês de Agosto."
   ]
  },
  {
   "cell_type": "code",
   "execution_count": 123,
   "metadata": {},
   "outputs": [
    {
     "name": "stdout",
     "output_type": "stream",
     "text": [
      "<class 'pandas.core.frame.DataFrame'>\n",
      "RangeIndex: 1225 entries, 0 to 1224\n",
      "Data columns (total 7 columns):\n",
      " #   Column                    Non-Null Count  Dtype  \n",
      "---  ------                    --------------  -----  \n",
      " 0   TLD                       25 non-null     float64\n",
      " 1   Dose Medida (Dm)          1225 non-null   int64  \n",
      " 2   Dose Calculada (Dc)       1225 non-null   int64  \n",
      " 3   Ponto Medido X (rm_x)     1225 non-null   int64  \n",
      " 4   Ponto Medido Y (rm_y)     1225 non-null   int64  \n",
      " 5   Ponto Calculado X (rc_x)  1225 non-null   int64  \n",
      " 6   Ponto Calculado Y (rc_y)  1225 non-null   int64  \n",
      "dtypes: float64(1), int64(6)\n",
      "memory usage: 67.1 KB\n",
      "None\n"
     ]
    }
   ],
   "source": [
    "# Leitura dos dados do mês de Agosto refente à 1ª Simulação e criação do Dataframe\n",
    "august_data_sim_4 = './Agosto_22/Matrizes das Simulações para o Programa - Simulação 4 - Agosto.csv'\n",
    "df_augustData_sim_4 = pd.read_csv(august_data_sim_4)\n",
    "\n",
    "# Informações do Dataframe dos dados\n",
    "print(df_augustData_sim_4.info())"
   ]
  },
  {
   "cell_type": "markdown",
   "metadata": {},
   "source": [
    "#### Valores de Gamma-Index\n",
    "\n",
    "* Analisa os 49 pontos calculados para cada ponto medido calculando o gamma-index para cada um desses pontos,\n",
    "* Retorna o menor gamma-index dos calculados para cada ponto medido, com seu respectivo ponto medido."
   ]
  },
  {
   "cell_type": "code",
   "execution_count": 124,
   "metadata": {},
   "outputs": [],
   "source": [
    "# Obtém o valor máximo dentre as doses medidas\n",
    "max_Dm = df_augustData_sim_4['Dose Medida (Dm)'].max()\n",
    "\n",
    "# Criação do dicionário que irá salvar os valores gamma-index para cada ponto\n",
    "gamma_index_aug_4 = {}"
   ]
  },
  {
   "cell_type": "code",
   "execution_count": 125,
   "metadata": {},
   "outputs": [],
   "source": [
    "# Calcula os valores de gamma-index de cada ponto e salva no dicionário os menores valores\n",
    "for i in range(0, len(df_augustData_sim_4), 49):\n",
    "    group_df = df_augustData_sim_4.iloc[i:i+49]  # Selecionar grupo de 49 pontos\n",
    "    min_gamma = group_df.apply(lambda row: position_module(row, max_Dm), axis=1).min()\n",
    "       \n",
    "    # Salva o menor valor de gamma-index no dicionário\n",
    "    x_coord = group_df.iloc[0]['Ponto Medido X (rm_x)']\n",
    "    y_coord = group_df.iloc[0]['Ponto Medido Y (rm_y)']\n",
    "    gamma_index_aug_4['{},{}'.format(x_coord, y_coord)] = min_gamma.round(2)"
   ]
  },
  {
   "cell_type": "markdown",
   "metadata": {},
   "source": [
    "#### Análise dos valores obtidos\n",
    "\n",
    "* Retorna quais valores estão 'acima' e 'abaixo ou igual' a 1, classificando-os como 'pontos reprovados' e 'pontos aprovados', respectivamente,\n",
    "* Também cria um dataframe dos pontos analisados com seus respectivos gamma-index."
   ]
  },
  {
   "cell_type": "code",
   "execution_count": 126,
   "metadata": {},
   "outputs": [],
   "source": [
    "# Contar a quantidade de valores menores ou iguais a 1 e a quantidade de valores maiores que 1\n",
    "menores_ou_iguais_que_um = sum(1 for valor in gamma_index_aug_4.values() if valor <= 1)\n",
    "\n",
    "maiores_que_um = sum(1 for valor in gamma_index_aug_4.values() if valor > 1)\n",
    "\n",
    "# Total de valores do gamma-index\n",
    "total_valores = len(gamma_index_aug_4)\n",
    "\n",
    "# Calcular as porcentagens dos valores acima\n",
    "porcentagem_menores_que_um = (menores_ou_iguais_que_um / total_valores) * 100\n",
    "\n",
    "porcentagem_maiores_que_um = (maiores_que_um / total_valores) * 100"
   ]
  },
  {
   "cell_type": "code",
   "execution_count": 127,
   "metadata": {},
   "outputs": [
    {
     "name": "stdout",
     "output_type": "stream",
     "text": [
      "Valores referentes às medidas da 4ª Simulação de Agosto\n",
      "\n",
      "Total de pontos analisados: 25\n",
      "Diferença de percentual de dose: 3.0%\n",
      "DTA utilizado: 3.0 mm\n",
      "\n",
      "Quantidade de valores aprovados, ou seja, menores ou iguais a um: 25\n",
      "Quantidade de valores reprovados, ou seja, maiores que um: 0\n",
      "\n",
      "Porcentagem de valores aprovados: 100.0%\n",
      "Porcentagem de valores reprovados: 0.0%\n"
     ]
    }
   ],
   "source": [
    "# Imprimir os resultados\n",
    "print(\"Valores referentes às medidas da 4ª Simulação de Agosto\")\n",
    "print()\n",
    "print(\"Total de pontos analisados:\", total_valores)\n",
    "print(f\"Diferença de percentual de dose: {delta_Dm*100}%\")\n",
    "print(f\"DTA utilizado: {delta_dM} mm\")\n",
    "print()\n",
    "print(\"Quantidade de valores aprovados, ou seja, menores ou iguais a um:\", menores_ou_iguais_que_um)\n",
    "print(\"Quantidade de valores reprovados, ou seja, maiores que um:\", maiores_que_um)\n",
    "print()\n",
    "print(f\"Porcentagem de valores aprovados: {porcentagem_menores_que_um}%\")\n",
    "print(f\"Porcentagem de valores reprovados: {porcentagem_maiores_que_um}%\")"
   ]
  },
  {
   "cell_type": "markdown",
   "metadata": {},
   "source": [
    "#### Visualização dos dados tratados\n",
    "\n",
    "* Visualiza tabela final para cada simulação, com os pontos medido e seu menor valor de gamma-index calculado."
   ]
  },
  {
   "cell_type": "code",
   "execution_count": 128,
   "metadata": {},
   "outputs": [],
   "source": [
    "# Cria um dataframe para os valores obtidos da primeira simulação\n",
    "df_augustGammaIndex_sim_4 = pd.DataFrame(list(gamma_index_aug_4.items()), columns=['Pontos Medidos (X,Y)', 'Gamma Index'])"
   ]
  },
  {
   "cell_type": "code",
   "execution_count": 129,
   "metadata": {},
   "outputs": [
    {
     "name": "stdout",
     "output_type": "stream",
     "text": [
      "   Pontos Medidos (X,Y)  Gamma Index\n",
      "0             18.0,18.0         0.01\n",
      "1              9.0,18.0         0.07\n",
      "2              0.0,18.0         0.24\n",
      "3             -9.0,18.0         0.15\n",
      "4            -18.0,18.0         0.06\n",
      "5              18.0,9.0         0.03\n",
      "6               9.0,9.0         0.32\n",
      "7               0.0,9.0         0.16\n",
      "8              -9.0,9.0         0.20\n",
      "9             -18.0,9.0         0.06\n",
      "10             18.0,0.0         0.07\n",
      "11              9.0,0.0         0.52\n",
      "12              0.0,0.0         0.91\n",
      "13             -9.0,0.0         0.14\n",
      "14            -18.0,0.0         0.23\n",
      "15            18.0,-9.0         0.25\n",
      "16             9.0,-9.0         0.12\n",
      "17             0.0,-9.0         0.25\n",
      "18            -9.0,-9.0         0.15\n",
      "19           -18.0,-9.0         0.05\n",
      "20           18.0,-18.0         0.08\n",
      "21            9.0,-18.0         0.25\n",
      "22            0.0,-18.0         0.08\n",
      "23           -9.0,-18.0         0.13\n",
      "24          -18.0,-18.0         0.08\n"
     ]
    }
   ],
   "source": [
    "# Visualiza o DataFrame com os devidos tratamentos\n",
    "print(df_augustGammaIndex_sim_4.head(25))"
   ]
  },
  {
   "cell_type": "markdown",
   "metadata": {},
   "source": [
    "### Resultados - 5ª Simulação"
   ]
  },
  {
   "cell_type": "markdown",
   "metadata": {},
   "source": [
    "#### Leitura dos dados\n",
    "\n",
    "* Lê os dados do arquivo .csv com os dados do mês de Agosto."
   ]
  },
  {
   "cell_type": "code",
   "execution_count": 130,
   "metadata": {},
   "outputs": [
    {
     "name": "stdout",
     "output_type": "stream",
     "text": [
      "<class 'pandas.core.frame.DataFrame'>\n",
      "RangeIndex: 1225 entries, 0 to 1224\n",
      "Data columns (total 7 columns):\n",
      " #   Column                    Non-Null Count  Dtype  \n",
      "---  ------                    --------------  -----  \n",
      " 0   TLD                       25 non-null     float64\n",
      " 1   Dose Medida (Dm)          1225 non-null   int64  \n",
      " 2   Dose Calculada (Dc)       1225 non-null   int64  \n",
      " 3   Ponto Medido X (rm_x)     1225 non-null   int64  \n",
      " 4   Ponto Medido Y (rm_y)     1225 non-null   int64  \n",
      " 5   Ponto Calculado X (rc_x)  1225 non-null   int64  \n",
      " 6   Ponto Calculado Y (rc_y)  1225 non-null   int64  \n",
      "dtypes: float64(1), int64(6)\n",
      "memory usage: 67.1 KB\n",
      "None\n"
     ]
    }
   ],
   "source": [
    "# Leitura dos dados do mês de Agosto refente à 1ª Simulação e criação do Dataframe\n",
    "august_data_sim_5 = './Agosto_22/Matrizes das Simulações para o Programa - Simulação 5 - Agosto.csv'\n",
    "df_augustData_sim_5 = pd.read_csv(august_data_sim_5)\n",
    "\n",
    "# Informações do Dataframe dos dados\n",
    "print(df_augustData_sim_5.info())"
   ]
  },
  {
   "cell_type": "markdown",
   "metadata": {},
   "source": [
    "#### Valores de Gamma-Index\n",
    "\n",
    "* Analisa os 49 pontos calculados para cada ponto medido calculando o gamma-index para cada um desses pontos,\n",
    "* Retorna o menor gamma-index dos calculados para cada ponto medido, com seu respectivo ponto medido."
   ]
  },
  {
   "cell_type": "code",
   "execution_count": 131,
   "metadata": {},
   "outputs": [],
   "source": [
    "# Obtém o valor máximo dentre as doses medidas\n",
    "max_Dm = df_augustData_sim_5['Dose Medida (Dm)'].max()\n",
    "\n",
    "# Criação do dicionário que irá salvar os valores gamma-index para cada ponto\n",
    "gamma_index_aug_5 = {}"
   ]
  },
  {
   "cell_type": "code",
   "execution_count": 132,
   "metadata": {},
   "outputs": [],
   "source": [
    "# Calcula os valores de gamma-index de cada ponto e salva no dicionário os menores valores\n",
    "for i in range(0, len(df_augustData_sim_5), 49):\n",
    "    group_df = df_augustData_sim_5.iloc[i:i+49]  # Selecionar grupo de 49 pontos\n",
    "    min_gamma = group_df.apply(lambda row: position_module(row, max_Dm), axis=1).min()\n",
    "       \n",
    "    # Salva o menor valor de gamma-index no dicionário\n",
    "    x_coord = group_df.iloc[0]['Ponto Medido X (rm_x)']\n",
    "    y_coord = group_df.iloc[0]['Ponto Medido Y (rm_y)']\n",
    "    gamma_index_aug_5['{},{}'.format(x_coord, y_coord)] = min_gamma.round(2)"
   ]
  },
  {
   "cell_type": "markdown",
   "metadata": {},
   "source": [
    "#### Análise dos valores obtidos\n",
    "\n",
    "* Retorna quais valores estão 'acima' e 'abaixo ou igual' a 1, classificando-os como 'pontos reprovados' e 'pontos aprovados', respectivamente,\n",
    "* Também cria um dataframe dos pontos analisados com seus respectivos gamma-index."
   ]
  },
  {
   "cell_type": "code",
   "execution_count": 133,
   "metadata": {},
   "outputs": [],
   "source": [
    "# Contar a quantidade de valores menores ou iguais a 1 e a quantidade de valores maiores que 1\n",
    "menores_ou_iguais_que_um = sum(1 for valor in gamma_index_aug_5.values() if valor <= 1)\n",
    "\n",
    "maiores_que_um = sum(1 for valor in gamma_index_aug_5.values() if valor > 1)\n",
    "\n",
    "# Total de valores do gamma-index\n",
    "total_valores = len(gamma_index_aug_5)\n",
    "\n",
    "# Calcular as porcentagens dos valores acima\n",
    "porcentagem_menores_que_um = (menores_ou_iguais_que_um / total_valores) * 100\n",
    "\n",
    "porcentagem_maiores_que_um = (maiores_que_um / total_valores) * 100"
   ]
  },
  {
   "cell_type": "code",
   "execution_count": 134,
   "metadata": {},
   "outputs": [
    {
     "name": "stdout",
     "output_type": "stream",
     "text": [
      "Valores referentes às medidas da 5ª Simulação de Agosto\n",
      "\n",
      "Total de pontos analisados: 25\n",
      "Diferença de percentual de dose: 3.0%\n",
      "DTA utilizado: 3.0 mm\n",
      "\n",
      "Quantidade de valores aprovados, ou seja, menores ou iguais a um: 25\n",
      "Quantidade de valores reprovados, ou seja, maiores que um: 0\n",
      "\n",
      "Porcentagem de valores aprovados: 100.0%\n",
      "Porcentagem de valores reprovados: 0.0%\n"
     ]
    }
   ],
   "source": [
    "# Imprimir os resultados\n",
    "print(\"Valores referentes às medidas da 5ª Simulação de Agosto\")\n",
    "print()\n",
    "print(\"Total de pontos analisados:\", total_valores)\n",
    "print(f\"Diferença de percentual de dose: {delta_Dm*100}%\")\n",
    "print(f\"DTA utilizado: {delta_dM} mm\")\n",
    "print()\n",
    "print(\"Quantidade de valores aprovados, ou seja, menores ou iguais a um:\", menores_ou_iguais_que_um)\n",
    "print(\"Quantidade de valores reprovados, ou seja, maiores que um:\", maiores_que_um)\n",
    "print()\n",
    "print(f\"Porcentagem de valores aprovados: {porcentagem_menores_que_um}%\")\n",
    "print(f\"Porcentagem de valores reprovados: {porcentagem_maiores_que_um}%\")"
   ]
  },
  {
   "cell_type": "markdown",
   "metadata": {},
   "source": [
    "#### Visualização dos dados tratados\n",
    "\n",
    "* Visualiza tabela final para cada simulação, com os pontos medido e seu menor valor de gamma-index calculado."
   ]
  },
  {
   "cell_type": "code",
   "execution_count": 135,
   "metadata": {},
   "outputs": [],
   "source": [
    "# Cria um dataframe para os valores obtidos da primeira simulação\n",
    "df_augustGammaIndex_sim_5 = pd.DataFrame(list(gamma_index_aug_5.items()), columns=['Pontos Medidos (X,Y)', 'Gamma Index'])"
   ]
  },
  {
   "cell_type": "code",
   "execution_count": 136,
   "metadata": {},
   "outputs": [
    {
     "name": "stdout",
     "output_type": "stream",
     "text": [
      "   Pontos Medidos (X,Y)  Gamma Index\n",
      "0             18.0,18.0         0.05\n",
      "1              9.0,18.0         0.26\n",
      "2              0.0,18.0         0.17\n",
      "3             -9.0,18.0         0.29\n",
      "4            -18.0,18.0         0.13\n",
      "5              18.0,9.0         0.25\n",
      "6               9.0,9.0         0.38\n",
      "7               0.0,9.0         0.11\n",
      "8              -9.0,9.0         0.37\n",
      "9             -18.0,9.0         0.18\n",
      "10             18.0,0.0         0.07\n",
      "11              9.0,0.0         0.08\n",
      "12              0.0,0.0         0.57\n",
      "13             -9.0,0.0         0.28\n",
      "14            -18.0,0.0         0.05\n",
      "15            18.0,-9.0         0.05\n",
      "16             9.0,-9.0         0.11\n",
      "17             0.0,-9.0         0.25\n",
      "18            -9.0,-9.0         0.04\n",
      "19           -18.0,-9.0         0.11\n",
      "20           18.0,-18.0         0.12\n",
      "21            9.0,-18.0         0.13\n",
      "22            0.0,-18.0         0.24\n",
      "23           -9.0,-18.0         0.04\n",
      "24          -18.0,-18.0         0.10\n"
     ]
    }
   ],
   "source": [
    "# Visualiza o DataFrame com os devidos tratamentos\n",
    "print(df_augustGammaIndex_sim_5.head(25))"
   ]
  },
  {
   "cell_type": "markdown",
   "metadata": {},
   "source": [
    "### Resultados - 6ª Simulação"
   ]
  },
  {
   "cell_type": "markdown",
   "metadata": {},
   "source": [
    "#### Leitura dos dados\n",
    "\n",
    "* Lê os dados do arquivo .csv com os dados do mês de Agosto."
   ]
  },
  {
   "cell_type": "code",
   "execution_count": 137,
   "metadata": {},
   "outputs": [
    {
     "name": "stdout",
     "output_type": "stream",
     "text": [
      "<class 'pandas.core.frame.DataFrame'>\n",
      "RangeIndex: 1225 entries, 0 to 1224\n",
      "Data columns (total 7 columns):\n",
      " #   Column                    Non-Null Count  Dtype  \n",
      "---  ------                    --------------  -----  \n",
      " 0   TLD                       25 non-null     float64\n",
      " 1   Dose Medida (Dm)          1225 non-null   int64  \n",
      " 2   Dose Calculada (Dc)       1225 non-null   int64  \n",
      " 3   Ponto Medido X (rm_x)     1225 non-null   int64  \n",
      " 4   Ponto Medido Y (rm_y)     1225 non-null   int64  \n",
      " 5   Ponto Calculado X (rc_x)  1225 non-null   int64  \n",
      " 6   Ponto Calculado Y (rc_y)  1225 non-null   int64  \n",
      "dtypes: float64(1), int64(6)\n",
      "memory usage: 67.1 KB\n",
      "None\n"
     ]
    }
   ],
   "source": [
    "# Leitura dos dados do mês de Agosto refente à 1ª Simulação e criação do Dataframe\n",
    "august_data_sim_6 = './Agosto_22/Matrizes das Simulações para o Programa - Simulação 6 - Agosto.csv'\n",
    "df_augustData_sim_6 = pd.read_csv(august_data_sim_6)\n",
    "\n",
    "# Informações do Dataframe dos dados\n",
    "print(df_augustData_sim_6.info())"
   ]
  },
  {
   "cell_type": "markdown",
   "metadata": {},
   "source": [
    "#### Valores de Gamma-Index\n",
    "\n",
    "* Analisa os 49 pontos calculados para cada ponto medido calculando o gamma-index para cada um desses pontos,\n",
    "* Retorna o menor gamma-index dos calculados para cada ponto medido, com seu respectivo ponto medido."
   ]
  },
  {
   "cell_type": "code",
   "execution_count": 138,
   "metadata": {},
   "outputs": [],
   "source": [
    "# Obtém o valor máximo dentre as doses medidas\n",
    "max_Dm = df_augustData_sim_6['Dose Medida (Dm)'].max()\n",
    "\n",
    "# Criação do dicionário que irá salvar os valores gamma-index para cada ponto\n",
    "gamma_index_aug_6 = {}"
   ]
  },
  {
   "cell_type": "code",
   "execution_count": 139,
   "metadata": {},
   "outputs": [],
   "source": [
    "# Calcula os valores de gamma-index de cada ponto e salva no dicionário os menores valores\n",
    "for i in range(0, len(df_augustData_sim_6), 49):\n",
    "    group_df = df_augustData_sim_6.iloc[i:i+49]  # Selecionar grupo de 49 pontos\n",
    "    min_gamma = group_df.apply(lambda row: position_module(row, max_Dm), axis=1).min()\n",
    "       \n",
    "    # Salva o menor valor de gamma-index no dicionário\n",
    "    x_coord = group_df.iloc[0]['Ponto Medido X (rm_x)']\n",
    "    y_coord = group_df.iloc[0]['Ponto Medido Y (rm_y)']\n",
    "    gamma_index_aug_6['{},{}'.format(x_coord, y_coord)] = min_gamma.round(2)"
   ]
  },
  {
   "cell_type": "markdown",
   "metadata": {},
   "source": [
    "#### Análise dos valores obtidos\n",
    "\n",
    "* Retorna quais valores estão 'acima' e 'abaixo ou igual' a 1, classificando-os como 'pontos reprovados' e 'pontos aprovados', respectivamente,\n",
    "* Também cria um dataframe dos pontos analisados com seus respectivos gamma-index."
   ]
  },
  {
   "cell_type": "code",
   "execution_count": 140,
   "metadata": {},
   "outputs": [],
   "source": [
    "# Contar a quantidade de valores menores ou iguais a 1 e a quantidade de valores maiores que 1\n",
    "menores_ou_iguais_que_um = sum(1 for valor in gamma_index_aug_6.values() if valor <= 1)\n",
    "\n",
    "maiores_que_um = sum(1 for valor in gamma_index_aug_6.values() if valor > 1)\n",
    "\n",
    "# Total de valores do gamma-index\n",
    "total_valores = len(gamma_index_aug_6)\n",
    "\n",
    "# Calcular as porcentagens dos valores acima\n",
    "porcentagem_menores_que_um = (menores_ou_iguais_que_um / total_valores) * 100\n",
    "\n",
    "porcentagem_maiores_que_um = (maiores_que_um / total_valores) * 100"
   ]
  },
  {
   "cell_type": "code",
   "execution_count": 141,
   "metadata": {},
   "outputs": [
    {
     "name": "stdout",
     "output_type": "stream",
     "text": [
      "Valores referentes às medidas da 6ª Simulação de Agosto\n",
      "\n",
      "Total de pontos analisados: 25\n",
      "Diferença de percentual de dose: 3.0%\n",
      "DTA utilizado: 3.0 mm\n",
      "\n",
      "Quantidade de valores aprovados, ou seja, menores ou iguais a um: 25\n",
      "Quantidade de valores reprovados, ou seja, maiores que um: 0\n",
      "\n",
      "Porcentagem de valores aprovados: 100.0%\n",
      "Porcentagem de valores reprovados: 0.0%\n"
     ]
    }
   ],
   "source": [
    "# Imprimir os resultados\n",
    "print(\"Valores referentes às medidas da 6ª Simulação de Agosto\")\n",
    "print()\n",
    "print(\"Total de pontos analisados:\", total_valores)\n",
    "print(f\"Diferença de percentual de dose: {delta_Dm*100}%\")\n",
    "print(f\"DTA utilizado: {delta_dM} mm\")\n",
    "print()\n",
    "print(\"Quantidade de valores aprovados, ou seja, menores ou iguais a um:\", menores_ou_iguais_que_um)\n",
    "print(\"Quantidade de valores reprovados, ou seja, maiores que um:\", maiores_que_um)\n",
    "print()\n",
    "print(f\"Porcentagem de valores aprovados: {porcentagem_menores_que_um}%\")\n",
    "print(f\"Porcentagem de valores reprovados: {porcentagem_maiores_que_um}%\")"
   ]
  },
  {
   "cell_type": "markdown",
   "metadata": {},
   "source": [
    "#### Visualização dos dados tratados\n",
    "\n",
    "* Visualiza tabela final para cada simulação, com os pontos medido e seu menor valor de gamma-index calculado."
   ]
  },
  {
   "cell_type": "code",
   "execution_count": 142,
   "metadata": {},
   "outputs": [],
   "source": [
    "# Cria um dataframe para os valores obtidos da primeira simulação\n",
    "df_augustGammaIndex_sim_6 = pd.DataFrame(list(gamma_index_aug_6.items()), columns=['Pontos Medidos (X,Y)', 'Gamma Index'])"
   ]
  },
  {
   "cell_type": "code",
   "execution_count": 143,
   "metadata": {},
   "outputs": [
    {
     "name": "stdout",
     "output_type": "stream",
     "text": [
      "   Pontos Medidos (X,Y)  Gamma Index\n",
      "0             18.0,18.0         0.10\n",
      "1              9.0,18.0         0.26\n",
      "2              0.0,18.0         0.31\n",
      "3             -9.0,18.0         0.28\n",
      "4            -18.0,18.0         0.11\n",
      "5              18.0,9.0         0.13\n",
      "6               9.0,9.0         0.36\n",
      "7               0.0,9.0         0.01\n",
      "8              -9.0,9.0         0.49\n",
      "9             -18.0,9.0         0.08\n",
      "10             18.0,0.0         0.32\n",
      "11              9.0,0.0         0.60\n",
      "12              0.0,0.0         0.42\n",
      "13             -9.0,0.0         0.27\n",
      "14            -18.0,0.0         0.39\n",
      "15            18.0,-9.0         0.14\n",
      "16             9.0,-9.0         0.09\n",
      "17             0.0,-9.0         0.15\n",
      "18            -9.0,-9.0         0.17\n",
      "19           -18.0,-9.0         0.08\n",
      "20           18.0,-18.0         0.13\n",
      "21            9.0,-18.0         0.15\n",
      "22            0.0,-18.0         0.16\n",
      "23           -9.0,-18.0         0.27\n",
      "24          -18.0,-18.0         0.05\n"
     ]
    }
   ],
   "source": [
    "# Visualiza o DataFrame com os devidos tratamentos\n",
    "print(df_augustGammaIndex_sim_6.head(25))"
   ]
  },
  {
   "cell_type": "markdown",
   "metadata": {},
   "source": [
    "### Resultados - 7ª Simulação"
   ]
  },
  {
   "cell_type": "markdown",
   "metadata": {},
   "source": [
    "#### Leitura dos dados\n",
    "\n",
    "* Lê os dados do arquivo .csv com os dados do mês de Agosto."
   ]
  },
  {
   "cell_type": "code",
   "execution_count": 144,
   "metadata": {},
   "outputs": [
    {
     "name": "stdout",
     "output_type": "stream",
     "text": [
      "<class 'pandas.core.frame.DataFrame'>\n",
      "RangeIndex: 1225 entries, 0 to 1224\n",
      "Data columns (total 7 columns):\n",
      " #   Column                    Non-Null Count  Dtype  \n",
      "---  ------                    --------------  -----  \n",
      " 0   TLD                       25 non-null     float64\n",
      " 1   Dose Medida (Dm)          1225 non-null   int64  \n",
      " 2   Dose Calculada (Dc)       1225 non-null   int64  \n",
      " 3   Ponto Medido X (rm_x)     1225 non-null   int64  \n",
      " 4   Ponto Medido Y (rm_y)     1225 non-null   int64  \n",
      " 5   Ponto Calculado X (rc_x)  1225 non-null   int64  \n",
      " 6   Ponto Calculado Y (rc_y)  1225 non-null   int64  \n",
      "dtypes: float64(1), int64(6)\n",
      "memory usage: 67.1 KB\n",
      "None\n"
     ]
    }
   ],
   "source": [
    "# Leitura dos dados do mês de Agosto refente à 1ª Simulação e criação do Dataframe\n",
    "august_data_sim_7 = './Agosto_22/Matrizes das Simulações para o Programa - Simulação 7 - Agosto.csv'\n",
    "df_augustData_sim_7 = pd.read_csv(august_data_sim_7)\n",
    "\n",
    "# Informações do Dataframe dos dados\n",
    "print(df_augustData_sim_7.info())"
   ]
  },
  {
   "cell_type": "markdown",
   "metadata": {},
   "source": [
    "#### Valores de Gamma-Index\n",
    "\n",
    "* Analisa os 49 pontos calculados para cada ponto medido calculando o gamma-index para cada um desses pontos,\n",
    "* Retorna o menor gamma-index dos calculados para cada ponto medido, com seu respectivo ponto medido."
   ]
  },
  {
   "cell_type": "code",
   "execution_count": 145,
   "metadata": {},
   "outputs": [],
   "source": [
    "# Obtém o valor máximo dentre as doses medidas\n",
    "max_Dm = df_augustData_sim_7['Dose Medida (Dm)'].max()\n",
    "\n",
    "# Criação do dicionário que irá salvar os valores gamma-index para cada ponto\n",
    "gamma_index_aug_7 = {}"
   ]
  },
  {
   "cell_type": "code",
   "execution_count": 146,
   "metadata": {},
   "outputs": [],
   "source": [
    "# Calcula os valores de gamma-index de cada ponto e salva no dicionário os menores valores\n",
    "for i in range(0, len(df_augustData_sim_7), 49):\n",
    "    group_df = df_augustData_sim_7.iloc[i:i+49]  # Selecionar grupo de 49 pontos\n",
    "    min_gamma = group_df.apply(lambda row: position_module(row, max_Dm), axis=1).min()\n",
    "       \n",
    "    # Salva o menor valor de gamma-index no dicionário\n",
    "    x_coord = group_df.iloc[0]['Ponto Medido X (rm_x)']\n",
    "    y_coord = group_df.iloc[0]['Ponto Medido Y (rm_y)']\n",
    "    gamma_index_aug_7['{},{}'.format(x_coord, y_coord)] = min_gamma.round(2)"
   ]
  },
  {
   "cell_type": "markdown",
   "metadata": {},
   "source": [
    "#### Análise dos valores obtidos\n",
    "\n",
    "* Retorna quais valores estão 'acima' e 'abaixo ou igual' a 1, classificando-os como 'pontos reprovados' e 'pontos aprovados', respectivamente,\n",
    "* Também cria um dataframe dos pontos analisados com seus respectivos gamma-index."
   ]
  },
  {
   "cell_type": "code",
   "execution_count": 147,
   "metadata": {},
   "outputs": [],
   "source": [
    "# Contar a quantidade de valores menores ou iguais a 1 e a quantidade de valores maiores que 1\n",
    "menores_ou_iguais_que_um = sum(1 for valor in gamma_index_aug_7.values() if valor <= 1)\n",
    "\n",
    "maiores_que_um = sum(1 for valor in gamma_index_aug_7.values() if valor > 1)\n",
    "\n",
    "# Total de valores do gamma-index\n",
    "total_valores = len(gamma_index_aug_7)\n",
    "\n",
    "# Calcular as porcentagens dos valores acima\n",
    "porcentagem_menores_que_um = (menores_ou_iguais_que_um / total_valores) * 100\n",
    "\n",
    "porcentagem_maiores_que_um = (maiores_que_um / total_valores) * 100"
   ]
  },
  {
   "cell_type": "code",
   "execution_count": 148,
   "metadata": {},
   "outputs": [
    {
     "name": "stdout",
     "output_type": "stream",
     "text": [
      "Valores referentes às medidas da 7ª Simulação de Agosto\n",
      "\n",
      "Total de pontos analisados: 25\n",
      "Diferença de percentual de dose: 3.0%\n",
      "DTA utilizado: 3.0 mm\n",
      "\n",
      "Quantidade de valores aprovados, ou seja, menores ou iguais a um: 25\n",
      "Quantidade de valores reprovados, ou seja, maiores que um: 0\n",
      "\n",
      "Porcentagem de valores aprovados: 100.0%\n",
      "Porcentagem de valores reprovados: 0.0%\n"
     ]
    }
   ],
   "source": [
    "# Imprimir os resultados\n",
    "print(\"Valores referentes às medidas da 7ª Simulação de Agosto\")\n",
    "print()\n",
    "print(\"Total de pontos analisados:\", total_valores)\n",
    "print(f\"Diferença de percentual de dose: {delta_Dm*100}%\")\n",
    "print(f\"DTA utilizado: {delta_dM} mm\")\n",
    "print()\n",
    "print(\"Quantidade de valores aprovados, ou seja, menores ou iguais a um:\", menores_ou_iguais_que_um)\n",
    "print(\"Quantidade de valores reprovados, ou seja, maiores que um:\", maiores_que_um)\n",
    "print()\n",
    "print(f\"Porcentagem de valores aprovados: {porcentagem_menores_que_um}%\")\n",
    "print(f\"Porcentagem de valores reprovados: {porcentagem_maiores_que_um}%\")"
   ]
  },
  {
   "cell_type": "markdown",
   "metadata": {},
   "source": [
    "#### Visualização dos dados tratados\n",
    "\n",
    "* Visualiza tabela final para cada simulação, com os pontos medido e seu menor valor de gamma-index calculado."
   ]
  },
  {
   "cell_type": "code",
   "execution_count": 149,
   "metadata": {},
   "outputs": [],
   "source": [
    "# Cria um dataframe para os valores obtidos da primeira simulação\n",
    "df_augustGammaIndex_sim_7 = pd.DataFrame(list(gamma_index_aug_7.items()), columns=['Pontos Medidos (X,Y)', 'Gamma Index'])"
   ]
  },
  {
   "cell_type": "code",
   "execution_count": 150,
   "metadata": {},
   "outputs": [
    {
     "name": "stdout",
     "output_type": "stream",
     "text": [
      "   Pontos Medidos (X,Y)  Gamma Index\n",
      "0             18.0,18.0         0.06\n",
      "1              9.0,18.0         0.29\n",
      "2              0.0,18.0         0.47\n",
      "3             -9.0,18.0         0.25\n",
      "4            -18.0,18.0         0.13\n",
      "5              18.0,9.0         0.24\n",
      "6               9.0,9.0         0.06\n",
      "7               0.0,9.0         0.27\n",
      "8              -9.0,9.0         0.36\n",
      "9             -18.0,9.0         0.06\n",
      "10             18.0,0.0         0.53\n",
      "11              9.0,0.0         0.25\n",
      "12              0.0,0.0         0.38\n",
      "13             -9.0,0.0         0.39\n",
      "14            -18.0,0.0         0.36\n",
      "15            18.0,-9.0         0.14\n",
      "16             9.0,-9.0         0.39\n",
      "17             0.0,-9.0         0.34\n",
      "18            -9.0,-9.0         0.13\n",
      "19           -18.0,-9.0         0.06\n",
      "20           18.0,-18.0         0.06\n",
      "21            9.0,-18.0         0.04\n",
      "22            0.0,-18.0         0.50\n",
      "23           -9.0,-18.0         0.04\n",
      "24          -18.0,-18.0         0.12\n"
     ]
    }
   ],
   "source": [
    "# Visualiza o DataFrame com os devidos tratamentos\n",
    "print(df_augustGammaIndex_sim_7.head(25))"
   ]
  },
  {
   "cell_type": "markdown",
   "metadata": {},
   "source": [
    "## *Medidas de Fevereiro/2023*\n",
    "\n",
    "* Abaixo se encontra a análise dos 25 medidos realizadas em fevereiro/2023, onde foram calculados os valores de gamma-index dos 49 pontos calculados sobre e na vizinhança de cada ponto medido,\n",
    "* Também foi feita a análise dos resultados a partir dos valores de menor gamma-index destes valores."
   ]
  },
  {
   "cell_type": "markdown",
   "metadata": {},
   "source": [
    "### Resultados - 1ª Simulação"
   ]
  },
  {
   "cell_type": "markdown",
   "metadata": {},
   "source": [
    "#### Leitura dos dados\n",
    "\n",
    "* Lê os dados do arquivo .csv com os dados do mês de Agosto."
   ]
  },
  {
   "cell_type": "code",
   "execution_count": 151,
   "metadata": {},
   "outputs": [
    {
     "name": "stdout",
     "output_type": "stream",
     "text": [
      "<class 'pandas.core.frame.DataFrame'>\n",
      "RangeIndex: 1225 entries, 0 to 1224\n",
      "Data columns (total 7 columns):\n",
      " #   Column                    Non-Null Count  Dtype  \n",
      "---  ------                    --------------  -----  \n",
      " 0   TLD                       25 non-null     float64\n",
      " 1   Dose Medida (Dm)          1225 non-null   int64  \n",
      " 2   Dose Calculada (Dc)       1225 non-null   int64  \n",
      " 3   Ponto Medido X (rm_x)     1225 non-null   int64  \n",
      " 4   Ponto Medido Y (rm_y)     1225 non-null   int64  \n",
      " 5   Ponto Calculado X (rc_x)  1225 non-null   int64  \n",
      " 6   Ponto Calculado Y (rc_y)  1225 non-null   int64  \n",
      "dtypes: float64(1), int64(6)\n",
      "memory usage: 67.1 KB\n",
      "None\n"
     ]
    }
   ],
   "source": [
    "# Leitura dos dados do mês de Agosto refente à 1ª Simulação e criação do Dataframe\n",
    "february_data_sim_1 = './Fevereiro_23/Matrizes das Simulações para o Programa - Simulação 1 - Fevereiro.csv'\n",
    "df_februaryData_sim_1 = pd.read_csv(february_data_sim_1)\n",
    "\n",
    "# Informações do Dataframe dos dados\n",
    "print(df_februaryData_sim_1.info())"
   ]
  },
  {
   "cell_type": "markdown",
   "metadata": {},
   "source": [
    "#### Valores de Gamma-Index\n",
    "\n",
    "* Analisa os 49 pontos calculados para cada ponto medido calculando o gamma-index para cada um desses pontos,\n",
    "* Retorna o menor gamma-index dos calculados para cada ponto medido, com seu respectivo ponto medido."
   ]
  },
  {
   "cell_type": "code",
   "execution_count": 152,
   "metadata": {},
   "outputs": [],
   "source": [
    "# Obtém o valor máximo dentre as doses medidas\n",
    "max_Dm = df_februaryData_sim_1['Dose Medida (Dm)'].max()\n",
    "\n",
    "# Criação do dicionário que irá salvar os valores gamma-index para cada ponto\n",
    "gamma_index_feb_1 = {}"
   ]
  },
  {
   "cell_type": "code",
   "execution_count": 153,
   "metadata": {},
   "outputs": [],
   "source": [
    "# Calcula os valores de gamma-index de cada ponto e salva no dicionário os menores valores\n",
    "for i in range(0, len(df_februaryData_sim_1), 49):\n",
    "    group_df = df_februaryData_sim_1.iloc[i:i+49]  # Selecionar grupo de 49 pontos\n",
    "    min_gamma = group_df.apply(lambda row: position_module(row, max_Dm), axis=1).min()\n",
    "       \n",
    "    # Salva o menor valor de gamma-index no dicionário\n",
    "    x_coord = group_df.iloc[0]['Ponto Medido X (rm_x)']\n",
    "    y_coord = group_df.iloc[0]['Ponto Medido Y (rm_y)']\n",
    "    gamma_index_feb_1['{},{}'.format(x_coord, y_coord)] = min_gamma.round(2)"
   ]
  },
  {
   "cell_type": "markdown",
   "metadata": {},
   "source": [
    "#### Análise dos valores obtidos\n",
    "\n",
    "* Retorna quais valores estão 'acima' e 'abaixo ou igual' a 1, classificando-os como 'pontos reprovados' e 'pontos aprovados', respectivamente,\n",
    "* Também cria um dataframe dos pontos analisados com seus respectivos gamma-index."
   ]
  },
  {
   "cell_type": "code",
   "execution_count": 154,
   "metadata": {},
   "outputs": [],
   "source": [
    "# Contar a quantidade de valores menores ou iguais a 1 e a quantidade de valores maiores que 1\n",
    "menores_ou_iguais_que_um = sum(1 for valor in gamma_index_feb_1.values() if valor <= 1)\n",
    "\n",
    "maiores_que_um = sum(1 for valor in gamma_index_feb_1.values() if valor > 1)\n",
    "\n",
    "# Total de valores do gamma-index\n",
    "total_valores = len(gamma_index_feb_1)\n",
    "\n",
    "# Calcular as porcentagens dos valores acima\n",
    "porcentagem_menores_que_um = (menores_ou_iguais_que_um / total_valores) * 100\n",
    "\n",
    "porcentagem_maiores_que_um = (maiores_que_um / total_valores) * 100"
   ]
  },
  {
   "cell_type": "code",
   "execution_count": 155,
   "metadata": {},
   "outputs": [
    {
     "name": "stdout",
     "output_type": "stream",
     "text": [
      "Valores referentes às medidas da 1ª Simulação de Fevereiro\n",
      "\n",
      "Total de pontos analisados: 25\n",
      "Diferença de percentual de dose: 3.0%\n",
      "DTA utilizado: 3.0 mm\n",
      "\n",
      "Quantidade de valores aprovados, ou seja, menores ou iguais a um: 25\n",
      "Quantidade de valores reprovados, ou seja, maiores que um: 0\n",
      "\n",
      "Porcentagem de valores aprovados: 100.0%\n",
      "Porcentagem de valores reprovados: 0.0%\n"
     ]
    }
   ],
   "source": [
    "# Imprimir os resultados\n",
    "print(\"Valores referentes às medidas da 1ª Simulação de Fevereiro\")\n",
    "print()\n",
    "print(\"Total de pontos analisados:\", total_valores)\n",
    "print(f\"Diferença de percentual de dose: {delta_Dm*100}%\")\n",
    "print(f\"DTA utilizado: {delta_dM} mm\")\n",
    "print()\n",
    "print(\"Quantidade de valores aprovados, ou seja, menores ou iguais a um:\", menores_ou_iguais_que_um)\n",
    "print(\"Quantidade de valores reprovados, ou seja, maiores que um:\", maiores_que_um)\n",
    "print()\n",
    "print(f\"Porcentagem de valores aprovados: {porcentagem_menores_que_um}%\")\n",
    "print(f\"Porcentagem de valores reprovados: {porcentagem_maiores_que_um}%\")"
   ]
  },
  {
   "cell_type": "markdown",
   "metadata": {},
   "source": [
    "#### Visualização dos dados tratados\n",
    "\n",
    "* Visualiza tabela final para cada simulação, com os pontos medido e seu menor valor de gamma-index calculado."
   ]
  },
  {
   "cell_type": "code",
   "execution_count": 156,
   "metadata": {},
   "outputs": [],
   "source": [
    "# Cria um dataframe para os valores obtidos da primeira simulação\n",
    "df_februaryGammaIndex_sim_1 = pd.DataFrame(list(gamma_index_feb_1.items()), columns=['Pontos Medidos (X,Y)', 'Gamma Index'])"
   ]
  },
  {
   "cell_type": "code",
   "execution_count": 157,
   "metadata": {},
   "outputs": [
    {
     "name": "stdout",
     "output_type": "stream",
     "text": [
      "   Pontos Medidos (X,Y)  Gamma Index\n",
      "0             18.0,18.0         0.16\n",
      "1              9.0,18.0         0.08\n",
      "2              0.0,18.0         0.28\n",
      "3             -9.0,18.0         0.20\n",
      "4            -18.0,18.0         0.10\n",
      "5              18.0,9.0         0.16\n",
      "6               9.0,9.0         0.27\n",
      "7               0.0,9.0         0.13\n",
      "8              -9.0,9.0         0.51\n",
      "9             -18.0,9.0         0.04\n",
      "10             18.0,0.0         0.21\n",
      "11              9.0,0.0         0.54\n",
      "12              0.0,0.0         0.18\n",
      "13             -9.0,0.0         0.15\n",
      "14            -18.0,0.0         0.49\n",
      "15            18.0,-9.0         0.15\n",
      "16             9.0,-9.0         0.47\n",
      "17             0.0,-9.0         0.13\n",
      "18            -9.0,-9.0         0.53\n",
      "19           -18.0,-9.0         0.04\n",
      "20           18.0,-18.0         0.08\n",
      "21            9.0,-18.0         0.21\n",
      "22            0.0,-18.0         0.20\n",
      "23           -9.0,-18.0         0.36\n",
      "24          -18.0,-18.0         0.13\n"
     ]
    }
   ],
   "source": [
    "# Visualiza o DataFrame com os devidos tratamentos\n",
    "print(df_februaryGammaIndex_sim_1.head(25))"
   ]
  },
  {
   "cell_type": "markdown",
   "metadata": {},
   "source": [
    "### Resultados - 2ª Simulação"
   ]
  },
  {
   "cell_type": "markdown",
   "metadata": {},
   "source": [
    "#### Leitura dos dados\n",
    "\n",
    "* Lê os dados do arquivo .csv com os dados do mês de Agosto."
   ]
  },
  {
   "cell_type": "code",
   "execution_count": 158,
   "metadata": {},
   "outputs": [
    {
     "name": "stdout",
     "output_type": "stream",
     "text": [
      "<class 'pandas.core.frame.DataFrame'>\n",
      "RangeIndex: 1225 entries, 0 to 1224\n",
      "Data columns (total 10 columns):\n",
      " #   Column                    Non-Null Count  Dtype  \n",
      "---  ------                    --------------  -----  \n",
      " 0   TLD                       25 non-null     float64\n",
      " 1   Dose Medida (Dm)          1225 non-null   int64  \n",
      " 2   Dose Calculada (Dc)       1225 non-null   int64  \n",
      " 3   Ponto Medido X (rm_x)     1225 non-null   int64  \n",
      " 4   Ponto Medido Y (rm_y)     1225 non-null   int64  \n",
      " 5   Ponto Calculado X (rc_x)  1225 non-null   int64  \n",
      " 6   Ponto Calculado Y (rc_y)  1225 non-null   int64  \n",
      " 7   Unnamed: 7                0 non-null      float64\n",
      " 8   Unnamed: 8                1 non-null      object \n",
      " 9   Unnamed: 9                1 non-null      object \n",
      "dtypes: float64(2), int64(6), object(2)\n",
      "memory usage: 95.8+ KB\n",
      "None\n"
     ]
    }
   ],
   "source": [
    "# Leitura dos dados do mês de Agosto refente à 1ª Simulação e criação do Dataframe\n",
    "february_data_sim_2 = './Fevereiro_23/Matrizes das Simulações para o Programa - Simulação 2 - Fevereiro.csv'\n",
    "df_februaryData_sim_2 = pd.read_csv(february_data_sim_2)\n",
    "\n",
    "# Informações do Dataframe dos dados\n",
    "print(df_februaryData_sim_2.info())"
   ]
  },
  {
   "cell_type": "markdown",
   "metadata": {},
   "source": [
    "#### Valores de Gamma-Index\n",
    "\n",
    "* Analisa os 49 pontos calculados para cada ponto medido calculando o gamma-index para cada um desses pontos,\n",
    "* Retorna o menor gamma-index dos calculados para cada ponto medido, com seu respectivo ponto medido."
   ]
  },
  {
   "cell_type": "code",
   "execution_count": 159,
   "metadata": {},
   "outputs": [],
   "source": [
    "# Obtém o valor máximo dentre as doses medidas\n",
    "max_Dm = df_februaryData_sim_2['Dose Medida (Dm)'].max()\n",
    "\n",
    "# Criação do dicionário que irá salvar os valores gamma-index para cada ponto\n",
    "gamma_index_feb_2 = {}"
   ]
  },
  {
   "cell_type": "code",
   "execution_count": 160,
   "metadata": {},
   "outputs": [],
   "source": [
    "# Calcula os valores de gamma-index de cada ponto e salva no dicionário os menores valores\n",
    "for i in range(0, len(df_februaryData_sim_2), 49):\n",
    "    group_df = df_februaryData_sim_2.iloc[i:i+49]  # Selecionar grupo de 49 pontos\n",
    "    min_gamma = group_df.apply(lambda row: position_module(row, max_Dm), axis=1).min()\n",
    "       \n",
    "    # Salva o menor valor de gamma-index no dicionário\n",
    "    x_coord = group_df.iloc[0]['Ponto Medido X (rm_x)']\n",
    "    y_coord = group_df.iloc[0]['Ponto Medido Y (rm_y)']\n",
    "    gamma_index_feb_2['{},{}'.format(x_coord, y_coord)] = min_gamma.round(2)"
   ]
  },
  {
   "cell_type": "markdown",
   "metadata": {},
   "source": [
    "#### Análise dos valores obtidos\n",
    "\n",
    "* Retorna quais valores estão 'acima' e 'abaixo ou igual' a 1, classificando-os como 'pontos reprovados' e 'pontos aprovados', respectivamente,\n",
    "* Também cria um dataframe dos pontos analisados com seus respectivos gamma-index."
   ]
  },
  {
   "cell_type": "code",
   "execution_count": 161,
   "metadata": {},
   "outputs": [],
   "source": [
    "# Contar a quantidade de valores menores ou iguais a 1 e a quantidade de valores maiores que 1\n",
    "menores_ou_iguais_que_um = sum(1 for valor in gamma_index_feb_2.values() if valor <= 1)\n",
    "\n",
    "maiores_que_um = sum(1 for valor in gamma_index_feb_2.values() if valor > 1)\n",
    "\n",
    "# Total de valores do gamma-index\n",
    "total_valores = len(gamma_index_feb_2)\n",
    "\n",
    "# Calcular as porcentagens dos valores acima\n",
    "porcentagem_menores_que_um = (menores_ou_iguais_que_um / total_valores) * 100\n",
    "\n",
    "porcentagem_maiores_que_um = (maiores_que_um / total_valores) * 100"
   ]
  },
  {
   "cell_type": "code",
   "execution_count": 162,
   "metadata": {},
   "outputs": [
    {
     "name": "stdout",
     "output_type": "stream",
     "text": [
      "Valores referentes às medidas da 2ª Simulação de Fevereiro\n",
      "\n",
      "Total de pontos analisados: 25\n",
      "Diferença de percentual de dose: 3.0%\n",
      "DTA utilizado: 3.0 mm\n",
      "\n",
      "Quantidade de valores aprovados, ou seja, menores ou iguais a um: 25\n",
      "Quantidade de valores reprovados, ou seja, maiores que um: 0\n",
      "\n",
      "Porcentagem de valores aprovados: 100.0%\n",
      "Porcentagem de valores reprovados: 0.0%\n"
     ]
    }
   ],
   "source": [
    "# Imprimir os resultados\n",
    "print(\"Valores referentes às medidas da 2ª Simulação de Fevereiro\")\n",
    "print()\n",
    "print(\"Total de pontos analisados:\", total_valores)\n",
    "print(f\"Diferença de percentual de dose: {delta_Dm*100}%\")\n",
    "print(f\"DTA utilizado: {delta_dM} mm\")\n",
    "print()\n",
    "print(\"Quantidade de valores aprovados, ou seja, menores ou iguais a um:\", menores_ou_iguais_que_um)\n",
    "print(\"Quantidade de valores reprovados, ou seja, maiores que um:\", maiores_que_um)\n",
    "print()\n",
    "print(f\"Porcentagem de valores aprovados: {porcentagem_menores_que_um}%\")\n",
    "print(f\"Porcentagem de valores reprovados: {porcentagem_maiores_que_um}%\")"
   ]
  },
  {
   "cell_type": "markdown",
   "metadata": {},
   "source": [
    "#### Visualização dos dados tratados\n",
    "\n",
    "* Visualiza tabela final para cada simulação, com os pontos medido e seu menor valor de gamma-index calculado."
   ]
  },
  {
   "cell_type": "code",
   "execution_count": 163,
   "metadata": {},
   "outputs": [],
   "source": [
    "# Cria um dataframe para os valores obtidos da primeira simulação\n",
    "df_februaryGammaIndex_sim_2 = pd.DataFrame(list(gamma_index_feb_2.items()), columns=['Pontos Medidos (X,Y)', 'Gamma Index'])"
   ]
  },
  {
   "cell_type": "code",
   "execution_count": 164,
   "metadata": {},
   "outputs": [
    {
     "name": "stdout",
     "output_type": "stream",
     "text": [
      "   Pontos Medidos (X,Y)  Gamma Index\n",
      "0                 18,18         0.05\n",
      "1                  9,18         0.10\n",
      "2                  0,18         0.69\n",
      "3                 -9,18         0.10\n",
      "4                -18,18         0.06\n",
      "5                  18,9         0.05\n",
      "6                   9,9         0.07\n",
      "7                   0,9         0.77\n",
      "8                  -9,9         0.05\n",
      "9                 -18,9         0.07\n",
      "10                 18,0         0.19\n",
      "11                  9,0         0.12\n",
      "12                  0,0         0.63\n",
      "13                 -9,0         0.24\n",
      "14                -18,0         0.17\n",
      "15                18,-9         0.08\n",
      "16                 9,-9         0.07\n",
      "17                 0,-9         0.73\n",
      "18                -9,-9         0.03\n",
      "19               -18,-9         0.04\n",
      "20               18,-18         0.02\n",
      "21                9,-18         0.07\n",
      "22                0,-18         0.90\n",
      "23               -9,-18         0.20\n",
      "24              -18,-18         0.02\n"
     ]
    }
   ],
   "source": [
    "# Visualiza o DataFrame com os devidos tratamentos\n",
    "print(df_februaryGammaIndex_sim_2.head(25))"
   ]
  },
  {
   "cell_type": "markdown",
   "metadata": {},
   "source": [
    "### Resultados - 3ª Simulação"
   ]
  },
  {
   "cell_type": "markdown",
   "metadata": {},
   "source": [
    "#### Leitura dos dados\n",
    "\n",
    "* Lê os dados do arquivo .csv com os dados do mês de Agosto."
   ]
  },
  {
   "cell_type": "code",
   "execution_count": 165,
   "metadata": {},
   "outputs": [
    {
     "name": "stdout",
     "output_type": "stream",
     "text": [
      "<class 'pandas.core.frame.DataFrame'>\n",
      "RangeIndex: 1225 entries, 0 to 1224\n",
      "Data columns (total 7 columns):\n",
      " #   Column                    Non-Null Count  Dtype  \n",
      "---  ------                    --------------  -----  \n",
      " 0   TLD                       25 non-null     float64\n",
      " 1   Dose Medida (Dm)          1225 non-null   int64  \n",
      " 2   Dose Calculada (Dc)       1225 non-null   int64  \n",
      " 3   Ponto Medido X (rm_x)     1225 non-null   int64  \n",
      " 4   Ponto Medido Y (rm_y)     1225 non-null   int64  \n",
      " 5   Ponto Calculado X (rc_x)  1225 non-null   int64  \n",
      " 6   Ponto Calculado Y (rc_y)  1225 non-null   int64  \n",
      "dtypes: float64(1), int64(6)\n",
      "memory usage: 67.1 KB\n",
      "None\n"
     ]
    }
   ],
   "source": [
    "# Leitura dos dados do mês de Agosto refente à 1ª Simulação e criação do Dataframe\n",
    "february_data_sim_3 = './Fevereiro_23/Matrizes das Simulações para o Programa - Simulação 3 - Fevereiro.csv'\n",
    "df_februaryData_sim_3 = pd.read_csv(february_data_sim_3)\n",
    "\n",
    "# Informações do Dataframe dos dados\n",
    "print(df_februaryData_sim_3.info())"
   ]
  },
  {
   "cell_type": "markdown",
   "metadata": {},
   "source": [
    "#### Valores de Gamma-Index\n",
    "\n",
    "* Analisa os 49 pontos calculados para cada ponto medido calculando o gamma-index para cada um desses pontos,\n",
    "* Retorna o menor gamma-index dos calculados para cada ponto medido, com seu respectivo ponto medido."
   ]
  },
  {
   "cell_type": "code",
   "execution_count": 166,
   "metadata": {},
   "outputs": [],
   "source": [
    "# Obtém o valor máximo dentre as doses medidas\n",
    "max_Dm = df_februaryData_sim_3['Dose Medida (Dm)'].max()\n",
    "\n",
    "# Criação do dicionário que irá salvar os valores gamma-index para cada ponto\n",
    "gamma_index_feb_3 = {}"
   ]
  },
  {
   "cell_type": "code",
   "execution_count": 167,
   "metadata": {},
   "outputs": [],
   "source": [
    "# Calcula os valores de gamma-index de cada ponto e salva no dicionário os menores valores\n",
    "for i in range(0, len(df_februaryData_sim_3), 49):\n",
    "    group_df = df_februaryData_sim_3.iloc[i:i+49]  # Selecionar grupo de 49 pontos\n",
    "    min_gamma = group_df.apply(lambda row: position_module(row, max_Dm), axis=1).min()\n",
    "       \n",
    "    # Salva o menor valor de gamma-index no dicionário\n",
    "    x_coord = group_df.iloc[0]['Ponto Medido X (rm_x)']\n",
    "    y_coord = group_df.iloc[0]['Ponto Medido Y (rm_y)']\n",
    "    gamma_index_feb_3['{},{}'.format(x_coord, y_coord)] = min_gamma.round(2)"
   ]
  },
  {
   "cell_type": "markdown",
   "metadata": {},
   "source": [
    "#### Análise dos valores obtidos\n",
    "\n",
    "* Retorna quais valores estão 'acima' e 'abaixo ou igual' a 1, classificando-os como 'pontos reprovados' e 'pontos aprovados', respectivamente,\n",
    "* Também cria um dataframe dos pontos analisados com seus respectivos gamma-index."
   ]
  },
  {
   "cell_type": "code",
   "execution_count": 168,
   "metadata": {},
   "outputs": [],
   "source": [
    "# Contar a quantidade de valores menores ou iguais a 1 e a quantidade de valores maiores que 1\n",
    "menores_ou_iguais_que_um = sum(1 for valor in gamma_index_feb_3.values() if valor <= 1)\n",
    "\n",
    "maiores_que_um = sum(1 for valor in gamma_index_feb_3.values() if valor > 1)\n",
    "\n",
    "# Total de valores do gamma-index\n",
    "total_valores = len(gamma_index_feb_3)\n",
    "\n",
    "# Calcular as porcentagens dos valores acima\n",
    "porcentagem_menores_que_um = (menores_ou_iguais_que_um / total_valores) * 100\n",
    "\n",
    "porcentagem_maiores_que_um = (maiores_que_um / total_valores) * 100"
   ]
  },
  {
   "cell_type": "code",
   "execution_count": 169,
   "metadata": {},
   "outputs": [
    {
     "name": "stdout",
     "output_type": "stream",
     "text": [
      "Valores referentes às medidas da 3ª Simulação de Fevereiro\n",
      "\n",
      "Total de pontos analisados: 25\n",
      "Diferença de percentual de dose: 3.0%\n",
      "DTA utilizado: 3.0 mm\n",
      "\n",
      "Quantidade de valores aprovados, ou seja, menores ou iguais a um: 25\n",
      "Quantidade de valores reprovados, ou seja, maiores que um: 0\n",
      "\n",
      "Porcentagem de valores aprovados: 100.0%\n",
      "Porcentagem de valores reprovados: 0.0%\n"
     ]
    }
   ],
   "source": [
    "# Imprimir os resultados\n",
    "print(\"Valores referentes às medidas da 3ª Simulação de Fevereiro\")\n",
    "print()\n",
    "print(\"Total de pontos analisados:\", total_valores)\n",
    "print(f\"Diferença de percentual de dose: {delta_Dm*100}%\")\n",
    "print(f\"DTA utilizado: {delta_dM} mm\")\n",
    "print()\n",
    "print(\"Quantidade de valores aprovados, ou seja, menores ou iguais a um:\", menores_ou_iguais_que_um)\n",
    "print(\"Quantidade de valores reprovados, ou seja, maiores que um:\", maiores_que_um)\n",
    "print()\n",
    "print(f\"Porcentagem de valores aprovados: {porcentagem_menores_que_um}%\")\n",
    "print(f\"Porcentagem de valores reprovados: {porcentagem_maiores_que_um}%\")"
   ]
  },
  {
   "cell_type": "markdown",
   "metadata": {},
   "source": [
    "#### Visualização dos dados tratados\n",
    "\n",
    "* Visualiza tabela final para cada simulação, com os pontos medido e seu menor valor de gamma-index calculado."
   ]
  },
  {
   "cell_type": "code",
   "execution_count": 170,
   "metadata": {},
   "outputs": [],
   "source": [
    "# Cria um dataframe para os valores obtidos da primeira simulação\n",
    "df_februaryGammaIndex_sim_3 = pd.DataFrame(list(gamma_index_feb_3.items()), columns=['Pontos Medidos (X,Y)', 'Gamma Index'])"
   ]
  },
  {
   "cell_type": "code",
   "execution_count": 171,
   "metadata": {},
   "outputs": [
    {
     "name": "stdout",
     "output_type": "stream",
     "text": [
      "   Pontos Medidos (X,Y)  Gamma Index\n",
      "0             18.0,18.0         0.05\n",
      "1              9.0,18.0         0.04\n",
      "2              0.0,18.0         0.25\n",
      "3             -9.0,18.0         0.05\n",
      "4            -18.0,18.0         0.03\n",
      "5              18.0,9.0         0.14\n",
      "6               9.0,9.0         0.07\n",
      "7               0.0,9.0         0.18\n",
      "8              -9.0,9.0         0.02\n",
      "9             -18.0,9.0         0.16\n",
      "10             18.0,0.0         0.69\n",
      "11              9.0,0.0         0.90\n",
      "12              0.0,0.0         0.84\n",
      "13             -9.0,0.0         0.89\n",
      "14            -18.0,0.0         0.80\n",
      "15            18.0,-9.0         0.24\n",
      "16             9.0,-9.0         0.09\n",
      "17             0.0,-9.0         0.07\n",
      "18            -9.0,-9.0         0.09\n",
      "19           -18.0,-9.0         0.22\n",
      "20           18.0,-18.0         0.04\n",
      "21            9.0,-18.0         0.13\n",
      "22            0.0,-18.0         0.24\n",
      "23           -9.0,-18.0         0.16\n",
      "24          -18.0,-18.0         0.10\n"
     ]
    }
   ],
   "source": [
    "# Visualiza o DataFrame com os devidos tratamentos\n",
    "print(df_februaryGammaIndex_sim_3.head(25))"
   ]
  },
  {
   "cell_type": "markdown",
   "metadata": {},
   "source": [
    "### Resultados - 4ª Simulação"
   ]
  },
  {
   "cell_type": "markdown",
   "metadata": {},
   "source": [
    "#### Leitura dos dados\n",
    "\n",
    "* Lê os dados do arquivo .csv com os dados do mês de Agosto."
   ]
  },
  {
   "cell_type": "code",
   "execution_count": 172,
   "metadata": {},
   "outputs": [
    {
     "name": "stdout",
     "output_type": "stream",
     "text": [
      "<class 'pandas.core.frame.DataFrame'>\n",
      "RangeIndex: 1225 entries, 0 to 1224\n",
      "Data columns (total 7 columns):\n",
      " #   Column                    Non-Null Count  Dtype  \n",
      "---  ------                    --------------  -----  \n",
      " 0   TLD                       25 non-null     float64\n",
      " 1   Dose Medida (Dm)          1225 non-null   int64  \n",
      " 2   Dose Calculada (Dc)       1225 non-null   int64  \n",
      " 3   Ponto Medido X (rm_x)     1225 non-null   int64  \n",
      " 4   Ponto Medido Y (rm_y)     1225 non-null   int64  \n",
      " 5   Ponto Calculado X (rc_x)  1225 non-null   int64  \n",
      " 6   Ponto Calculado Y (rc_y)  1225 non-null   int64  \n",
      "dtypes: float64(1), int64(6)\n",
      "memory usage: 67.1 KB\n",
      "None\n"
     ]
    }
   ],
   "source": [
    "# Leitura dos dados do mês de Agosto refente à 1ª Simulação e criação do Dataframe\n",
    "february_data_sim_4 = './Fevereiro_23/Matrizes das Simulações para o Programa - Simulação 4 - Fevereiro.csv'\n",
    "df_februaryData_sim_4 = pd.read_csv(february_data_sim_4)\n",
    "\n",
    "# Informações do Dataframe dos dados\n",
    "print(df_februaryData_sim_4.info())"
   ]
  },
  {
   "cell_type": "markdown",
   "metadata": {},
   "source": [
    "#### Valores de Gamma-Index\n",
    "\n",
    "* Analisa os 49 pontos calculados para cada ponto medido calculando o gamma-index para cada um desses pontos,\n",
    "* Retorna o menor gamma-index dos calculados para cada ponto medido, com seu respectivo ponto medido."
   ]
  },
  {
   "cell_type": "code",
   "execution_count": 173,
   "metadata": {},
   "outputs": [],
   "source": [
    "# Obtém o valor máximo dentre as doses medidas\n",
    "max_Dm = df_februaryData_sim_4['Dose Medida (Dm)'].max()\n",
    "\n",
    "# Criação do dicionário que irá salvar os valores gamma-index para cada ponto\n",
    "gamma_index_feb_4 = {}"
   ]
  },
  {
   "cell_type": "code",
   "execution_count": 174,
   "metadata": {},
   "outputs": [],
   "source": [
    "# Calcula os valores de gamma-index de cada ponto e salva no dicionário os menores valores\n",
    "for i in range(0, len(df_februaryData_sim_4), 49):\n",
    "    group_df = df_februaryData_sim_4.iloc[i:i+49]  # Selecionar grupo de 49 pontos\n",
    "    min_gamma = group_df.apply(lambda row: position_module(row, max_Dm), axis=1).min()\n",
    "       \n",
    "    # Salva o menor valor de gamma-index no dicionário\n",
    "    x_coord = group_df.iloc[0]['Ponto Medido X (rm_x)']\n",
    "    y_coord = group_df.iloc[0]['Ponto Medido Y (rm_y)']\n",
    "    gamma_index_feb_4['{},{}'.format(x_coord, y_coord)] = min_gamma.round(2)"
   ]
  },
  {
   "cell_type": "markdown",
   "metadata": {},
   "source": [
    "#### Análise dos valores obtidos\n",
    "\n",
    "* Retorna quais valores estão 'acima' e 'abaixo ou igual' a 1, classificando-os como 'pontos reprovados' e 'pontos aprovados', respectivamente,\n",
    "* Também cria um dataframe dos pontos analisados com seus respectivos gamma-index."
   ]
  },
  {
   "cell_type": "code",
   "execution_count": 175,
   "metadata": {},
   "outputs": [],
   "source": [
    "# Contar a quantidade de valores menores ou iguais a 1 e a quantidade de valores maiores que 1\n",
    "menores_ou_iguais_que_um = sum(1 for valor in gamma_index_feb_4.values() if valor <= 1)\n",
    "\n",
    "maiores_que_um = sum(1 for valor in gamma_index_feb_4.values() if valor > 1)\n",
    "\n",
    "# Total de valores do gamma-index\n",
    "total_valores = len(gamma_index_feb_4)\n",
    "\n",
    "# Calcular as porcentagens dos valores acima\n",
    "porcentagem_menores_que_um = (menores_ou_iguais_que_um / total_valores) * 100\n",
    "\n",
    "porcentagem_maiores_que_um = (maiores_que_um / total_valores) * 100"
   ]
  },
  {
   "cell_type": "code",
   "execution_count": 176,
   "metadata": {},
   "outputs": [
    {
     "name": "stdout",
     "output_type": "stream",
     "text": [
      "Valores referentes às medidas da 4ª Simulação de Fevereiro\n",
      "\n",
      "Total de pontos analisados: 25\n",
      "Diferença de percentual de dose: 3.0%\n",
      "DTA utilizado: 3.0 mm\n",
      "\n",
      "Quantidade de valores aprovados, ou seja, menores ou iguais a um: 25\n",
      "Quantidade de valores reprovados, ou seja, maiores que um: 0\n",
      "\n",
      "Porcentagem de valores aprovados: 100.0%\n",
      "Porcentagem de valores reprovados: 0.0%\n"
     ]
    }
   ],
   "source": [
    "# Imprimir os resultados\n",
    "print(\"Valores referentes às medidas da 4ª Simulação de Fevereiro\")\n",
    "print()\n",
    "print(\"Total de pontos analisados:\", total_valores)\n",
    "print(f\"Diferença de percentual de dose: {delta_Dm*100}%\")\n",
    "print(f\"DTA utilizado: {delta_dM} mm\")\n",
    "print()\n",
    "print(\"Quantidade de valores aprovados, ou seja, menores ou iguais a um:\", menores_ou_iguais_que_um)\n",
    "print(\"Quantidade de valores reprovados, ou seja, maiores que um:\", maiores_que_um)\n",
    "print()\n",
    "print(f\"Porcentagem de valores aprovados: {porcentagem_menores_que_um}%\")\n",
    "print(f\"Porcentagem de valores reprovados: {porcentagem_maiores_que_um}%\")"
   ]
  },
  {
   "cell_type": "markdown",
   "metadata": {},
   "source": [
    "#### Visualização dos dados tratados\n",
    "\n",
    "* Visualiza tabela final para cada simulação, com os pontos medido e seu menor valor de gamma-index calculado."
   ]
  },
  {
   "cell_type": "code",
   "execution_count": 177,
   "metadata": {},
   "outputs": [],
   "source": [
    "# Cria um dataframe para os valores obtidos da primeira simulação\n",
    "df_februaryGammaIndex_sim_4 = pd.DataFrame(list(gamma_index_feb_4.items()), columns=['Pontos Medidos (X,Y)', 'Gamma Index'])"
   ]
  },
  {
   "cell_type": "code",
   "execution_count": 178,
   "metadata": {},
   "outputs": [
    {
     "name": "stdout",
     "output_type": "stream",
     "text": [
      "   Pontos Medidos (X,Y)  Gamma Index\n",
      "0             18.0,18.0         0.06\n",
      "1              9.0,18.0         0.06\n",
      "2              0.0,18.0         0.24\n",
      "3             -9.0,18.0         0.09\n",
      "4            -18.0,18.0         0.07\n",
      "5              18.0,9.0         0.08\n",
      "6               9.0,9.0         0.16\n",
      "7               0.0,9.0         0.22\n",
      "8              -9.0,9.0         0.08\n",
      "9             -18.0,9.0         0.05\n",
      "10             18.0,0.0         0.23\n",
      "11              9.0,0.0         0.64\n",
      "12              0.0,0.0         0.84\n",
      "13             -9.0,0.0         0.26\n",
      "14            -18.0,0.0         0.25\n",
      "15            18.0,-9.0         0.25\n",
      "16             9.0,-9.0         0.10\n",
      "17             0.0,-9.0         0.25\n",
      "18            -9.0,-9.0         0.18\n",
      "19           -18.0,-9.0         0.10\n",
      "20           18.0,-18.0         0.12\n",
      "21            9.0,-18.0         0.26\n",
      "22            0.0,-18.0         0.20\n",
      "23           -9.0,-18.0         0.17\n",
      "24          -18.0,-18.0         0.06\n"
     ]
    }
   ],
   "source": [
    "# Visualiza o DataFrame com os devidos tratamentos\n",
    "print(df_februaryGammaIndex_sim_4.head(25))"
   ]
  },
  {
   "cell_type": "markdown",
   "metadata": {},
   "source": [
    "### Resultados - 5ª Simulação"
   ]
  },
  {
   "cell_type": "markdown",
   "metadata": {},
   "source": [
    "#### Leitura dos dados\n",
    "\n",
    "* Lê os dados do arquivo .csv com os dados do mês de Agosto."
   ]
  },
  {
   "cell_type": "code",
   "execution_count": 179,
   "metadata": {},
   "outputs": [
    {
     "name": "stdout",
     "output_type": "stream",
     "text": [
      "<class 'pandas.core.frame.DataFrame'>\n",
      "RangeIndex: 1225 entries, 0 to 1224\n",
      "Data columns (total 7 columns):\n",
      " #   Column                    Non-Null Count  Dtype  \n",
      "---  ------                    --------------  -----  \n",
      " 0   TLD                       25 non-null     float64\n",
      " 1   Dose Medida (Dm)          1225 non-null   int64  \n",
      " 2   Dose Calculada (Dc)       1225 non-null   int64  \n",
      " 3   Ponto Medido X (rm_x)     1225 non-null   int64  \n",
      " 4   Ponto Medido Y (rm_y)     1225 non-null   int64  \n",
      " 5   Ponto Calculado X (rc_x)  1225 non-null   int64  \n",
      " 6   Ponto Calculado Y (rc_y)  1225 non-null   int64  \n",
      "dtypes: float64(1), int64(6)\n",
      "memory usage: 67.1 KB\n",
      "None\n"
     ]
    }
   ],
   "source": [
    "# Leitura dos dados do mês de Agosto refente à 1ª Simulação e criação do Dataframe\n",
    "february_data_sim_5 = './Fevereiro_23/Matrizes das Simulações para o Programa - Simulação 5 - Fevereiro.csv'\n",
    "df_februaryData_sim_5 = pd.read_csv(february_data_sim_5)\n",
    "\n",
    "# Informações do Dataframe dos dados\n",
    "print(df_februaryData_sim_5.info())"
   ]
  },
  {
   "cell_type": "markdown",
   "metadata": {},
   "source": [
    "#### Valores de Gamma-Index\n",
    "\n",
    "* Analisa os 49 pontos calculados para cada ponto medido calculando o gamma-index para cada um desses pontos,\n",
    "* Retorna o menor gamma-index dos calculados para cada ponto medido, com seu respectivo ponto medido."
   ]
  },
  {
   "cell_type": "code",
   "execution_count": 180,
   "metadata": {},
   "outputs": [],
   "source": [
    "# Obtém o valor máximo dentre as doses medidas\n",
    "max_Dm = df_februaryData_sim_5['Dose Medida (Dm)'].max()\n",
    "\n",
    "# Criação do dicionário que irá salvar os valores gamma-index para cada ponto\n",
    "gamma_index_feb_5 = {}"
   ]
  },
  {
   "cell_type": "code",
   "execution_count": 181,
   "metadata": {},
   "outputs": [],
   "source": [
    "# Calcula os valores de gamma-index de cada ponto e salva no dicionário os menores valores\n",
    "for i in range(0, len(df_februaryData_sim_5), 49):\n",
    "    group_df = df_februaryData_sim_5.iloc[i:i+49]  # Selecionar grupo de 49 pontos\n",
    "    min_gamma = group_df.apply(lambda row: position_module(row, max_Dm), axis=1).min()\n",
    "       \n",
    "    # Salva o menor valor de gamma-index no dicionário\n",
    "    x_coord = group_df.iloc[0]['Ponto Medido X (rm_x)']\n",
    "    y_coord = group_df.iloc[0]['Ponto Medido Y (rm_y)']\n",
    "    gamma_index_feb_5['{},{}'.format(x_coord, y_coord)] = min_gamma.round(2)"
   ]
  },
  {
   "cell_type": "markdown",
   "metadata": {},
   "source": [
    "#### Análise dos valores obtidos\n",
    "\n",
    "* Retorna quais valores estão 'acima' e 'abaixo ou igual' a 1, classificando-os como 'pontos reprovados' e 'pontos aprovados', respectivamente,\n",
    "* Também cria um dataframe dos pontos analisados com seus respectivos gamma-index."
   ]
  },
  {
   "cell_type": "code",
   "execution_count": 182,
   "metadata": {},
   "outputs": [],
   "source": [
    "# Contar a quantidade de valores menores ou iguais a 1 e a quantidade de valores maiores que 1\n",
    "menores_ou_iguais_que_um = sum(1 for valor in gamma_index_feb_5.values() if valor <= 1)\n",
    "\n",
    "maiores_que_um = sum(1 for valor in gamma_index_feb_5.values() if valor > 1)\n",
    "\n",
    "# Total de valores do gamma-index\n",
    "total_valores = len(gamma_index_feb_5)\n",
    "\n",
    "# Calcular as porcentagens dos valores acima\n",
    "porcentagem_menores_que_um = (menores_ou_iguais_que_um / total_valores) * 100\n",
    "\n",
    "porcentagem_maiores_que_um = (maiores_que_um / total_valores) * 100"
   ]
  },
  {
   "cell_type": "code",
   "execution_count": 183,
   "metadata": {},
   "outputs": [
    {
     "name": "stdout",
     "output_type": "stream",
     "text": [
      "Valores referentes às medidas da 5ª Simulação de Fevereiro\n",
      "\n",
      "Total de pontos analisados: 25\n",
      "Diferença de percentual de dose: 3.0%\n",
      "DTA utilizado: 3.0 mm\n",
      "\n",
      "Quantidade de valores aprovados, ou seja, menores ou iguais a um: 25\n",
      "Quantidade de valores reprovados, ou seja, maiores que um: 0\n",
      "\n",
      "Porcentagem de valores aprovados: 100.0%\n",
      "Porcentagem de valores reprovados: 0.0%\n"
     ]
    }
   ],
   "source": [
    "# Imprimir os resultados\n",
    "print(\"Valores referentes às medidas da 5ª Simulação de Fevereiro\")\n",
    "print()\n",
    "print(\"Total de pontos analisados:\", total_valores)\n",
    "print(f\"Diferença de percentual de dose: {delta_Dm*100}%\")\n",
    "print(f\"DTA utilizado: {delta_dM} mm\")\n",
    "print()\n",
    "print(\"Quantidade de valores aprovados, ou seja, menores ou iguais a um:\", menores_ou_iguais_que_um)\n",
    "print(\"Quantidade de valores reprovados, ou seja, maiores que um:\", maiores_que_um)\n",
    "print()\n",
    "print(f\"Porcentagem de valores aprovados: {porcentagem_menores_que_um}%\")\n",
    "print(f\"Porcentagem de valores reprovados: {porcentagem_maiores_que_um}%\")"
   ]
  },
  {
   "cell_type": "markdown",
   "metadata": {},
   "source": [
    "#### Visualização dos dados tratados\n",
    "\n",
    "* Visualiza tabela final para cada simulação, com os pontos medido e seu menor valor de gamma-index calculado."
   ]
  },
  {
   "cell_type": "code",
   "execution_count": 184,
   "metadata": {},
   "outputs": [],
   "source": [
    "# Cria um dataframe para os valores obtidos da primeira simulação\n",
    "df_februaryGammaIndex_sim_5 = pd.DataFrame(list(gamma_index_feb_5.items()), columns=['Pontos Medidos (X,Y)', 'Gamma Index'])"
   ]
  },
  {
   "cell_type": "code",
   "execution_count": 185,
   "metadata": {},
   "outputs": [
    {
     "name": "stdout",
     "output_type": "stream",
     "text": [
      "   Pontos Medidos (X,Y)  Gamma Index\n",
      "0             18.0,18.0         0.05\n",
      "1              9.0,18.0         0.21\n",
      "2              0.0,18.0         0.41\n",
      "3             -9.0,18.0         0.30\n",
      "4            -18.0,18.0         0.12\n",
      "5              18.0,9.0         0.28\n",
      "6               9.0,9.0         0.30\n",
      "7               0.0,9.0         0.49\n",
      "8              -9.0,9.0         0.29\n",
      "9             -18.0,9.0         0.60\n",
      "10             18.0,0.0         0.23\n",
      "11              9.0,0.0         0.27\n",
      "12              0.0,0.0         0.50\n",
      "13             -9.0,0.0         0.11\n",
      "14            -18.0,0.0         0.20\n",
      "15            18.0,-9.0         0.06\n",
      "16             9.0,-9.0         0.08\n",
      "17             0.0,-9.0         0.16\n",
      "18            -9.0,-9.0         0.03\n",
      "19           -18.0,-9.0         0.07\n",
      "20           18.0,-18.0         0.06\n",
      "21            9.0,-18.0         0.05\n",
      "22            0.0,-18.0         0.31\n",
      "23           -9.0,-18.0         0.05\n",
      "24          -18.0,-18.0         0.12\n"
     ]
    }
   ],
   "source": [
    "# Visualiza o DataFrame com os devidos tratamentos\n",
    "print(df_februaryGammaIndex_sim_5.head(25))"
   ]
  },
  {
   "cell_type": "markdown",
   "metadata": {},
   "source": [
    "### Resultados - 6ª Simulação"
   ]
  },
  {
   "cell_type": "markdown",
   "metadata": {},
   "source": [
    "#### Leitura dos dados\n",
    "\n",
    "* Lê os dados do arquivo .csv com os dados do mês de Agosto."
   ]
  },
  {
   "cell_type": "code",
   "execution_count": 186,
   "metadata": {},
   "outputs": [
    {
     "name": "stdout",
     "output_type": "stream",
     "text": [
      "<class 'pandas.core.frame.DataFrame'>\n",
      "RangeIndex: 1225 entries, 0 to 1224\n",
      "Data columns (total 7 columns):\n",
      " #   Column                    Non-Null Count  Dtype  \n",
      "---  ------                    --------------  -----  \n",
      " 0   TLD                       25 non-null     float64\n",
      " 1   Dose Medida (Dm)          1225 non-null   int64  \n",
      " 2   Dose Calculada (Dc)       1225 non-null   int64  \n",
      " 3   Ponto Medido X (rm_x)     1225 non-null   int64  \n",
      " 4   Ponto Medido Y (rm_y)     1225 non-null   int64  \n",
      " 5   Ponto Calculado X (rc_x)  1225 non-null   int64  \n",
      " 6   Ponto Calculado Y (rc_y)  1225 non-null   int64  \n",
      "dtypes: float64(1), int64(6)\n",
      "memory usage: 67.1 KB\n",
      "None\n"
     ]
    }
   ],
   "source": [
    "# Leitura dos dados do mês de Agosto refente à 1ª Simulação e criação do Dataframe\n",
    "february_data_sim_6 = './Fevereiro_23/Matrizes das Simulações para o Programa - Simulação 6 - Fevereiro.csv'\n",
    "df_februaryData_sim_6 = pd.read_csv(february_data_sim_6)\n",
    "\n",
    "# Informações do Dataframe dos dados\n",
    "print(df_februaryData_sim_6.info())"
   ]
  },
  {
   "cell_type": "markdown",
   "metadata": {},
   "source": [
    "#### Valores de Gamma-Index\n",
    "\n",
    "* Analisa os 49 pontos calculados para cada ponto medido calculando o gamma-index para cada um desses pontos,\n",
    "* Retorna o menor gamma-index dos calculados para cada ponto medido, com seu respectivo ponto medido."
   ]
  },
  {
   "cell_type": "code",
   "execution_count": 187,
   "metadata": {},
   "outputs": [],
   "source": [
    "# Obtém o valor máximo dentre as doses medidas\n",
    "max_Dm = df_februaryData_sim_6['Dose Medida (Dm)'].max()\n",
    "\n",
    "# Criação do dicionário que irá salvar os valores gamma-index para cada ponto\n",
    "gamma_index_feb_6 = {}"
   ]
  },
  {
   "cell_type": "code",
   "execution_count": 188,
   "metadata": {},
   "outputs": [],
   "source": [
    "# Calcula os valores de gamma-index de cada ponto e salva no dicionário os menores valores\n",
    "for i in range(0, len(df_februaryData_sim_6), 49):\n",
    "    group_df = df_februaryData_sim_6.iloc[i:i+49]  # Selecionar grupo de 49 pontos\n",
    "    min_gamma = group_df.apply(lambda row: position_module(row, max_Dm), axis=1).min()\n",
    "       \n",
    "    # Salva o menor valor de gamma-index no dicionário\n",
    "    x_coord = group_df.iloc[0]['Ponto Medido X (rm_x)']\n",
    "    y_coord = group_df.iloc[0]['Ponto Medido Y (rm_y)']\n",
    "    gamma_index_feb_6['{},{}'.format(x_coord, y_coord)] = min_gamma.round(2)"
   ]
  },
  {
   "cell_type": "markdown",
   "metadata": {},
   "source": [
    "#### Análise dos valores obtidos\n",
    "\n",
    "* Retorna quais valores estão 'acima' e 'abaixo ou igual' a 1, classificando-os como 'pontos reprovados' e 'pontos aprovados', respectivamente,\n",
    "* Também cria um dataframe dos pontos analisados com seus respectivos gamma-index."
   ]
  },
  {
   "cell_type": "code",
   "execution_count": 189,
   "metadata": {},
   "outputs": [],
   "source": [
    "# Contar a quantidade de valores menores ou iguais a 1 e a quantidade de valores maiores que 1\n",
    "menores_ou_iguais_que_um = sum(1 for valor in gamma_index_feb_6.values() if valor <= 1)\n",
    "\n",
    "maiores_que_um = sum(1 for valor in gamma_index_feb_6.values() if valor > 1)\n",
    "\n",
    "# Total de valores do gamma-index\n",
    "total_valores = len(gamma_index_feb_6)\n",
    "\n",
    "# Calcular as porcentagens dos valores acima\n",
    "porcentagem_menores_que_um = (menores_ou_iguais_que_um / total_valores) * 100\n",
    "\n",
    "porcentagem_maiores_que_um = (maiores_que_um / total_valores) * 100"
   ]
  },
  {
   "cell_type": "code",
   "execution_count": 190,
   "metadata": {},
   "outputs": [
    {
     "name": "stdout",
     "output_type": "stream",
     "text": [
      "Valores referentes às medidas da 6ª Simulação de Fevereiro\n",
      "\n",
      "Total de pontos analisados: 25\n",
      "Diferença de percentual de dose: 3.0%\n",
      "DTA utilizado: 3.0 mm\n",
      "\n",
      "Quantidade de valores aprovados, ou seja, menores ou iguais a um: 25\n",
      "Quantidade de valores reprovados, ou seja, maiores que um: 0\n",
      "\n",
      "Porcentagem de valores aprovados: 100.0%\n",
      "Porcentagem de valores reprovados: 0.0%\n"
     ]
    }
   ],
   "source": [
    "# Imprimir os resultados\n",
    "print(\"Valores referentes às medidas da 6ª Simulação de Fevereiro\")\n",
    "print()\n",
    "print(\"Total de pontos analisados:\", total_valores)\n",
    "print(f\"Diferença de percentual de dose: {delta_Dm*100}%\")\n",
    "print(f\"DTA utilizado: {delta_dM} mm\")\n",
    "print()\n",
    "print(\"Quantidade de valores aprovados, ou seja, menores ou iguais a um:\", menores_ou_iguais_que_um)\n",
    "print(\"Quantidade de valores reprovados, ou seja, maiores que um:\", maiores_que_um)\n",
    "print()\n",
    "print(f\"Porcentagem de valores aprovados: {porcentagem_menores_que_um}%\")\n",
    "print(f\"Porcentagem de valores reprovados: {porcentagem_maiores_que_um}%\")"
   ]
  },
  {
   "cell_type": "markdown",
   "metadata": {},
   "source": [
    "#### Visualização dos dados tratados\n",
    "\n",
    "* Visualiza tabela final para cada simulação, com os pontos medido e seu menor valor de gamma-index calculado."
   ]
  },
  {
   "cell_type": "code",
   "execution_count": 191,
   "metadata": {},
   "outputs": [],
   "source": [
    "# Cria um dataframe para os valores obtidos da primeira simulação\n",
    "df_februaryGammaIndex_sim_6 = pd.DataFrame(list(gamma_index_feb_6.items()), columns=['Pontos Medidos (X,Y)', 'Gamma Index'])"
   ]
  },
  {
   "cell_type": "code",
   "execution_count": 192,
   "metadata": {},
   "outputs": [
    {
     "name": "stdout",
     "output_type": "stream",
     "text": [
      "   Pontos Medidos (X,Y)  Gamma Index\n",
      "0             18.0,18.0         0.14\n",
      "1              9.0,18.0         0.14\n",
      "2              0.0,18.0         0.23\n",
      "3             -9.0,18.0         0.33\n",
      "4            -18.0,18.0         0.13\n",
      "5              18.0,9.0         0.32\n",
      "6               9.0,9.0         0.28\n",
      "7               0.0,9.0         0.26\n",
      "8              -9.0,9.0         0.36\n",
      "9             -18.0,9.0         0.20\n",
      "10             18.0,0.0         0.17\n",
      "11              9.0,0.0         0.35\n",
      "12              0.0,0.0         0.03\n",
      "13             -9.0,0.0         0.39\n",
      "14            -18.0,0.0         0.46\n",
      "15            18.0,-9.0         0.26\n",
      "16             9.0,-9.0         0.09\n",
      "17             0.0,-9.0         0.00\n",
      "18            -9.0,-9.0         0.19\n",
      "19           -18.0,-9.0         0.07\n",
      "20           18.0,-18.0         0.06\n",
      "21            9.0,-18.0         0.33\n",
      "22            0.0,-18.0         0.48\n",
      "23           -9.0,-18.0         0.29\n",
      "24          -18.0,-18.0         0.06\n"
     ]
    }
   ],
   "source": [
    "# Visualiza o DataFrame com os devidos tratamentos\n",
    "print(df_februaryGammaIndex_sim_6.head(25))"
   ]
  },
  {
   "cell_type": "markdown",
   "metadata": {},
   "source": [
    "### Resultados - 7ª Simulação"
   ]
  },
  {
   "cell_type": "markdown",
   "metadata": {},
   "source": [
    "#### Leitura dos dados\n",
    "\n",
    "* Lê os dados do arquivo .csv com os dados do mês de Agosto."
   ]
  },
  {
   "cell_type": "code",
   "execution_count": 193,
   "metadata": {},
   "outputs": [
    {
     "name": "stdout",
     "output_type": "stream",
     "text": [
      "<class 'pandas.core.frame.DataFrame'>\n",
      "RangeIndex: 1225 entries, 0 to 1224\n",
      "Data columns (total 7 columns):\n",
      " #   Column                    Non-Null Count  Dtype  \n",
      "---  ------                    --------------  -----  \n",
      " 0   TLD                       25 non-null     float64\n",
      " 1   Dose Medida (Dm)          1225 non-null   int64  \n",
      " 2   Dose Calculada (Dc)       1225 non-null   int64  \n",
      " 3   Ponto Medido X (rm_x)     1225 non-null   int64  \n",
      " 4   Ponto Medido Y (rm_y)     1225 non-null   int64  \n",
      " 5   Ponto Calculado X (rc_x)  1225 non-null   int64  \n",
      " 6   Ponto Calculado Y (rc_y)  1225 non-null   int64  \n",
      "dtypes: float64(1), int64(6)\n",
      "memory usage: 67.1 KB\n",
      "None\n"
     ]
    }
   ],
   "source": [
    "# Leitura dos dados do mês de Agosto refente à 1ª Simulação e criação do Dataframe\n",
    "february_data_sim_7 = './Fevereiro_23/Matrizes das Simulações para o Programa - Simulação 7 - Fevereiro.csv'\n",
    "df_februaryData_sim_7 = pd.read_csv(february_data_sim_7)\n",
    "\n",
    "# Informações do Dataframe dos dados\n",
    "print(df_februaryData_sim_7.info())"
   ]
  },
  {
   "cell_type": "markdown",
   "metadata": {},
   "source": [
    "#### Valores de Gamma-Index\n",
    "\n",
    "* Analisa os 49 pontos calculados para cada ponto medido calculando o gamma-index para cada um desses pontos,\n",
    "* Retorna o menor gamma-index dos calculados para cada ponto medido, com seu respectivo ponto medido."
   ]
  },
  {
   "cell_type": "code",
   "execution_count": 194,
   "metadata": {},
   "outputs": [],
   "source": [
    "# Obtém o valor máximo dentre as doses medidas\n",
    "max_Dm = df_februaryData_sim_7['Dose Medida (Dm)'].max()\n",
    "\n",
    "# Criação do dicionário que irá salvar os valores gamma-index para cada ponto\n",
    "gamma_index_feb_7 = {}"
   ]
  },
  {
   "cell_type": "code",
   "execution_count": 195,
   "metadata": {},
   "outputs": [],
   "source": [
    "# Calcula os valores de gamma-index de cada ponto e salva no dicionário os menores valores\n",
    "for i in range(0, len(df_februaryData_sim_7), 49):\n",
    "    group_df = df_februaryData_sim_7.iloc[i:i+49]  # Selecionar grupo de 49 pontos\n",
    "    min_gamma = group_df.apply(lambda row: position_module(row, max_Dm), axis=1).min()\n",
    "       \n",
    "    # Salva o menor valor de gamma-index no dicionário\n",
    "    x_coord = group_df.iloc[0]['Ponto Medido X (rm_x)']\n",
    "    y_coord = group_df.iloc[0]['Ponto Medido Y (rm_y)']\n",
    "    gamma_index_feb_7['{},{}'.format(x_coord, y_coord)] = min_gamma.round(2)"
   ]
  },
  {
   "cell_type": "markdown",
   "metadata": {},
   "source": [
    "#### Análise dos valores obtidos\n",
    "\n",
    "* Retorna quais valores estão 'acima' e 'abaixo ou igual' a 1, classificando-os como 'pontos reprovados' e 'pontos aprovados', respectivamente,\n",
    "* Também cria um dataframe dos pontos analisados com seus respectivos gamma-index."
   ]
  },
  {
   "cell_type": "code",
   "execution_count": 196,
   "metadata": {},
   "outputs": [],
   "source": [
    "# Contar a quantidade de valores menores ou iguais a 1 e a quantidade de valores maiores que 1\n",
    "menores_ou_iguais_que_um = sum(1 for valor in gamma_index_feb_7.values() if valor <= 1)\n",
    "\n",
    "maiores_que_um = sum(1 for valor in gamma_index_feb_7.values() if valor > 1)\n",
    "\n",
    "# Total de valores do gamma-index\n",
    "total_valores = len(gamma_index_feb_7)\n",
    "\n",
    "# Calcular as porcentagens dos valores acima\n",
    "porcentagem_menores_que_um = (menores_ou_iguais_que_um / total_valores) * 100\n",
    "\n",
    "porcentagem_maiores_que_um = (maiores_que_um / total_valores) * 100"
   ]
  },
  {
   "cell_type": "code",
   "execution_count": 197,
   "metadata": {},
   "outputs": [
    {
     "name": "stdout",
     "output_type": "stream",
     "text": [
      "Valores referentes às medidas da 7ª Simulação de Fevereiro\n",
      "\n",
      "Total de pontos analisados: 25\n",
      "Diferença de percentual de dose: 3.0%\n",
      "DTA utilizado: 3.0 mm\n",
      "\n",
      "Quantidade de valores aprovados, ou seja, menores ou iguais a um: 25\n",
      "Quantidade de valores reprovados, ou seja, maiores que um: 0\n",
      "\n",
      "Porcentagem de valores aprovados: 100.0%\n",
      "Porcentagem de valores reprovados: 0.0%\n"
     ]
    }
   ],
   "source": [
    "# Imprimir os resultados\n",
    "print(\"Valores referentes às medidas da 7ª Simulação de Fevereiro\")\n",
    "print()\n",
    "print(\"Total de pontos analisados:\", total_valores)\n",
    "print(f\"Diferença de percentual de dose: {delta_Dm*100}%\")\n",
    "print(f\"DTA utilizado: {delta_dM} mm\")\n",
    "print()\n",
    "print(\"Quantidade de valores aprovados, ou seja, menores ou iguais a um:\", menores_ou_iguais_que_um)\n",
    "print(\"Quantidade de valores reprovados, ou seja, maiores que um:\", maiores_que_um)\n",
    "print()\n",
    "print(f\"Porcentagem de valores aprovados: {porcentagem_menores_que_um}%\")\n",
    "print(f\"Porcentagem de valores reprovados: {porcentagem_maiores_que_um}%\")"
   ]
  },
  {
   "cell_type": "markdown",
   "metadata": {},
   "source": [
    "#### Visualização dos dados tratados\n",
    "\n",
    "* Visualiza tabela final para cada simulação, com os pontos medido e seu menor valor de gamma-index calculado."
   ]
  },
  {
   "cell_type": "code",
   "execution_count": 198,
   "metadata": {},
   "outputs": [],
   "source": [
    "# Cria um dataframe para os valores obtidos da primeira simulação\n",
    "df_februaryGammaIndex_sim_7 = pd.DataFrame(list(gamma_index_feb_7.items()), columns=['Pontos Medidos (X,Y)', 'Gamma Index'])"
   ]
  },
  {
   "cell_type": "code",
   "execution_count": 199,
   "metadata": {},
   "outputs": [
    {
     "name": "stdout",
     "output_type": "stream",
     "text": [
      "   Pontos Medidos (X,Y)  Gamma Index\n",
      "0             18.0,18.0         0.12\n",
      "1              9.0,18.0         0.30\n",
      "2              0.0,18.0         0.28\n",
      "3             -9.0,18.0         0.28\n",
      "4            -18.0,18.0         0.15\n",
      "5              18.0,9.0         0.04\n",
      "6               9.0,9.0         0.42\n",
      "7               0.0,9.0         0.51\n",
      "8              -9.0,9.0         0.56\n",
      "9             -18.0,9.0         0.15\n",
      "10             18.0,0.0         0.46\n",
      "11              9.0,0.0         0.29\n",
      "12              0.0,0.0         0.36\n",
      "13             -9.0,0.0         0.51\n",
      "14            -18.0,0.0         0.56\n",
      "15            18.0,-9.0         0.26\n",
      "16             9.0,-9.0         0.14\n",
      "17             0.0,-9.0         0.27\n",
      "18            -9.0,-9.0         0.20\n",
      "19           -18.0,-9.0         0.05\n",
      "20           18.0,-18.0         0.09\n",
      "21            9.0,-18.0         0.34\n",
      "22            0.0,-18.0         0.18\n",
      "23           -9.0,-18.0         0.07\n",
      "24          -18.0,-18.0         0.13\n"
     ]
    }
   ],
   "source": [
    "# Visualiza o DataFrame com os devidos tratamentos\n",
    "print(df_februaryGammaIndex_sim_7.head(25))"
   ]
  },
  {
   "cell_type": "markdown",
   "metadata": {},
   "source": [
    "## *Salvando os Resultados*\n",
    "\n",
    "* Abaixo os resultados de cada mês são salvos em um arquivo no formato .xlsx (Excel), com os resultados das simulações em abas diferentes."
   ]
  },
  {
   "cell_type": "markdown",
   "metadata": {},
   "source": [
    "### Agosto"
   ]
  },
  {
   "cell_type": "code",
   "execution_count": 200,
   "metadata": {},
   "outputs": [],
   "source": [
    "# Criando um arquivo em formato Excel para os resultados referentes ao mês de agosto\n",
    "with pd.ExcelWriter('Resultados_Analises_Programa_Agosto.xlsx', engine='xlsxwriter') as writer:\n",
    "\n",
    "    # Salvando os DataFrames de cada simulação em uma aba chamada diferente\n",
    "    df_augustGammaIndex_sim_1.to_excel(writer, sheet_name='Resultados - 1ª Sim_Agosto', index=False)\n",
    "    \n",
    "    df_augustGammaIndex_sim_2.to_excel(writer, sheet_name='Resultados - 2ª Sim_Agosto', index=False)\n",
    "    \n",
    "    df_augustGammaIndex_sim_3.to_excel(writer, sheet_name='Resultados - 3ª Sim_Agosto', index=False)\n",
    "    \n",
    "    df_augustGammaIndex_sim_4.to_excel(writer, sheet_name='Resultados - 4ª Sim_Agosto', index=False)\n",
    "    \n",
    "    df_augustGammaIndex_sim_5.to_excel(writer, sheet_name='Resultados - 5ª Sim_Agosto', index=False)\n",
    "    \n",
    "    df_augustGammaIndex_sim_6.to_excel(writer, sheet_name='Resultados - 6ª Sim_Agosto', index=False)\n",
    "    \n",
    "    df_augustGammaIndex_sim_7.to_excel(writer, sheet_name='Resultados - 7ª Sim_Agosto', index=False)"
   ]
  },
  {
   "cell_type": "markdown",
   "metadata": {},
   "source": [
    "### Fevereiro"
   ]
  },
  {
   "cell_type": "code",
   "execution_count": 201,
   "metadata": {},
   "outputs": [],
   "source": [
    "# Criando um arquivo em formato Excel para os resultados referentes ao mês de fevereiro\n",
    "with pd.ExcelWriter('Resultados_Analises_Programa_Fevereiro.xlsx', engine='xlsxwriter') as writer:\n",
    "\n",
    "    # Salvando os DataFrames de cada simulação em uma aba chamada diferente\n",
    "    df_februaryGammaIndex_sim_1.to_excel(writer, sheet_name='Resultados - 1ª Sim_Fevereiro', index=False)\n",
    "    \n",
    "    df_februaryGammaIndex_sim_2.to_excel(writer, sheet_name='Resultados - 2ª Sim_Fevereiro', index=False)\n",
    "    \n",
    "    df_februaryGammaIndex_sim_3.to_excel(writer, sheet_name='Resultados - 3ª Sim_Fevereiro', index=False)\n",
    "    \n",
    "    df_februaryGammaIndex_sim_4.to_excel(writer, sheet_name='Resultados - 4ª Sim_Fevereiro', index=False)\n",
    "    \n",
    "    df_februaryGammaIndex_sim_5.to_excel(writer, sheet_name='Resultados - 5ª Sim_Fevereiro', index=False)\n",
    "    \n",
    "    df_februaryGammaIndex_sim_6.to_excel(writer, sheet_name='Resultados - 6ª Sim_Fevereiro', index=False)\n",
    "    \n",
    "    df_februaryGammaIndex_sim_7.to_excel(writer, sheet_name='Resultados - 7ª Sim_Fevereiro', index=False)"
   ]
  }
 ],
 "metadata": {
  "kernelspec": {
   "display_name": "Python 3",
   "language": "python",
   "name": "python3"
  },
  "language_info": {
   "codemirror_mode": {
    "name": "ipython",
    "version": 3
   },
   "file_extension": ".py",
   "mimetype": "text/x-python",
   "name": "python",
   "nbconvert_exporter": "python",
   "pygments_lexer": "ipython3",
   "version": "3.10.12"
  },
  "orig_nbformat": 4
 },
 "nbformat": 4,
 "nbformat_minor": 2
}
