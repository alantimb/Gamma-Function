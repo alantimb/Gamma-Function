{
 "cells": [
  {
   "cell_type": "markdown",
   "metadata": {},
   "source": [
    "# Função Gama\n",
    "\n",
    "\n",
    "A Função Gama utilizada nesse programa tem como intuito receber os dados de posições e de doses de arquivos .csv, para tratá-los corretamente e aplicá-los em uma função matemática. \n",
    "\n",
    "Assim, seu retorno nos devolve os pontos como \"aprovados\" ou \"reprovados\", no sentido de verificar em quais pontos as doses são qualificadas, mediante comparação entre as calculadas e medidas."
   ]
  },
  {
   "cell_type": "code",
   "execution_count": null,
   "metadata": {},
   "outputs": [],
   "source": [
    "# Valores de input da diferença percentual de doses e DTA\n",
    "delta_Dm = float(input(\"Insira aqui a diferença percentual de dose: \"))\n",
    "delta_dM = float(input(\"Insira agora o valor de DTA: \"))"
   ]
  },
  {
   "cell_type": "code",
   "execution_count": null,
   "metadata": {},
   "outputs": [],
   "source": [
    "import pandas as pd\n",
    "import numpy as np\n",
    "\n",
    "def gamma_index_function(rc, rm, Dc, Dm, max_Dm):\n",
    "    '''\n",
    "    Função Gama que será utilizada ao longo do código,\n",
    "    recebendo como parâmetros as medidas de posições (cm) \n",
    "    e doses (cGy) calculadas e medidas. \n",
    "    '''\n",
    "    r_diff_x = np.sqrt(rc[0]**2 + rc[1]**2)\n",
    "    r_diff_y = np.sqrt(rm[0]**2 + rm[1]**2)\n",
    "    r_diff = abs(r_diff_x - r_diff_y) # cálculo do módulo das posições\n",
    "    D_diff = abs(Dc - Dm)/(max_Dm) # diferença entre doses\n",
    "    \n",
    "    F_g = np.sqrt((r_diff/delta_dM)**2 + (D_diff/delta_Dm)**2) # cálculo da função gamma\n",
    "\n",
    "    return F_g\n",
    "\n",
    "def position_module(row, max_Dm):\n",
    "    '''\n",
    "    Função para calcular o módulo de posição, que chama a\n",
    "    função Gamma já passando os parâmetros necessários.\n",
    "    '''\n",
    "    rm_x = row['Ponto Medido X (rm_x)']\n",
    "    rm_y = row['Ponto Medido Y (rm_y)']\n",
    "    rc_x = row['Ponto Calculado X (rc_x)']\n",
    "    rc_y = row['Ponto Calculado Y (rc_y)']\n",
    "    \n",
    "    rm = (rm_x, rm_y) # coordenadas da posição Rm\n",
    "    rc = (rc_x, rc_y) # coordenadas da posição Rc\n",
    "    \n",
    "    return gamma_index_function(rc, rm, float(row['Dose Calculada (Dc)']), float(row['Dose Medida (Dm)']), max_Dm)"
   ]
  },
  {
   "cell_type": "markdown",
   "metadata": {},
   "source": [
    "## *Medidas de Agosto/2022*\n",
    "\n",
    "* Abaixo se encontra a análise dos 25 medidos realizadas em agosto/2022, onde foram calculados os valores de gamma-index dos 49 pontos calculados sobre e na vizinhança de cada ponto medido,\n",
    "* Também foi feita a análise dos resultados a partir dos valores de menor gamma-index destes valores."
   ]
  },
  {
   "cell_type": "markdown",
   "metadata": {},
   "source": [
    "### Resultados - 1ª Simulação"
   ]
  },
  {
   "cell_type": "markdown",
   "metadata": {},
   "source": [
    "#### Leitura dos dados\n",
    "\n",
    "* Lê os dados do arquivo .csv com os dados do mês de Agosto."
   ]
  },
  {
   "cell_type": "code",
   "execution_count": null,
   "metadata": {},
   "outputs": [],
   "source": [
    "# Leitura dos dados do mês de Agosto refente à 1ª Simulação e criação do Dataframe\n",
    "august_data_sim_1 = './Agosto_22/Matrizes das Simulações para o Programa - Simulação 1 - Agosto.csv'\n",
    "df_augustData_sim_1 = pd.read_csv(august_data_sim_1)\n",
    "\n",
    "# Informações do Dataframe dos dados\n",
    "print(df_augustData_sim_1.info())"
   ]
  },
  {
   "cell_type": "markdown",
   "metadata": {},
   "source": [
    "#### Valores de Gamma-Index\n",
    "\n",
    "* Analisa os 49 pontos calculados para cada ponto medido calculando o gamma-index para cada um desses pontos,\n",
    "* Retorna o menor gamma-index dos calculados para cada ponto medido, com seu respectivo ponto medido."
   ]
  },
  {
   "cell_type": "code",
   "execution_count": null,
   "metadata": {},
   "outputs": [],
   "source": [
    "# Obtém o valor máximo dentre as doses medidas\n",
    "max_Dm = df_augustData_sim_1['Dose Medida (Dm)'].max()\n",
    "\n",
    "# Criação do dicionário que irá salvar os valores gamma-index para cada ponto\n",
    "gamma_index_sim_1 = {}"
   ]
  },
  {
   "cell_type": "code",
   "execution_count": null,
   "metadata": {},
   "outputs": [],
   "source": [
    "# Calcula os valores de gamma-index de cada ponto e salva no dicionário os menores valores\n",
    "for i in range(0, len(df_augustData_sim_1), 49):\n",
    "    group_df = df_augustData_sim_1.iloc[i:i+49]  # Selecionar grupo de 49 pontos\n",
    "    min_gamma = group_df.apply(lambda row: position_module(row, max_Dm), axis=1).min()\n",
    "       \n",
    "    # Salva o menor valor de gamma-index no dicionário\n",
    "    x_coord = group_df.iloc[0]['Ponto Medido X (rm_x)']\n",
    "    y_coord = group_df.iloc[0]['Ponto Medido Y (rm_y)']\n",
    "    gamma_index_sim_1['{},{}'.format(x_coord, y_coord)] = min_gamma.round(2)"
   ]
  },
  {
   "cell_type": "markdown",
   "metadata": {},
   "source": [
    "#### Análise dos valores obtidos\n",
    "\n",
    "* Retorna quais valores estão 'acima' e 'abaixo ou igual' a 1, classificando-os como 'pontos reprovados' e 'pontos aprovados', respectivamente,\n",
    "* Também cria um dataframe dos pontos analisados com seus respectivos gamma-index."
   ]
  },
  {
   "cell_type": "code",
   "execution_count": null,
   "metadata": {},
   "outputs": [],
   "source": [
    "# Contar a quantidade de valores menores ou iguais a 1 e a quantidade de valores maiores que 1\n",
    "menores_ou_iguais_que_um = sum(1 for valor in gamma_index_sim_1.values() if valor <= 1)\n",
    "\n",
    "maiores_que_um = sum(1 for valor in gamma_index_sim_1.values() if valor > 1)\n",
    "\n",
    "# Total de valores do gamma-index\n",
    "total_valores = len(gamma_index_sim_1)\n",
    "\n",
    "# Calcular as porcentagens dos valores acima\n",
    "porcentagem_maiores_que_um = (quantidade_menores_ou_iguais_que_um / total_valores) * 100\n",
    "\n",
    "porcentagem_menores_que_um = (quantidade_maiores_que_um / total_valores) * 100"
   ]
  },
  {
   "cell_type": "code",
   "execution_count": null,
   "metadata": {},
   "outputs": [],
   "source": [
    "# Imprimir os resultados\n",
    "print(\"Valores referentes às medidas da 1ª Simulação de Agosto\")\n",
    "print()\n",
    "print(\"Total de pontos analisados:\", total_valores)\n",
    "print(f\"Diferença de percentual de dose: {delta_Dm*100}%\")\n",
    "print(f\"DTA utilizado: {delta_dM} mm\")\n",
    "print()\n",
    "print(\"Quantidade de valores aprovados, ou seja, menores ou iguais a 1:\", quantidade_menores_ou_iguais_a_1)\n",
    "print(\"Quantidade de valores reprovados, ou seja, maiores que 1:\", quantidade_maiores_que_1)\n",
    "print()\n",
    "print(f\"Porcentagem de valores aprovados: {porcentagem_menores_que_um}%\")\n",
    "print(f\"Porcentagem de valores reprovados: {porcentagem_maiores_que_um}%\")"
   ]
  },
  {
   "cell_type": "markdown",
   "metadata": {},
   "source": [
    "#### Visualização dos dados tratados\n",
    "\n",
    "* Visualiza tabela final para cada simulação, com os pontos medido e seu menor valor de gamma-index calculado."
   ]
  },
  {
   "cell_type": "code",
   "execution_count": null,
   "metadata": {},
   "outputs": [],
   "source": [
    "# Cria um dataframe para os valores obtidos da primeira simulação\n",
    "df_augustGammaIndex_sim_1 = pd.DataFrame(list(gamma_index_sim_1.items()), columns=['Pontos Medidos (X,Y)', 'Gamma Index'])"
   ]
  },
  {
   "cell_type": "code",
   "execution_count": null,
   "metadata": {},
   "outputs": [],
   "source": [
    "# Visualiza o DataFrame com os devidos tratamentos\n",
    "print(df_augustGammaIndex_sim_1.head(25))"
   ]
  },
  {
   "cell_type": "markdown",
   "metadata": {},
   "source": [
    "### Resultados - 2ª Simulação"
   ]
  },
  {
   "cell_type": "markdown",
   "metadata": {},
   "source": [
    "#### Leitura dos dados\n",
    "\n",
    "* Lê os dados do arquivo .csv com os dados do mês de Agosto."
   ]
  },
  {
   "cell_type": "code",
   "execution_count": null,
   "metadata": {},
   "outputs": [],
   "source": [
    "# Leitura dos dados do mês de Agosto refente à 1ª Simulação e criação do Dataframe\n",
    "august_data_sim_2 = './Agosto_22/Matrizes das Simulações para o Programa - Simulação 2 - Agosto.csv'\n",
    "df_augustData_sim_2 = pd.read_csv(august_data_sim_2)\n",
    "\n",
    "# Informações do Dataframe dos dados\n",
    "print(df_augustData_sim_2.info())"
   ]
  },
  {
   "cell_type": "markdown",
   "metadata": {},
   "source": [
    "#### Valores de Gamma-Index\n",
    "\n",
    "* Analisa os 49 pontos calculados para cada ponto medido calculando o gamma-index para cada um desses pontos,\n",
    "* Retorna o menor gamma-index dos calculados para cada ponto medido, com seu respectivo ponto medido."
   ]
  },
  {
   "cell_type": "code",
   "execution_count": null,
   "metadata": {},
   "outputs": [],
   "source": [
    "# Obtém o valor máximo dentre as doses medidas\n",
    "max_Dm = df_augustData_sim_2['Dose Medida (Dm)'].max()\n",
    "\n",
    "# Criação do dicionário que irá salvar os valores gamma-index para cada ponto\n",
    "gamma_index_sim_2 = {}"
   ]
  },
  {
   "cell_type": "code",
   "execution_count": null,
   "metadata": {},
   "outputs": [],
   "source": [
    "# Calcula os valores de gamma-index de cada ponto e salva no dicionário os menores valores\n",
    "for i in range(0, len(df_augustData_sim_2), 49):\n",
    "    group_df = df_augustData_sim_2.iloc[i:i+49]  # Selecionar grupo de 49 pontos\n",
    "    min_gamma = group_df.apply(lambda row: position_module(row, max_Dm), axis=1).min()\n",
    "       \n",
    "    # Salva o menor valor de gamma-index no dicionário\n",
    "    x_coord = group_df.iloc[0]['Ponto Medido X (rm_x)']\n",
    "    y_coord = group_df.iloc[0]['Ponto Medido Y (rm_y)']\n",
    "    gamma_index_sim_2['{},{}'.format(x_coord, y_coord)] = min_gamma.round(2)"
   ]
  },
  {
   "cell_type": "markdown",
   "metadata": {},
   "source": [
    "#### Análise dos valores obtidos\n",
    "\n",
    "* Retorna quais valores estão 'acima' e 'abaixo ou igual' a 1, classificando-os como 'pontos reprovados' e 'pontos aprovados', respectivamente,\n",
    "* Também cria um dataframe dos pontos analisados com seus respectivos gamma-index."
   ]
  },
  {
   "cell_type": "code",
   "execution_count": null,
   "metadata": {},
   "outputs": [],
   "source": [
    "# Contar a quantidade de valores menores ou iguais a 1 e a quantidade de valores maiores que 1\n",
    "menores_ou_iguais_que_um = sum(1 for valor in gamma_index_sim_2.values() if valor <= 1)\n",
    "\n",
    "maiores_que_um = sum(1 for valor in gamma_index_sim_2.values() if valor > 1)\n",
    "\n",
    "# Total de valores do gamma-index\n",
    "total_valores = len(gamma_index_sim_2)\n",
    "\n",
    "# Calcular as porcentagens dos valores acima\n",
    "porcentagem_maiores_que_um = (quantidade_menores_ou_iguais_que_um / total_valores) * 100\n",
    "\n",
    "porcentagem_menores_que_um = (quantidade_maiores_que_um / total_valores) * 100"
   ]
  },
  {
   "cell_type": "code",
   "execution_count": null,
   "metadata": {},
   "outputs": [],
   "source": [
    "# Imprimir os resultados\n",
    "print(\"Valores referentes às medidas da 2ª Simulação de Agosto\")\n",
    "print()\n",
    "print(\"Total de pontos analisados:\", total_valores)\n",
    "print(f\"Diferença de percentual de dose: {delta_Dm*100}%\")\n",
    "print(f\"DTA utilizado: {delta_dM} mm\")\n",
    "print()\n",
    "print(\"Quantidade de valores aprovados, ou seja, menores ou iguais a 1:\", quantidade_menores_ou_iguais_a_1)\n",
    "print(\"Quantidade de valores reprovados, ou seja, maiores que 1:\", quantidade_maiores_que_1)\n",
    "print()\n",
    "print(f\"Porcentagem de valores aprovados: {porcentagem_menores_que_um}%\")\n",
    "print(f\"Porcentagem de valores reprovados: {porcentagem_maiores_que_um}%\")"
   ]
  },
  {
   "cell_type": "markdown",
   "metadata": {},
   "source": [
    "#### Visualização dos dados tratados\n",
    "\n",
    "* Visualiza tabela final para cada simulação, com os pontos medido e seu menor valor de gamma-index calculado."
   ]
  },
  {
   "cell_type": "code",
   "execution_count": null,
   "metadata": {},
   "outputs": [],
   "source": [
    "# Cria um dataframe para os valores obtidos da primeira simulação\n",
    "df_augustGammaIndex_sim_2 = pd.DataFrame(list(gamma_index_sim_2.items()), columns=['Pontos Medidos (X,Y)', 'Gamma Index'])"
   ]
  },
  {
   "cell_type": "code",
   "execution_count": null,
   "metadata": {},
   "outputs": [],
   "source": [
    "# Visualiza o DataFrame com os devidos tratamentos\n",
    "print(df_augustGammaIndex_sim_2.head(25))"
   ]
  },
  {
   "cell_type": "markdown",
   "metadata": {},
   "source": [
    "### Resultados - 3ª Simulação"
   ]
  },
  {
   "cell_type": "markdown",
   "metadata": {},
   "source": [
    "#### Leitura dos dados\n",
    "\n",
    "* Lê os dados do arquivo .csv com os dados do mês de Agosto."
   ]
  },
  {
   "cell_type": "code",
   "execution_count": null,
   "metadata": {},
   "outputs": [],
   "source": [
    "# Leitura dos dados do mês de Agosto refente à 1ª Simulação e criação do Dataframe\n",
    "august_data_sim_3 = './Agosto_22/Matrizes das Simulações para o Programa - Simulação 3 - Agosto.csv'\n",
    "df_augustData_sim_3 = pd.read_csv(august_data_sim_3)\n",
    "\n",
    "# Informações do Dataframe dos dados\n",
    "print(df_augustData_sim_3.info())"
   ]
  },
  {
   "cell_type": "markdown",
   "metadata": {},
   "source": [
    "#### Valores de Gamma-Index\n",
    "\n",
    "* Analisa os 49 pontos calculados para cada ponto medido calculando o gamma-index para cada um desses pontos,\n",
    "* Retorna o menor gamma-index dos calculados para cada ponto medido, com seu respectivo ponto medido."
   ]
  },
  {
   "cell_type": "code",
   "execution_count": null,
   "metadata": {},
   "outputs": [],
   "source": [
    "# Obtém o valor máximo dentre as doses medidas\n",
    "max_Dm = df_augustData_sim_3['Dose Medida (Dm)'].max()\n",
    "\n",
    "# Criação do dicionário que irá salvar os valores gamma-index para cada ponto\n",
    "gamma_index_sim_3 = {}"
   ]
  },
  {
   "cell_type": "code",
   "execution_count": null,
   "metadata": {},
   "outputs": [],
   "source": [
    "# Calcula os valores de gamma-index de cada ponto e salva no dicionário os menores valores\n",
    "for i in range(0, len(df_augustData_sim_3), 49):\n",
    "    group_df = df_augustData_sim_3.iloc[i:i+49]  # Selecionar grupo de 49 pontos\n",
    "    min_gamma = group_df.apply(lambda row: position_module(row, max_Dm), axis=1).min()\n",
    "       \n",
    "    # Salva o menor valor de gamma-index no dicionário\n",
    "    x_coord = group_df.iloc[0]['Ponto Medido X (rm_x)']\n",
    "    y_coord = group_df.iloc[0]['Ponto Medido Y (rm_y)']\n",
    "    gamma_index_sim_3['{},{}'.format(x_coord, y_coord)] = min_gamma.round(2)"
   ]
  },
  {
   "cell_type": "markdown",
   "metadata": {},
   "source": [
    "#### Análise dos valores obtidos\n",
    "\n",
    "* Retorna quais valores estão 'acima' e 'abaixo ou igual' a 1, classificando-os como 'pontos reprovados' e 'pontos aprovados', respectivamente,\n",
    "* Também cria um dataframe dos pontos analisados com seus respectivos gamma-index."
   ]
  },
  {
   "cell_type": "code",
   "execution_count": null,
   "metadata": {},
   "outputs": [],
   "source": [
    "# Contar a quantidade de valores menores ou iguais a 1 e a quantidade de valores maiores que 1\n",
    "menores_ou_iguais_que_um = sum(1 for valor in gamma_index_sim_3.values() if valor <= 1)\n",
    "\n",
    "maiores_que_um = sum(1 for valor in gamma_index_sim_3.values() if valor > 1)\n",
    "\n",
    "# Total de valores do gamma-index\n",
    "total_valores = len(gamma_index_sim_3)\n",
    "\n",
    "# Calcular as porcentagens dos valores acima\n",
    "porcentagem_maiores_que_um = (quantidade_menores_ou_iguais_que_um / total_valores) * 100\n",
    "\n",
    "porcentagem_menores_que_um = (quantidade_maiores_que_um / total_valores) * 100"
   ]
  },
  {
   "cell_type": "code",
   "execution_count": null,
   "metadata": {},
   "outputs": [],
   "source": [
    "# Imprimir os resultados\n",
    "print(\"Valores referentes às medidas da 3ª Simulação de Agosto\")\n",
    "print()\n",
    "print(\"Total de pontos analisados:\", total_valores)\n",
    "print(f\"Diferença de percentual de dose: {delta_Dm*100}%\")\n",
    "print(f\"DTA utilizado: {delta_dM} mm\")\n",
    "print()\n",
    "print(\"Quantidade de valores aprovados, ou seja, menores ou iguais a 1:\", quantidade_menores_ou_iguais_a_1)\n",
    "print(\"Quantidade de valores reprovados, ou seja, maiores que 1:\", quantidade_maiores_que_1)\n",
    "print()\n",
    "print(f\"Porcentagem de valores aprovados: {porcentagem_menores_que_um}%\")\n",
    "print(f\"Porcentagem de valores reprovados: {porcentagem_maiores_que_um}%\")"
   ]
  },
  {
   "cell_type": "markdown",
   "metadata": {},
   "source": [
    "#### Visualização dos dados tratados\n",
    "\n",
    "* Visualiza tabela final para cada simulação, com os pontos medido e seu menor valor de gamma-index calculado."
   ]
  },
  {
   "cell_type": "code",
   "execution_count": null,
   "metadata": {},
   "outputs": [],
   "source": [
    "# Cria um dataframe para os valores obtidos da primeira simulação\n",
    "df_augustGammaIndex_sim_3 = pd.DataFrame(list(gamma_index_sim_3.items()), columns=['Pontos Medidos (X,Y)', 'Gamma Index'])"
   ]
  },
  {
   "cell_type": "code",
   "execution_count": null,
   "metadata": {},
   "outputs": [],
   "source": [
    "# Visualiza o DataFrame com os devidos tratamentos\n",
    "print(df_augustGammaIndex_sim_3.head(25))"
   ]
  },
  {
   "cell_type": "markdown",
   "metadata": {},
   "source": [
    "### Resultados - 4ª Simulação"
   ]
  },
  {
   "cell_type": "markdown",
   "metadata": {},
   "source": [
    "#### Leitura dos dados\n",
    "\n",
    "* Lê os dados do arquivo .csv com os dados do mês de Agosto."
   ]
  },
  {
   "cell_type": "code",
   "execution_count": null,
   "metadata": {},
   "outputs": [],
   "source": [
    "# Leitura dos dados do mês de Agosto refente à 1ª Simulação e criação do Dataframe\n",
    "august_data_sim_4 = './Agosto_22/Matrizes das Simulações para o Programa - Simulação 4 - Agosto.csv'\n",
    "df_augustData_sim_4 = pd.read_csv(august_data_sim_4)\n",
    "\n",
    "# Informações do Dataframe dos dados\n",
    "print(df_augustData_sim_4.info())"
   ]
  },
  {
   "cell_type": "markdown",
   "metadata": {},
   "source": [
    "#### Valores de Gamma-Index\n",
    "\n",
    "* Analisa os 49 pontos calculados para cada ponto medido calculando o gamma-index para cada um desses pontos,\n",
    "* Retorna o menor gamma-index dos calculados para cada ponto medido, com seu respectivo ponto medido."
   ]
  },
  {
   "cell_type": "code",
   "execution_count": null,
   "metadata": {},
   "outputs": [],
   "source": [
    "# Obtém o valor máximo dentre as doses medidas\n",
    "max_Dm = df_augustData_sim_4['Dose Medida (Dm)'].max()\n",
    "\n",
    "# Criação do dicionário que irá salvar os valores gamma-index para cada ponto\n",
    "gamma_index_sim_4 = {}"
   ]
  },
  {
   "cell_type": "code",
   "execution_count": null,
   "metadata": {},
   "outputs": [],
   "source": [
    "# Calcula os valores de gamma-index de cada ponto e salva no dicionário os menores valores\n",
    "for i in range(0, len(df_augustData_sim_4), 49):\n",
    "    group_df = df_augustData_sim_4.iloc[i:i+49]  # Selecionar grupo de 49 pontos\n",
    "    min_gamma = group_df.apply(lambda row: position_module(row, max_Dm), axis=1).min()\n",
    "       \n",
    "    # Salva o menor valor de gamma-index no dicionário\n",
    "    x_coord = group_df.iloc[0]['Ponto Medido X (rm_x)']\n",
    "    y_coord = group_df.iloc[0]['Ponto Medido Y (rm_y)']\n",
    "    gamma_index_sim_4['{},{}'.format(x_coord, y_coord)] = min_gamma.round(2)"
   ]
  },
  {
   "cell_type": "markdown",
   "metadata": {},
   "source": [
    "#### Análise dos valores obtidos\n",
    "\n",
    "* Retorna quais valores estão 'acima' e 'abaixo ou igual' a 1, classificando-os como 'pontos reprovados' e 'pontos aprovados', respectivamente,\n",
    "* Também cria um dataframe dos pontos analisados com seus respectivos gamma-index."
   ]
  },
  {
   "cell_type": "code",
   "execution_count": null,
   "metadata": {},
   "outputs": [],
   "source": [
    "# Contar a quantidade de valores menores ou iguais a 1 e a quantidade de valores maiores que 1\n",
    "menores_ou_iguais_que_um = sum(1 for valor in gamma_index_sim_4.values() if valor <= 1)\n",
    "\n",
    "maiores_que_um = sum(1 for valor in gamma_index_sim_4.values() if valor > 1)\n",
    "\n",
    "# Total de valores do gamma-index\n",
    "total_valores = len(gamma_index_sim_4)\n",
    "\n",
    "# Calcular as porcentagens dos valores acima\n",
    "porcentagem_maiores_que_um = (quantidade_menores_ou_iguais_que_um / total_valores) * 100\n",
    "\n",
    "porcentagem_menores_que_um = (quantidade_maiores_que_um / total_valores) * 100"
   ]
  },
  {
   "cell_type": "code",
   "execution_count": null,
   "metadata": {},
   "outputs": [],
   "source": [
    "# Imprimir os resultados\n",
    "print(\"Valores referentes às medidas da 4ª Simulação de Agosto\")\n",
    "print()\n",
    "print(\"Total de pontos analisados:\", total_valores)\n",
    "print(f\"Diferença de percentual de dose: {delta_Dm*100}%\")\n",
    "print(f\"DTA utilizado: {delta_dM} mm\")\n",
    "print()\n",
    "print(\"Quantidade de valores aprovados, ou seja, menores ou iguais a 1:\", quantidade_menores_ou_iguais_a_1)\n",
    "print(\"Quantidade de valores reprovados, ou seja, maiores que 1:\", quantidade_maiores_que_1)\n",
    "print()\n",
    "print(f\"Porcentagem de valores aprovados: {porcentagem_menores_que_um}%\")\n",
    "print(f\"Porcentagem de valores reprovados: {porcentagem_maiores_que_um}%\")"
   ]
  },
  {
   "cell_type": "markdown",
   "metadata": {},
   "source": [
    "#### Visualização dos dados tratados\n",
    "\n",
    "* Visualiza tabela final para cada simulação, com os pontos medido e seu menor valor de gamma-index calculado."
   ]
  },
  {
   "cell_type": "code",
   "execution_count": null,
   "metadata": {},
   "outputs": [],
   "source": [
    "# Cria um dataframe para os valores obtidos da primeira simulação\n",
    "df_augustGammaIndex_sim_4 = pd.DataFrame(list(gamma_index_sim_4.items()), columns=['Pontos Medidos (X,Y)', 'Gamma Index'])"
   ]
  },
  {
   "cell_type": "code",
   "execution_count": null,
   "metadata": {},
   "outputs": [],
   "source": [
    "# Visualiza o DataFrame com os devidos tratamentos\n",
    "print(df_augustGammaIndex_sim_4.head(25))"
   ]
  },
  {
   "cell_type": "markdown",
   "metadata": {},
   "source": [
    "### Resultados - 5ª Simulação"
   ]
  },
  {
   "cell_type": "markdown",
   "metadata": {},
   "source": [
    "#### Leitura dos dados\n",
    "\n",
    "* Lê os dados do arquivo .csv com os dados do mês de Agosto."
   ]
  },
  {
   "cell_type": "code",
   "execution_count": null,
   "metadata": {},
   "outputs": [],
   "source": [
    "# Leitura dos dados do mês de Agosto refente à 1ª Simulação e criação do Dataframe\n",
    "august_data_sim_5 = './Agosto_22/Matrizes das Simulações para o Programa - Simulação 5 - Agosto.csv'\n",
    "df_augustData_sim_5 = pd.read_csv(august_data_sim_5)\n",
    "\n",
    "# Informações do Dataframe dos dados\n",
    "print(df_augustData_sim_5.info())"
   ]
  },
  {
   "cell_type": "markdown",
   "metadata": {},
   "source": [
    "#### Valores de Gamma-Index\n",
    "\n",
    "* Analisa os 49 pontos calculados para cada ponto medido calculando o gamma-index para cada um desses pontos,\n",
    "* Retorna o menor gamma-index dos calculados para cada ponto medido, com seu respectivo ponto medido."
   ]
  },
  {
   "cell_type": "code",
   "execution_count": null,
   "metadata": {},
   "outputs": [],
   "source": [
    "# Obtém o valor máximo dentre as doses medidas\n",
    "max_Dm = df_augustData_sim_5['Dose Medida (Dm)'].max()\n",
    "\n",
    "# Criação do dicionário que irá salvar os valores gamma-index para cada ponto\n",
    "gamma_index_sim_5 = {}"
   ]
  },
  {
   "cell_type": "code",
   "execution_count": null,
   "metadata": {},
   "outputs": [],
   "source": [
    "# Calcula os valores de gamma-index de cada ponto e salva no dicionário os menores valores\n",
    "for i in range(0, len(df_augustData_sim_5), 49):\n",
    "    group_df = df_augustData_sim_5.iloc[i:i+49]  # Selecionar grupo de 49 pontos\n",
    "    min_gamma = group_df.apply(lambda row: position_module(row, max_Dm), axis=1).min()\n",
    "       \n",
    "    # Salva o menor valor de gamma-index no dicionário\n",
    "    x_coord = group_df.iloc[0]['Ponto Medido X (rm_x)']\n",
    "    y_coord = group_df.iloc[0]['Ponto Medido Y (rm_y)']\n",
    "    gamma_index_sim_5['{},{}'.format(x_coord, y_coord)] = min_gamma.round(2)"
   ]
  },
  {
   "cell_type": "markdown",
   "metadata": {},
   "source": [
    "#### Análise dos valores obtidos\n",
    "\n",
    "* Retorna quais valores estão 'acima' e 'abaixo ou igual' a 1, classificando-os como 'pontos reprovados' e 'pontos aprovados', respectivamente,\n",
    "* Também cria um dataframe dos pontos analisados com seus respectivos gamma-index."
   ]
  },
  {
   "cell_type": "code",
   "execution_count": null,
   "metadata": {},
   "outputs": [],
   "source": [
    "# Contar a quantidade de valores menores ou iguais a 1 e a quantidade de valores maiores que 1\n",
    "menores_ou_iguais_que_um = sum(1 for valor in gamma_index_sim_5.values() if valor <= 1)\n",
    "\n",
    "maiores_que_um = sum(1 for valor in gamma_index_sim_5.values() if valor > 1)\n",
    "\n",
    "# Total de valores do gamma-index\n",
    "total_valores = len(gamma_index_sim_5)\n",
    "\n",
    "# Calcular as porcentagens dos valores acima\n",
    "porcentagem_maiores_que_um = (quantidade_menores_ou_iguais_que_um / total_valores) * 100\n",
    "\n",
    "porcentagem_menores_que_um = (quantidade_maiores_que_um / total_valores) * 100"
   ]
  },
  {
   "cell_type": "code",
   "execution_count": null,
   "metadata": {},
   "outputs": [],
   "source": [
    "# Imprimir os resultados\n",
    "print(\"Valores referentes às medidas da 5ª Simulação de Agosto\")\n",
    "print()\n",
    "print(\"Total de pontos analisados:\", total_valores)\n",
    "print(f\"Diferença de percentual de dose: {delta_Dm*100}%\")\n",
    "print(f\"DTA utilizado: {delta_dM} mm\")\n",
    "print()\n",
    "print(\"Quantidade de valores aprovados, ou seja, menores ou iguais a 1:\", quantidade_menores_ou_iguais_a_1)\n",
    "print(\"Quantidade de valores reprovados, ou seja, maiores que 1:\", quantidade_maiores_que_1)\n",
    "print()\n",
    "print(f\"Porcentagem de valores aprovados: {porcentagem_menores_que_um}%\")\n",
    "print(f\"Porcentagem de valores reprovados: {porcentagem_maiores_que_um}%\")"
   ]
  },
  {
   "cell_type": "markdown",
   "metadata": {},
   "source": [
    "#### Visualização dos dados tratados\n",
    "\n",
    "* Visualiza tabela final para cada simulação, com os pontos medido e seu menor valor de gamma-index calculado."
   ]
  },
  {
   "cell_type": "code",
   "execution_count": null,
   "metadata": {},
   "outputs": [],
   "source": [
    "# Cria um dataframe para os valores obtidos da primeira simulação\n",
    "df_augustGammaIndex_sim_5 = pd.DataFrame(list(gamma_index_sim_5.items()), columns=['Pontos Medidos (X,Y)', 'Gamma Index'])"
   ]
  },
  {
   "cell_type": "code",
   "execution_count": null,
   "metadata": {},
   "outputs": [],
   "source": [
    "# Visualiza o DataFrame com os devidos tratamentos\n",
    "print(df_augustGammaIndex_sim_5.head(25))"
   ]
  },
  {
   "cell_type": "markdown",
   "metadata": {},
   "source": [
    "### Resultados - 6ª Simulação"
   ]
  },
  {
   "cell_type": "markdown",
   "metadata": {},
   "source": [
    "#### Leitura dos dados\n",
    "\n",
    "* Lê os dados do arquivo .csv com os dados do mês de Agosto."
   ]
  },
  {
   "cell_type": "code",
   "execution_count": null,
   "metadata": {},
   "outputs": [],
   "source": [
    "# Leitura dos dados do mês de Agosto refente à 1ª Simulação e criação do Dataframe\n",
    "august_data_sim_6 = './Agosto_22/Matrizes das Simulações para o Programa - Simulação 6 - Agosto.csv'\n",
    "df_augustData_sim_6 = pd.read_csv(august_data_sim_6)\n",
    "\n",
    "# Informações do Dataframe dos dados\n",
    "print(df_augustData_sim_6.info())"
   ]
  },
  {
   "cell_type": "markdown",
   "metadata": {},
   "source": [
    "#### Valores de Gamma-Index\n",
    "\n",
    "* Analisa os 49 pontos calculados para cada ponto medido calculando o gamma-index para cada um desses pontos,\n",
    "* Retorna o menor gamma-index dos calculados para cada ponto medido, com seu respectivo ponto medido."
   ]
  },
  {
   "cell_type": "code",
   "execution_count": null,
   "metadata": {},
   "outputs": [],
   "source": [
    "# Obtém o valor máximo dentre as doses medidas\n",
    "max_Dm = df_augustData_sim_6['Dose Medida (Dm)'].max()\n",
    "\n",
    "# Criação do dicionário que irá salvar os valores gamma-index para cada ponto\n",
    "gamma_index_sim_6 = {}"
   ]
  },
  {
   "cell_type": "code",
   "execution_count": null,
   "metadata": {},
   "outputs": [],
   "source": [
    "# Calcula os valores de gamma-index de cada ponto e salva no dicionário os menores valores\n",
    "for i in range(0, len(df_augustData_sim_6_sim_6), 49):\n",
    "    group_df = df_augustData_sim_6.iloc[i:i+49]  # Selecionar grupo de 49 pontos\n",
    "    min_gamma = group_df.apply(lambda row: position_module(row, max_Dm), axis=1).min()\n",
    "       \n",
    "    # Salva o menor valor de gamma-index no dicionário\n",
    "    x_coord = group_df.iloc[0]['Ponto Medido X (rm_x)']\n",
    "    y_coord = group_df.iloc[0]['Ponto Medido Y (rm_y)']\n",
    "    gamma_index_sim_6['{},{}'.format(x_coord, y_coord)] = min_gamma.round(2)"
   ]
  },
  {
   "cell_type": "markdown",
   "metadata": {},
   "source": [
    "#### Análise dos valores obtidos\n",
    "\n",
    "* Retorna quais valores estão 'acima' e 'abaixo ou igual' a 1, classificando-os como 'pontos reprovados' e 'pontos aprovados', respectivamente,\n",
    "* Também cria um dataframe dos pontos analisados com seus respectivos gamma-index."
   ]
  },
  {
   "cell_type": "code",
   "execution_count": null,
   "metadata": {},
   "outputs": [],
   "source": [
    "# Contar a quantidade de valores menores ou iguais a 1 e a quantidade de valores maiores que 1\n",
    "menores_ou_iguais_que_um = sum(1 for valor in gamma_index_sim_6.values() if valor <= 1)\n",
    "\n",
    "maiores_que_um = sum(1 for valor in gamma_index_sim_6.values() if valor > 1)\n",
    "\n",
    "# Total de valores do gamma-index\n",
    "total_valores = len(gamma_index_sim_6)\n",
    "\n",
    "# Calcular as porcentagens dos valores acima\n",
    "porcentagem_maiores_que_um = (quantidade_menores_ou_iguais_que_um / total_valores) * 100\n",
    "\n",
    "porcentagem_menores_que_um = (quantidade_maiores_que_um / total_valores) * 100"
   ]
  },
  {
   "cell_type": "code",
   "execution_count": null,
   "metadata": {},
   "outputs": [],
   "source": [
    "# Imprimir os resultados\n",
    "print(\"Valores referentes às medidas da 6ª Simulação de Agosto\")\n",
    "print()\n",
    "print(\"Total de pontos analisados:\", total_valores)\n",
    "print(f\"Diferença de percentual de dose: {delta_Dm*100}%\")\n",
    "print(f\"DTA utilizado: {delta_dM} mm\")\n",
    "print()\n",
    "print(\"Quantidade de valores aprovados, ou seja, menores ou iguais a 1:\", quantidade_menores_ou_iguais_a_1)\n",
    "print(\"Quantidade de valores reprovados, ou seja, maiores que 1:\", quantidade_maiores_que_1)\n",
    "print()\n",
    "print(f\"Porcentagem de valores aprovados: {porcentagem_menores_que_um}%\")\n",
    "print(f\"Porcentagem de valores reprovados: {porcentagem_maiores_que_um}%\")"
   ]
  },
  {
   "cell_type": "markdown",
   "metadata": {},
   "source": [
    "#### Visualização dos dados tratados\n",
    "\n",
    "* Visualiza tabela final para cada simulação, com os pontos medido e seu menor valor de gamma-index calculado."
   ]
  },
  {
   "cell_type": "code",
   "execution_count": null,
   "metadata": {},
   "outputs": [],
   "source": [
    "# Cria um dataframe para os valores obtidos da primeira simulação\n",
    "df_augustGammaIndex_sim_6 = pd.DataFrame(list(gamma_index_sim_6.items()), columns=['Pontos Medidos (X,Y)', 'Gamma Index'])"
   ]
  },
  {
   "cell_type": "code",
   "execution_count": null,
   "metadata": {},
   "outputs": [],
   "source": [
    "# Visualiza o DataFrame com os devidos tratamentos\n",
    "print(df_augustGammaIndex_sim_6.head(25))"
   ]
  },
  {
   "cell_type": "markdown",
   "metadata": {},
   "source": [
    "### Resultados - 7ª Simulação"
   ]
  },
  {
   "cell_type": "markdown",
   "metadata": {},
   "source": [
    "#### Leitura dos dados\n",
    "\n",
    "* Lê os dados do arquivo .csv com os dados do mês de Agosto."
   ]
  },
  {
   "cell_type": "code",
   "execution_count": null,
   "metadata": {},
   "outputs": [],
   "source": [
    "# Leitura dos dados do mês de Agosto refente à 1ª Simulação e criação do Dataframe\n",
    "august_data_sim_7 = './Agosto_22/Matrizes das Simulações para o Programa - Simulação 1 - Agosto.csv'\n",
    "df_augustData_sim_7 = pd.read_csv(august_data_sim_7)\n",
    "\n",
    "# Informações do Dataframe dos dados\n",
    "print(df_augustData_sim_7.info())"
   ]
  },
  {
   "cell_type": "markdown",
   "metadata": {},
   "source": [
    "#### Valores de Gamma-Index\n",
    "\n",
    "* Analisa os 49 pontos calculados para cada ponto medido calculando o gamma-index para cada um desses pontos,\n",
    "* Retorna o menor gamma-index dos calculados para cada ponto medido, com seu respectivo ponto medido."
   ]
  },
  {
   "cell_type": "code",
   "execution_count": null,
   "metadata": {},
   "outputs": [],
   "source": [
    "# Obtém o valor máximo dentre as doses medidas\n",
    "max_Dm = df_augustData_sim_7['Dose Medida (Dm)'].max()\n",
    "\n",
    "# Criação do dicionário que irá salvar os valores gamma-index para cada ponto\n",
    "gamma_index_sim_7 = {}"
   ]
  },
  {
   "cell_type": "code",
   "execution_count": null,
   "metadata": {},
   "outputs": [],
   "source": [
    "# Calcula os valores de gamma-index de cada ponto e salva no dicionário os menores valores\n",
    "for i in range(0, len(df_augustData_sim_7), 49):\n",
    "    group_df = df_augustData_sim_7.iloc[i:i+49]  # Selecionar grupo de 49 pontos\n",
    "    min_gamma = group_df.apply(lambda row: position_module(row, max_Dm), axis=1).min()\n",
    "       \n",
    "    # Salva o menor valor de gamma-index no dicionário\n",
    "    x_coord = group_df.iloc[0]['Ponto Medido X (rm_x)']\n",
    "    y_coord = group_df.iloc[0]['Ponto Medido Y (rm_y)']\n",
    "    gamma_index_sim_7['{},{}'.format(x_coord, y_coord)] = min_gamma.round(2)"
   ]
  },
  {
   "cell_type": "markdown",
   "metadata": {},
   "source": [
    "#### Análise dos valores obtidos\n",
    "\n",
    "* Retorna quais valores estão 'acima' e 'abaixo ou igual' a 1, classificando-os como 'pontos reprovados' e 'pontos aprovados', respectivamente,\n",
    "* Também cria um dataframe dos pontos analisados com seus respectivos gamma-index."
   ]
  },
  {
   "cell_type": "code",
   "execution_count": null,
   "metadata": {},
   "outputs": [],
   "source": [
    "# Contar a quantidade de valores menores ou iguais a 1 e a quantidade de valores maiores que 1\n",
    "menores_ou_iguais_que_um = sum(1 for valor in gamma_index_sim_7.values() if valor <= 1)\n",
    "\n",
    "maiores_que_um = sum(1 for valor in gamma_index_sim_7.values() if valor > 1)\n",
    "\n",
    "# Total de valores do gamma-index\n",
    "total_valores = len(gamma_index_sim_7)\n",
    "\n",
    "# Calcular as porcentagens dos valores acima\n",
    "porcentagem_maiores_que_um = (quantidade_menores_ou_iguais_que_um / total_valores) * 100\n",
    "\n",
    "porcentagem_menores_que_um = (quantidade_maiores_que_um / total_valores) * 100"
   ]
  },
  {
   "cell_type": "code",
   "execution_count": null,
   "metadata": {},
   "outputs": [],
   "source": [
    "# Imprimir os resultados\n",
    "print(\"Valores referentes às medidas da 7ª Simulação de Agosto\")\n",
    "print()\n",
    "print(\"Total de pontos analisados:\", total_valores)\n",
    "print(f\"Diferença de percentual de dose: {delta_Dm*100}%\")\n",
    "print(f\"DTA utilizado: {delta_dM} mm\")\n",
    "print()\n",
    "print(\"Quantidade de valores aprovados, ou seja, menores ou iguais a 1:\", quantidade_menores_ou_iguais_a_1)\n",
    "print(\"Quantidade de valores reprovados, ou seja, maiores que 1:\", quantidade_maiores_que_1)\n",
    "print()\n",
    "print(f\"Porcentagem de valores aprovados: {porcentagem_menores_que_um}%\")\n",
    "print(f\"Porcentagem de valores reprovados: {porcentagem_maiores_que_um}%\")"
   ]
  },
  {
   "cell_type": "markdown",
   "metadata": {},
   "source": [
    "#### Visualização dos dados tratados\n",
    "\n",
    "* Visualiza tabela final para cada simulação, com os pontos medido e seu menor valor de gamma-index calculado."
   ]
  },
  {
   "cell_type": "code",
   "execution_count": null,
   "metadata": {},
   "outputs": [],
   "source": [
    "# Cria um dataframe para os valores obtidos da primeira simulação\n",
    "df_augustGammaIndex_sim_7 = pd.DataFrame(list(gamma_index_sim_7.items()), columns=['Pontos Medidos (X,Y)', 'Gamma Index'])"
   ]
  },
  {
   "cell_type": "code",
   "execution_count": null,
   "metadata": {},
   "outputs": [],
   "source": [
    "# Visualiza o DataFrame com os devidos tratamentos\n",
    "print(df_augustGammaIndex_sim_7.head(25))"
   ]
  },
  {
   "cell_type": "markdown",
   "metadata": {},
   "source": [
    "## *Medidas de Fevereiro/2023*\n",
    "\n",
    "* Abaixo se encontra a análise dos 25 medidos realizadas em fevereiro/2023, onde foram calculados os valores de gamma-index dos 49 pontos calculados sobre e na vizinhança de cada ponto medido,\n",
    "* Também foi feita a análise dos resultados a partir dos valores de menor gamma-index destes valores."
   ]
  },
  {
   "cell_type": "markdown",
   "metadata": {},
   "source": [
    "### Resultados - 1ª Simulação"
   ]
  },
  {
   "cell_type": "markdown",
   "metadata": {},
   "source": [
    "#### Leitura dos dados\n",
    "\n",
    "* Lê os dados do arquivo .csv com os dados do mês de Agosto."
   ]
  },
  {
   "cell_type": "code",
   "execution_count": null,
   "metadata": {},
   "outputs": [],
   "source": [
    "# Leitura dos dados do mês de Agosto refente à 1ª Simulação e criação do Dataframe\n",
    "february_data_sim_1 = './Fevereiro_23/Matrizes das Simulações para o Programa - Simulação 1 - Fevereiro.csv'\n",
    "df_februaryData_sim_1 = pd.read_csv(february_data_sim_1)\n",
    "\n",
    "# Informações do Dataframe dos dados\n",
    "print(df_februaryData_sim_1.info())"
   ]
  },
  {
   "cell_type": "markdown",
   "metadata": {},
   "source": [
    "#### Valores de Gamma-Index\n",
    "\n",
    "* Analisa os 49 pontos calculados para cada ponto medido calculando o gamma-index para cada um desses pontos,\n",
    "* Retorna o menor gamma-index dos calculados para cada ponto medido, com seu respectivo ponto medido."
   ]
  },
  {
   "cell_type": "code",
   "execution_count": null,
   "metadata": {},
   "outputs": [],
   "source": [
    "# Obtém o valor máximo dentre as doses medidas\n",
    "max_Dm = df_februaryData_sim_1['Dose Medida (Dm)'].max()\n",
    "\n",
    "# Criação do dicionário que irá salvar os valores gamma-index para cada ponto\n",
    "gamma_index_feb_1 = {}"
   ]
  },
  {
   "cell_type": "code",
   "execution_count": null,
   "metadata": {},
   "outputs": [],
   "source": [
    "# Calcula os valores de gamma-index de cada ponto e salva no dicionário os menores valores\n",
    "for i in range(0, len(df_februaryData_sim_1), 49):\n",
    "    group_df = df_februaryData_sim_1.iloc[i:i+49]  # Selecionar grupo de 49 pontos\n",
    "    min_gamma = group_df.apply(lambda row: position_module(row, max_Dm), axis=1).min()\n",
    "       \n",
    "    # Salva o menor valor de gamma-index no dicionário\n",
    "    x_coord = group_df.iloc[0]['Ponto Medido X (rm_x)']\n",
    "    y_coord = group_df.iloc[0]['Ponto Medido Y (rm_y)']\n",
    "    gamma_index_feb_1['{},{}'.format(x_coord, y_coord)] = min_gamma.round(2)"
   ]
  },
  {
   "cell_type": "markdown",
   "metadata": {},
   "source": [
    "#### Análise dos valores obtidos\n",
    "\n",
    "* Retorna quais valores estão 'acima' e 'abaixo ou igual' a 1, classificando-os como 'pontos reprovados' e 'pontos aprovados', respectivamente,\n",
    "* Também cria um dataframe dos pontos analisados com seus respectivos gamma-index."
   ]
  },
  {
   "cell_type": "code",
   "execution_count": null,
   "metadata": {},
   "outputs": [],
   "source": [
    "# Contar a quantidade de valores menores ou iguais a 1 e a quantidade de valores maiores que 1\n",
    "menores_ou_iguais_que_um = sum(1 for valor in gamma_index_feb_1.values() if valor <= 1)\n",
    "\n",
    "maiores_que_um = sum(1 for valor in gamma_index_feb_1.values() if valor > 1)\n",
    "\n",
    "# Total de valores do gamma-index\n",
    "total_valores = len(gamma_index_feb_1)\n",
    "\n",
    "# Calcular as porcentagens dos valores acima\n",
    "porcentagem_maiores_que_um = (quantidade_menores_ou_iguais_que_um / total_valores) * 100\n",
    "\n",
    "porcentagem_menores_que_um = (quantidade_maiores_que_um / total_valores) * 100"
   ]
  },
  {
   "cell_type": "code",
   "execution_count": null,
   "metadata": {},
   "outputs": [],
   "source": [
    "# Imprimir os resultados\n",
    "print(\"Valores referentes às medidas da 1ª Simulação de Fevereiro\")\n",
    "print()\n",
    "print(\"Total de pontos analisados:\", total_valores)\n",
    "print(f\"Diferença de percentual de dose: {delta_Dm*100}%\")\n",
    "print(f\"DTA utilizado: {delta_dM} mm\")\n",
    "print()\n",
    "print(\"Quantidade de valores aprovados, ou seja, menores ou iguais a 1:\", quantidade_menores_ou_iguais_a_1)\n",
    "print(\"Quantidade de valores reprovados, ou seja, maiores que 1:\", quantidade_maiores_que_1)\n",
    "print()\n",
    "print(f\"Porcentagem de valores aprovados: {porcentagem_menores_que_um}%\")\n",
    "print(f\"Porcentagem de valores reprovados: {porcentagem_maiores_que_um}%\")"
   ]
  },
  {
   "cell_type": "markdown",
   "metadata": {},
   "source": [
    "#### Visualização dos dados tratados\n",
    "\n",
    "* Visualiza tabela final para cada simulação, com os pontos medido e seu menor valor de gamma-index calculado."
   ]
  },
  {
   "cell_type": "code",
   "execution_count": null,
   "metadata": {},
   "outputs": [],
   "source": [
    "# Cria um dataframe para os valores obtidos da primeira simulação\n",
    "df_februaryGammaIndex_sim_1 = pd.DataFrame(list(gamma_index_feb_1.items()), columns=['Pontos Medidos (X,Y)', 'Gamma Index'])"
   ]
  },
  {
   "cell_type": "code",
   "execution_count": null,
   "metadata": {},
   "outputs": [],
   "source": [
    "# Visualiza o DataFrame com os devidos tratamentos\n",
    "print(df_februaryGammaIndex_sim_1.head(25))"
   ]
  },
  {
   "cell_type": "markdown",
   "metadata": {},
   "source": [
    "### Resultados - 2ª Simulação"
   ]
  },
  {
   "cell_type": "markdown",
   "metadata": {},
   "source": [
    "#### Leitura dos dados\n",
    "\n",
    "* Lê os dados do arquivo .csv com os dados do mês de Agosto."
   ]
  },
  {
   "cell_type": "code",
   "execution_count": null,
   "metadata": {},
   "outputs": [],
   "source": [
    "# Leitura dos dados do mês de Agosto refente à 1ª Simulação e criação do Dataframe\n",
    "february_data_sim_2 = './Fevereiro_23/Matrizes das Simulações para o Programa - Simulação 2 - Fevereiro.csv'\n",
    "df_februaryData_sim_2 = pd.read_csv(february_data_sim_2)\n",
    "\n",
    "# Informações do Dataframe dos dados\n",
    "print(df_februaryData_sim_2.info())"
   ]
  },
  {
   "cell_type": "markdown",
   "metadata": {},
   "source": [
    "#### Valores de Gamma-Index\n",
    "\n",
    "* Analisa os 49 pontos calculados para cada ponto medido calculando o gamma-index para cada um desses pontos,\n",
    "* Retorna o menor gamma-index dos calculados para cada ponto medido, com seu respectivo ponto medido."
   ]
  },
  {
   "cell_type": "code",
   "execution_count": null,
   "metadata": {},
   "outputs": [],
   "source": [
    "# Obtém o valor máximo dentre as doses medidas\n",
    "max_Dm = df_februaryData_sim_2['Dose Medida (Dm)'].max()\n",
    "\n",
    "# Criação do dicionário que irá salvar os valores gamma-index para cada ponto\n",
    "gamma_index_feb_2 = {}"
   ]
  },
  {
   "cell_type": "code",
   "execution_count": null,
   "metadata": {},
   "outputs": [],
   "source": [
    "# Calcula os valores de gamma-index de cada ponto e salva no dicionário os menores valores\n",
    "for i in range(0, len(df_februaryData_sim_2), 49):\n",
    "    group_df = df_februaryData_sim_2.iloc[i:i+49]  # Selecionar grupo de 49 pontos\n",
    "    min_gamma = group_df.apply(lambda row: position_module(row, max_Dm), axis=1).min()\n",
    "       \n",
    "    # Salva o menor valor de gamma-index no dicionário\n",
    "    x_coord = group_df.iloc[0]['Ponto Medido X (rm_x)']\n",
    "    y_coord = group_df.iloc[0]['Ponto Medido Y (rm_y)']\n",
    "    gamma_index_feb_2['{},{}'.format(x_coord, y_coord)] = min_gamma.round(2)"
   ]
  },
  {
   "cell_type": "markdown",
   "metadata": {},
   "source": [
    "#### Análise dos valores obtidos\n",
    "\n",
    "* Retorna quais valores estão 'acima' e 'abaixo ou igual' a 1, classificando-os como 'pontos reprovados' e 'pontos aprovados', respectivamente,\n",
    "* Também cria um dataframe dos pontos analisados com seus respectivos gamma-index."
   ]
  },
  {
   "cell_type": "code",
   "execution_count": null,
   "metadata": {},
   "outputs": [],
   "source": [
    "# Contar a quantidade de valores menores ou iguais a 1 e a quantidade de valores maiores que 1\n",
    "menores_ou_iguais_que_um = sum(1 for valor in gamma_index_feb_2.values() if valor <= 1)\n",
    "\n",
    "maiores_que_um = sum(1 for valor in gamma_index_feb_2.values() if valor > 1)\n",
    "\n",
    "# Total de valores do gamma-index\n",
    "total_valores = len(gamma_index_feb_2)\n",
    "\n",
    "# Calcular as porcentagens dos valores acima\n",
    "porcentagem_maiores_que_um = (quantidade_menores_ou_iguais_que_um / total_valores) * 100\n",
    "\n",
    "porcentagem_menores_que_um = (quantidade_maiores_que_um / total_valores) * 100"
   ]
  },
  {
   "cell_type": "code",
   "execution_count": null,
   "metadata": {},
   "outputs": [],
   "source": [
    "# Imprimir os resultados\n",
    "print(\"Valores referentes às medidas da 2ª Simulação de Fevereiro\")\n",
    "print()\n",
    "print(\"Total de pontos analisados:\", total_valores)\n",
    "print(f\"Diferença de percentual de dose: {delta_Dm*100}%\")\n",
    "print(f\"DTA utilizado: {delta_dM} mm\")\n",
    "print()\n",
    "print(\"Quantidade de valores aprovados, ou seja, menores ou iguais a 1:\", quantidade_menores_ou_iguais_a_1)\n",
    "print(\"Quantidade de valores reprovados, ou seja, maiores que 1:\", quantidade_maiores_que_1)\n",
    "print()\n",
    "print(f\"Porcentagem de valores aprovados: {porcentagem_menores_que_um}%\")\n",
    "print(f\"Porcentagem de valores reprovados: {porcentagem_maiores_que_um}%\")"
   ]
  },
  {
   "cell_type": "markdown",
   "metadata": {},
   "source": [
    "#### Visualização dos dados tratados\n",
    "\n",
    "* Visualiza tabela final para cada simulação, com os pontos medido e seu menor valor de gamma-index calculado."
   ]
  },
  {
   "cell_type": "code",
   "execution_count": null,
   "metadata": {},
   "outputs": [],
   "source": [
    "# Cria um dataframe para os valores obtidos da primeira simulação\n",
    "df_februaryGammaIndex_sim_2 = pd.DataFrame(list(gamma_index_feb_2.items()), columns=['Pontos Medidos (X,Y)', 'Gamma Index'])"
   ]
  },
  {
   "cell_type": "code",
   "execution_count": null,
   "metadata": {},
   "outputs": [],
   "source": [
    "# Visualiza o DataFrame com os devidos tratamentos\n",
    "print(df_februaryGammaIndex_sim_2.head(25))"
   ]
  },
  {
   "cell_type": "markdown",
   "metadata": {},
   "source": [
    "### Resultados - 3ª Simulação"
   ]
  },
  {
   "cell_type": "markdown",
   "metadata": {},
   "source": [
    "#### Leitura dos dados\n",
    "\n",
    "* Lê os dados do arquivo .csv com os dados do mês de Agosto."
   ]
  },
  {
   "cell_type": "code",
   "execution_count": null,
   "metadata": {},
   "outputs": [],
   "source": [
    "# Leitura dos dados do mês de Agosto refente à 1ª Simulação e criação do Dataframe\n",
    "february_data_sim_3 = './Fevereiro_23/Matrizes das Simulações para o Programa - Simulação 3 - Fevereiro.csv'\n",
    "df_februaryData_sim_3 = pd.read_csv(february_data_sim_3)\n",
    "\n",
    "# Informações do Dataframe dos dados\n",
    "print(df_februaryData_sim_3.info())"
   ]
  },
  {
   "cell_type": "markdown",
   "metadata": {},
   "source": [
    "#### Valores de Gamma-Index\n",
    "\n",
    "* Analisa os 49 pontos calculados para cada ponto medido calculando o gamma-index para cada um desses pontos,\n",
    "* Retorna o menor gamma-index dos calculados para cada ponto medido, com seu respectivo ponto medido."
   ]
  },
  {
   "cell_type": "code",
   "execution_count": null,
   "metadata": {},
   "outputs": [],
   "source": [
    "# Obtém o valor máximo dentre as doses medidas\n",
    "max_Dm = df_februaryData_sim_3['Dose Medida (Dm)'].max()\n",
    "\n",
    "# Criação do dicionário que irá salvar os valores gamma-index para cada ponto\n",
    "gamma_index_feb_3 = {}"
   ]
  },
  {
   "cell_type": "code",
   "execution_count": null,
   "metadata": {},
   "outputs": [],
   "source": [
    "# Calcula os valores de gamma-index de cada ponto e salva no dicionário os menores valores\n",
    "for i in range(0, len(df_februaryData_sim_3), 49):\n",
    "    group_df = df_februaryData_sim_3.iloc[i:i+49]  # Selecionar grupo de 49 pontos\n",
    "    min_gamma = group_df.apply(lambda row: position_module(row, max_Dm), axis=1).min()\n",
    "       \n",
    "    # Salva o menor valor de gamma-index no dicionário\n",
    "    x_coord = group_df.iloc[0]['Ponto Medido X (rm_x)']\n",
    "    y_coord = group_df.iloc[0]['Ponto Medido Y (rm_y)']\n",
    "    gamma_index_feb_3['{},{}'.format(x_coord, y_coord)] = min_gamma.round(2)"
   ]
  },
  {
   "cell_type": "markdown",
   "metadata": {},
   "source": [
    "#### Análise dos valores obtidos\n",
    "\n",
    "* Retorna quais valores estão 'acima' e 'abaixo ou igual' a 1, classificando-os como 'pontos reprovados' e 'pontos aprovados', respectivamente,\n",
    "* Também cria um dataframe dos pontos analisados com seus respectivos gamma-index."
   ]
  },
  {
   "cell_type": "code",
   "execution_count": null,
   "metadata": {},
   "outputs": [],
   "source": [
    "# Contar a quantidade de valores menores ou iguais a 1 e a quantidade de valores maiores que 1\n",
    "menores_ou_iguais_que_um = sum(1 for valor in gamma_index_feb_3.values() if valor <= 1)\n",
    "\n",
    "maiores_que_um = sum(1 for valor in gamma_index_feb_3.values() if valor > 1)\n",
    "\n",
    "# Total de valores do gamma-index\n",
    "total_valores = len(gamma_index_feb_3)\n",
    "\n",
    "# Calcular as porcentagens dos valores acima\n",
    "porcentagem_maiores_que_um = (quantidade_menores_ou_iguais_que_um / total_valores) * 100\n",
    "\n",
    "porcentagem_menores_que_um = (quantidade_maiores_que_um / total_valores) * 100"
   ]
  },
  {
   "cell_type": "code",
   "execution_count": null,
   "metadata": {},
   "outputs": [],
   "source": [
    "# Imprimir os resultados\n",
    "print(\"Valores referentes às medidas da 3ª Simulação de Fevereiro\")\n",
    "print()\n",
    "print(\"Total de pontos analisados:\", total_valores)\n",
    "print(f\"Diferença de percentual de dose: {delta_Dm*100}%\")\n",
    "print(f\"DTA utilizado: {delta_dM} mm\")\n",
    "print()\n",
    "print(\"Quantidade de valores aprovados, ou seja, menores ou iguais a 1:\", quantidade_menores_ou_iguais_a_1)\n",
    "print(\"Quantidade de valores reprovados, ou seja, maiores que 1:\", quantidade_maiores_que_1)\n",
    "print()\n",
    "print(f\"Porcentagem de valores aprovados: {porcentagem_menores_que_um}%\")\n",
    "print(f\"Porcentagem de valores reprovados: {porcentagem_maiores_que_um}%\")"
   ]
  },
  {
   "cell_type": "markdown",
   "metadata": {},
   "source": [
    "#### Visualização dos dados tratados\n",
    "\n",
    "* Visualiza tabela final para cada simulação, com os pontos medido e seu menor valor de gamma-index calculado."
   ]
  },
  {
   "cell_type": "code",
   "execution_count": null,
   "metadata": {},
   "outputs": [],
   "source": [
    "# Cria um dataframe para os valores obtidos da primeira simulação\n",
    "df_februaryGammaIndex_sim_3 = pd.DataFrame(list(gamma_index_feb_3.items()), columns=['Pontos Medidos (X,Y)', 'Gamma Index'])"
   ]
  },
  {
   "cell_type": "code",
   "execution_count": null,
   "metadata": {},
   "outputs": [],
   "source": [
    "# Visualiza o DataFrame com os devidos tratamentos\n",
    "print(df_februaryGammaIndex_sim_3.head(25))"
   ]
  },
  {
   "cell_type": "markdown",
   "metadata": {},
   "source": [
    "### Resultados - 4ª Simulação"
   ]
  },
  {
   "cell_type": "markdown",
   "metadata": {},
   "source": [
    "#### Leitura dos dados\n",
    "\n",
    "* Lê os dados do arquivo .csv com os dados do mês de Agosto."
   ]
  },
  {
   "cell_type": "code",
   "execution_count": null,
   "metadata": {},
   "outputs": [],
   "source": [
    "# Leitura dos dados do mês de Agosto refente à 1ª Simulação e criação do Dataframe\n",
    "february_data_sim_4 = './Fevereiro_23/Matrizes das Simulações para o Programa - Simulação 4 - Fevereiro.csv'\n",
    "df_februaryData_sim_4 = pd.read_csv(february_data_sim_4)\n",
    "\n",
    "# Informações do Dataframe dos dados\n",
    "print(df_februaryData_sim_4.info())"
   ]
  },
  {
   "cell_type": "markdown",
   "metadata": {},
   "source": [
    "#### Valores de Gamma-Index\n",
    "\n",
    "* Analisa os 49 pontos calculados para cada ponto medido calculando o gamma-index para cada um desses pontos,\n",
    "* Retorna o menor gamma-index dos calculados para cada ponto medido, com seu respectivo ponto medido."
   ]
  },
  {
   "cell_type": "code",
   "execution_count": null,
   "metadata": {},
   "outputs": [],
   "source": [
    "# Obtém o valor máximo dentre as doses medidas\n",
    "max_Dm = df_februaryData_sim_4['Dose Medida (Dm)'].max()\n",
    "\n",
    "# Criação do dicionário que irá salvar os valores gamma-index para cada ponto\n",
    "gamma_index_feb_4 = {}"
   ]
  },
  {
   "cell_type": "code",
   "execution_count": null,
   "metadata": {},
   "outputs": [],
   "source": [
    "# Calcula os valores de gamma-index de cada ponto e salva no dicionário os menores valores\n",
    "for i in range(0, len(df_februaryData_sim_4), 49):\n",
    "    group_df = df_februaryData_sim_4.iloc[i:i+49]  # Selecionar grupo de 49 pontos\n",
    "    min_gamma = group_df.apply(lambda row: position_module(row, max_Dm), axis=1).min()\n",
    "       \n",
    "    # Salva o menor valor de gamma-index no dicionário\n",
    "    x_coord = group_df.iloc[0]['Ponto Medido X (rm_x)']\n",
    "    y_coord = group_df.iloc[0]['Ponto Medido Y (rm_y)']\n",
    "    gamma_index_feb_4['{},{}'.format(x_coord, y_coord)] = min_gamma.round(2)"
   ]
  },
  {
   "cell_type": "markdown",
   "metadata": {},
   "source": [
    "#### Análise dos valores obtidos\n",
    "\n",
    "* Retorna quais valores estão 'acima' e 'abaixo ou igual' a 1, classificando-os como 'pontos reprovados' e 'pontos aprovados', respectivamente,\n",
    "* Também cria um dataframe dos pontos analisados com seus respectivos gamma-index."
   ]
  },
  {
   "cell_type": "code",
   "execution_count": null,
   "metadata": {},
   "outputs": [],
   "source": [
    "# Contar a quantidade de valores menores ou iguais a 1 e a quantidade de valores maiores que 1\n",
    "menores_ou_iguais_que_um = sum(1 for valor in gamma_index_feb_4.values() if valor <= 1)\n",
    "\n",
    "maiores_que_um = sum(1 for valor in gamma_index_feb_4.values() if valor > 1)\n",
    "\n",
    "# Total de valores do gamma-index\n",
    "total_valores = len(gamma_index_feb_4)\n",
    "\n",
    "# Calcular as porcentagens dos valores acima\n",
    "porcentagem_maiores_que_um = (quantidade_menores_ou_iguais_que_um / total_valores) * 100\n",
    "\n",
    "porcentagem_menores_que_um = (quantidade_maiores_que_um / total_valores) * 100"
   ]
  },
  {
   "cell_type": "code",
   "execution_count": null,
   "metadata": {},
   "outputs": [],
   "source": [
    "# Imprimir os resultados\n",
    "print(\"Valores referentes às medidas da 4ª Simulação de Fevereiro\")\n",
    "print()\n",
    "print(\"Total de pontos analisados:\", total_valores)\n",
    "print(f\"Diferença de percentual de dose: {delta_Dm*100}%\")\n",
    "print(f\"DTA utilizado: {delta_dM} mm\")\n",
    "print()\n",
    "print(\"Quantidade de valores aprovados, ou seja, menores ou iguais a 1:\", quantidade_menores_ou_iguais_a_1)\n",
    "print(\"Quantidade de valores reprovados, ou seja, maiores que 1:\", quantidade_maiores_que_1)\n",
    "print()\n",
    "print(f\"Porcentagem de valores aprovados: {porcentagem_menores_que_um}%\")\n",
    "print(f\"Porcentagem de valores reprovados: {porcentagem_maiores_que_um}%\")"
   ]
  },
  {
   "cell_type": "markdown",
   "metadata": {},
   "source": [
    "#### Visualização dos dados tratados\n",
    "\n",
    "* Visualiza tabela final para cada simulação, com os pontos medido e seu menor valor de gamma-index calculado."
   ]
  },
  {
   "cell_type": "code",
   "execution_count": null,
   "metadata": {},
   "outputs": [],
   "source": [
    "# Cria um dataframe para os valores obtidos da primeira simulação\n",
    "df_februaryGammaIndex_sim_4 = pd.DataFrame(list(gamma_index_feb_4.items()), columns=['Pontos Medidos (X,Y)', 'Gamma Index'])"
   ]
  },
  {
   "cell_type": "code",
   "execution_count": null,
   "metadata": {},
   "outputs": [],
   "source": [
    "# Visualiza o DataFrame com os devidos tratamentos\n",
    "print(df_februaryGammaIndex_sim_4.head(25))"
   ]
  },
  {
   "cell_type": "markdown",
   "metadata": {},
   "source": [
    "### Resultados - 5ª Simulação"
   ]
  },
  {
   "cell_type": "markdown",
   "metadata": {},
   "source": [
    "#### Leitura dos dados\n",
    "\n",
    "* Lê os dados do arquivo .csv com os dados do mês de Agosto."
   ]
  },
  {
   "cell_type": "code",
   "execution_count": null,
   "metadata": {},
   "outputs": [],
   "source": [
    "# Leitura dos dados do mês de Agosto refente à 1ª Simulação e criação do Dataframe\n",
    "february_data_sim_5 = './Fevereiro_23/Matrizes das Simulações para o Programa - Simulação 5 - Fevereiro.csv'\n",
    "df_februaryData_sim_5 = pd.read_csv(february_data_sim_5)\n",
    "\n",
    "# Informações do Dataframe dos dados\n",
    "print(df_februaryData_sim_5.info())"
   ]
  },
  {
   "cell_type": "markdown",
   "metadata": {},
   "source": [
    "#### Valores de Gamma-Index\n",
    "\n",
    "* Analisa os 49 pontos calculados para cada ponto medido calculando o gamma-index para cada um desses pontos,\n",
    "* Retorna o menor gamma-index dos calculados para cada ponto medido, com seu respectivo ponto medido."
   ]
  },
  {
   "cell_type": "code",
   "execution_count": null,
   "metadata": {},
   "outputs": [],
   "source": [
    "# Obtém o valor máximo dentre as doses medidas\n",
    "max_Dm = df_februaryData_sim_5['Dose Medida (Dm)'].max()\n",
    "\n",
    "# Criação do dicionário que irá salvar os valores gamma-index para cada ponto\n",
    "gamma_index_feb_5 = {}"
   ]
  },
  {
   "cell_type": "code",
   "execution_count": null,
   "metadata": {},
   "outputs": [],
   "source": [
    "# Calcula os valores de gamma-index de cada ponto e salva no dicionário os menores valores\n",
    "for i in range(0, len(df_februaryData_sim_5), 49):\n",
    "    group_df = df_februaryData_sim_5.iloc[i:i+49]  # Selecionar grupo de 49 pontos\n",
    "    min_gamma = group_df.apply(lambda row: position_module(row, max_Dm), axis=1).min()\n",
    "       \n",
    "    # Salva o menor valor de gamma-index no dicionário\n",
    "    x_coord = group_df.iloc[0]['Ponto Medido X (rm_x)']\n",
    "    y_coord = group_df.iloc[0]['Ponto Medido Y (rm_y)']\n",
    "    gamma_index_feb_5['{},{}'.format(x_coord, y_coord)] = min_gamma.round(2)"
   ]
  },
  {
   "cell_type": "markdown",
   "metadata": {},
   "source": [
    "#### Análise dos valores obtidos\n",
    "\n",
    "* Retorna quais valores estão 'acima' e 'abaixo ou igual' a 1, classificando-os como 'pontos reprovados' e 'pontos aprovados', respectivamente,\n",
    "* Também cria um dataframe dos pontos analisados com seus respectivos gamma-index."
   ]
  },
  {
   "cell_type": "code",
   "execution_count": null,
   "metadata": {},
   "outputs": [],
   "source": [
    "# Contar a quantidade de valores menores ou iguais a 1 e a quantidade de valores maiores que 1\n",
    "menores_ou_iguais_que_um = sum(1 for valor in gamma_index_feb_5.values() if valor <= 1)\n",
    "\n",
    "maiores_que_um = sum(1 for valor in gamma_index_feb_5.values() if valor > 1)\n",
    "\n",
    "# Total de valores do gamma-index\n",
    "total_valores = len(gamma_index_feb_5)\n",
    "\n",
    "# Calcular as porcentagens dos valores acima\n",
    "porcentagem_maiores_que_um = (quantidade_menores_ou_iguais_que_um / total_valores) * 100\n",
    "\n",
    "porcentagem_menores_que_um = (quantidade_maiores_que_um / total_valores) * 100"
   ]
  },
  {
   "cell_type": "code",
   "execution_count": null,
   "metadata": {},
   "outputs": [],
   "source": [
    "# Imprimir os resultados\n",
    "print(\"Valores referentes às medidas da 5ª Simulação de Fevereiro\")\n",
    "print()\n",
    "print(\"Total de pontos analisados:\", total_valores)\n",
    "print(f\"Diferença de percentual de dose: {delta_Dm*100}%\")\n",
    "print(f\"DTA utilizado: {delta_dM} mm\")\n",
    "print()\n",
    "print(\"Quantidade de valores aprovados, ou seja, menores ou iguais a 1:\", quantidade_menores_ou_iguais_a_1)\n",
    "print(\"Quantidade de valores reprovados, ou seja, maiores que 1:\", quantidade_maiores_que_1)\n",
    "print()\n",
    "print(f\"Porcentagem de valores aprovados: {porcentagem_menores_que_um}%\")\n",
    "print(f\"Porcentagem de valores reprovados: {porcentagem_maiores_que_um}%\")"
   ]
  },
  {
   "cell_type": "markdown",
   "metadata": {},
   "source": [
    "#### Visualização dos dados tratados\n",
    "\n",
    "* Visualiza tabela final para cada simulação, com os pontos medido e seu menor valor de gamma-index calculado."
   ]
  },
  {
   "cell_type": "code",
   "execution_count": null,
   "metadata": {},
   "outputs": [],
   "source": [
    "# Cria um dataframe para os valores obtidos da primeira simulação\n",
    "df_februaryGammaIndex_sim_5 = pd.DataFrame(list(gamma_index_feb_5.items()), columns=['Pontos Medidos (X,Y)', 'Gamma Index'])"
   ]
  },
  {
   "cell_type": "code",
   "execution_count": null,
   "metadata": {},
   "outputs": [],
   "source": [
    "# Visualiza o DataFrame com os devidos tratamentos\n",
    "print(df_februaryGammaIndex_sim_5.head(25))"
   ]
  },
  {
   "cell_type": "markdown",
   "metadata": {},
   "source": [
    "### Resultados - 6ª Simulação"
   ]
  },
  {
   "cell_type": "markdown",
   "metadata": {},
   "source": [
    "#### Leitura dos dados\n",
    "\n",
    "* Lê os dados do arquivo .csv com os dados do mês de Agosto."
   ]
  },
  {
   "cell_type": "code",
   "execution_count": null,
   "metadata": {},
   "outputs": [],
   "source": [
    "# Leitura dos dados do mês de Agosto refente à 1ª Simulação e criação do Dataframe\n",
    "february_data_sim_6 = './Fevereiro_23/Matrizes das Simulações para o Programa - Simulação 6 - Fevereiro.csv'\n",
    "df_februaryData_sim_6 = pd.read_csv(february_data_sim_6)\n",
    "\n",
    "# Informações do Dataframe dos dados\n",
    "print(df_februaryData_sim_6.info())"
   ]
  },
  {
   "cell_type": "markdown",
   "metadata": {},
   "source": [
    "#### Valores de Gamma-Index\n",
    "\n",
    "* Analisa os 49 pontos calculados para cada ponto medido calculando o gamma-index para cada um desses pontos,\n",
    "* Retorna o menor gamma-index dos calculados para cada ponto medido, com seu respectivo ponto medido."
   ]
  },
  {
   "cell_type": "code",
   "execution_count": null,
   "metadata": {},
   "outputs": [],
   "source": [
    "# Obtém o valor máximo dentre as doses medidas\n",
    "max_Dm = df_februaryData_sim_6['Dose Medida (Dm)'].max()\n",
    "\n",
    "# Criação do dicionário que irá salvar os valores gamma-index para cada ponto\n",
    "gamma_index_feb_6 = {}"
   ]
  },
  {
   "cell_type": "code",
   "execution_count": null,
   "metadata": {},
   "outputs": [],
   "source": [
    "# Calcula os valores de gamma-index de cada ponto e salva no dicionário os menores valores\n",
    "for i in range(0, len(df_februaryData_sim_6), 49):\n",
    "    group_df = df_februaryData_sim_6.iloc[i:i+49]  # Selecionar grupo de 49 pontos\n",
    "    min_gamma = group_df.apply(lambda row: position_module(row, max_Dm), axis=1).min()\n",
    "       \n",
    "    # Salva o menor valor de gamma-index no dicionário\n",
    "    x_coord = group_df.iloc[0]['Ponto Medido X (rm_x)']\n",
    "    y_coord = group_df.iloc[0]['Ponto Medido Y (rm_y)']\n",
    "    gamma_index_feb_6['{},{}'.format(x_coord, y_coord)] = min_gamma.round(2)"
   ]
  },
  {
   "cell_type": "markdown",
   "metadata": {},
   "source": [
    "#### Análise dos valores obtidos\n",
    "\n",
    "* Retorna quais valores estão 'acima' e 'abaixo ou igual' a 1, classificando-os como 'pontos reprovados' e 'pontos aprovados', respectivamente,\n",
    "* Também cria um dataframe dos pontos analisados com seus respectivos gamma-index."
   ]
  },
  {
   "cell_type": "code",
   "execution_count": null,
   "metadata": {},
   "outputs": [],
   "source": [
    "# Contar a quantidade de valores menores ou iguais a 1 e a quantidade de valores maiores que 1\n",
    "menores_ou_iguais_que_um = sum(1 for valor in gamma_index_feb_6.values() if valor <= 1)\n",
    "\n",
    "maiores_que_um = sum(1 for valor in gamma_index_feb_6.values() if valor > 1)\n",
    "\n",
    "# Total de valores do gamma-index\n",
    "total_valores = len(gamma_index_feb_6)\n",
    "\n",
    "# Calcular as porcentagens dos valores acima\n",
    "porcentagem_maiores_que_um = (quantidade_menores_ou_iguais_que_um / total_valores) * 100\n",
    "\n",
    "porcentagem_menores_que_um = (quantidade_maiores_que_um / total_valores) * 100"
   ]
  },
  {
   "cell_type": "code",
   "execution_count": null,
   "metadata": {},
   "outputs": [],
   "source": [
    "# Imprimir os resultados\n",
    "print(\"Valores referentes às medidas da 6ª Simulação de Fevereiro\")\n",
    "print()\n",
    "print(\"Total de pontos analisados:\", total_valores)\n",
    "print(f\"Diferença de percentual de dose: {delta_Dm*100}%\")\n",
    "print(f\"DTA utilizado: {delta_dM} mm\")\n",
    "print()\n",
    "print(\"Quantidade de valores aprovados, ou seja, menores ou iguais a 1:\", quantidade_menores_ou_iguais_a_1)\n",
    "print(\"Quantidade de valores reprovados, ou seja, maiores que 1:\", quantidade_maiores_que_1)\n",
    "print()\n",
    "print(f\"Porcentagem de valores aprovados: {porcentagem_menores_que_um}%\")\n",
    "print(f\"Porcentagem de valores reprovados: {porcentagem_maiores_que_um}%\")"
   ]
  },
  {
   "cell_type": "markdown",
   "metadata": {},
   "source": [
    "#### Visualização dos dados tratados\n",
    "\n",
    "* Visualiza tabela final para cada simulação, com os pontos medido e seu menor valor de gamma-index calculado."
   ]
  },
  {
   "cell_type": "code",
   "execution_count": null,
   "metadata": {},
   "outputs": [],
   "source": [
    "# Cria um dataframe para os valores obtidos da primeira simulação\n",
    "df_februaryGammaIndex_sim_6 = pd.DataFrame(list(gamma_index_feb_6.items()), columns=['Pontos Medidos (X,Y)', 'Gamma Index'])"
   ]
  },
  {
   "cell_type": "code",
   "execution_count": null,
   "metadata": {},
   "outputs": [],
   "source": [
    "# Visualiza o DataFrame com os devidos tratamentos\n",
    "print(df_februaryGammaIndex_sim_6.head(25))"
   ]
  },
  {
   "cell_type": "markdown",
   "metadata": {},
   "source": [
    "### Resultados - 7ª Simulação"
   ]
  },
  {
   "cell_type": "markdown",
   "metadata": {},
   "source": [
    "#### Leitura dos dados\n",
    "\n",
    "* Lê os dados do arquivo .csv com os dados do mês de Agosto."
   ]
  },
  {
   "cell_type": "code",
   "execution_count": null,
   "metadata": {},
   "outputs": [],
   "source": [
    "# Leitura dos dados do mês de Agosto refente à 1ª Simulação e criação do Dataframe\n",
    "february_data_sim_7 = './Fevereiro_23/Matrizes das Simulações para o Programa - Simulação 1 - Fevereiro.csv'\n",
    "df_februaryData_sim_7 = pd.read_csv(february_data_sim_7)\n",
    "\n",
    "# Informações do Dataframe dos dados\n",
    "print(df_februaryData_sim_7.info())"
   ]
  },
  {
   "cell_type": "markdown",
   "metadata": {},
   "source": [
    "#### Valores de Gamma-Index\n",
    "\n",
    "* Analisa os 49 pontos calculados para cada ponto medido calculando o gamma-index para cada um desses pontos,\n",
    "* Retorna o menor gamma-index dos calculados para cada ponto medido, com seu respectivo ponto medido."
   ]
  },
  {
   "cell_type": "code",
   "execution_count": null,
   "metadata": {},
   "outputs": [],
   "source": [
    "# Obtém o valor máximo dentre as doses medidas\n",
    "max_Dm = df_februaryData_sim_7['Dose Medida (Dm)'].max()\n",
    "\n",
    "# Criação do dicionário que irá salvar os valores gamma-index para cada ponto\n",
    "gamma_index_feb_7 = {}"
   ]
  },
  {
   "cell_type": "code",
   "execution_count": null,
   "metadata": {},
   "outputs": [],
   "source": [
    "# Calcula os valores de gamma-index de cada ponto e salva no dicionário os menores valores\n",
    "for i in range(0, len(df_februaryData_sim_7), 49):\n",
    "    group_df = df_februaryData_sim_7.iloc[i:i+49]  # Selecionar grupo de 49 pontos\n",
    "    min_gamma = group_df.apply(lambda row: position_module(row, max_Dm), axis=1).min()\n",
    "       \n",
    "    # Salva o menor valor de gamma-index no dicionário\n",
    "    x_coord = group_df.iloc[0]['Ponto Medido X (rm_x)']\n",
    "    y_coord = group_df.iloc[0]['Ponto Medido Y (rm_y)']\n",
    "    gamma_index_feb_7['{},{}'.format(x_coord, y_coord)] = min_gamma.round(2)"
   ]
  },
  {
   "cell_type": "markdown",
   "metadata": {},
   "source": [
    "#### Análise dos valores obtidos\n",
    "\n",
    "* Retorna quais valores estão 'acima' e 'abaixo ou igual' a 1, classificando-os como 'pontos reprovados' e 'pontos aprovados', respectivamente,\n",
    "* Também cria um dataframe dos pontos analisados com seus respectivos gamma-index."
   ]
  },
  {
   "cell_type": "code",
   "execution_count": null,
   "metadata": {},
   "outputs": [],
   "source": [
    "# Contar a quantidade de valores menores ou iguais a 1 e a quantidade de valores maiores que 1\n",
    "menores_ou_iguais_que_um = sum(1 for valor in gamma_index_feb_7.values() if valor <= 1)\n",
    "\n",
    "maiores_que_um = sum(1 for valor in gamma_index_feb_7.values() if valor > 1)\n",
    "\n",
    "# Total de valores do gamma-index\n",
    "total_valores = len(gamma_index_feb_7)\n",
    "\n",
    "# Calcular as porcentagens dos valores acima\n",
    "porcentagem_maiores_que_um = (quantidade_menores_ou_iguais_que_um / total_valores) * 100\n",
    "\n",
    "porcentagem_menores_que_um = (quantidade_maiores_que_um / total_valores) * 100"
   ]
  },
  {
   "cell_type": "code",
   "execution_count": null,
   "metadata": {},
   "outputs": [],
   "source": [
    "# Imprimir os resultados\n",
    "print(\"Valores referentes às medidas da 7ª Simulação de Fevereiro\")\n",
    "print()\n",
    "print(\"Total de pontos analisados:\", total_valores)\n",
    "print(f\"Diferença de percentual de dose: {delta_Dm*100}%\")\n",
    "print(f\"DTA utilizado: {delta_dM} mm\")\n",
    "print()\n",
    "print(\"Quantidade de valores aprovados, ou seja, menores ou iguais a 1:\", quantidade_menores_ou_iguais_a_1)\n",
    "print(\"Quantidade de valores reprovados, ou seja, maiores que 1:\", quantidade_maiores_que_1)\n",
    "print()\n",
    "print(f\"Porcentagem de valores aprovados: {porcentagem_menores_que_um}%\")\n",
    "print(f\"Porcentagem de valores reprovados: {porcentagem_maiores_que_um}%\")"
   ]
  },
  {
   "cell_type": "markdown",
   "metadata": {},
   "source": [
    "#### Visualização dos dados tratados\n",
    "\n",
    "* Visualiza tabela final para cada simulação, com os pontos medido e seu menor valor de gamma-index calculado."
   ]
  },
  {
   "cell_type": "code",
   "execution_count": null,
   "metadata": {},
   "outputs": [],
   "source": [
    "# Cria um dataframe para os valores obtidos da primeira simulação\n",
    "df_februaryGammaIndex_sim_7 = pd.DataFrame(list(gamma_index_feb_7.items()), columns=['Pontos Medidos (X,Y)', 'Gamma Index'])"
   ]
  },
  {
   "cell_type": "code",
   "execution_count": null,
   "metadata": {},
   "outputs": [],
   "source": [
    "# Visualiza o DataFrame com os devidos tratamentos\n",
    "print(df_februaryGammaIndex_sim_7.head(25))"
   ]
  },
  {
   "cell_type": "markdown",
   "metadata": {},
   "source": [
    "## *Salvando os Resultados*\n",
    "\n",
    "* Abaixo, os resultados são salvos em um arquivo no formato Excel, com os resultados de cada mês em uma aba diferente"
   ]
  },
  {
   "cell_type": "code",
   "execution_count": null,
   "metadata": {},
   "outputs": [],
   "source": [
    "# Criando um arquivo 'resultados_analises_programa.xlsx' em formato Excel, que conterá duas abas, uma para cada DataFrame\n",
    "with pd.ExcelWriter('resultados_analises_programa.xlsx', engine='xlsxwriter') as writer:\n",
    "    # Salvando o primeiro DataFrame (Agosto)) em uma aba chamada 'Resultados - Agosto'\n",
    "    df_augustData.to_excel(writer, sheet_name='Resultados - Agosto', index=False)\n",
    "\n",
    "    # Salvando o segundo DataFrame (Fevereiro) em uma aba chamada 'Resultados - Fevereiro'\n",
    "    df_februaryData.to_excel(writer, sheet_name='Resultados - Fevereiro', index=False)"
   ]
  }
 ],
 "metadata": {
  "kernelspec": {
   "display_name": "Python 3",
   "language": "python",
   "name": "python3"
  },
  "language_info": {
   "codemirror_mode": {
    "name": "ipython",
    "version": 3
   },
   "file_extension": ".py",
   "mimetype": "text/x-python",
   "name": "python",
   "nbconvert_exporter": "python",
   "pygments_lexer": "ipython3",
   "version": "3.10.12"
  },
  "orig_nbformat": 4
 },
 "nbformat": 4,
 "nbformat_minor": 2
}
